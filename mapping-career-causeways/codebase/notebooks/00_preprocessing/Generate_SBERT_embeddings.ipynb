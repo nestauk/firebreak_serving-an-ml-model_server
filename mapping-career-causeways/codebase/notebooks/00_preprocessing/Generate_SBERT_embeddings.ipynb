{
 "cells": [
  {
   "cell_type": "markdown",
   "metadata": {
    "id": "nbOmHjoNGsO5"
   },
   "source": [
    "# Calculate Sentence-BERT embeddings of skills and occupations\n",
    "\n",
    "We use `sentence_transformers` package for generating Sentence-BERT embeddings (see more information [on their github page](https://github.com/UKPLab/sentence-transformers)).\n",
    "\n",
    "For much faster calculations, you can also use [this Google Colab notebook](https://colab.research.google.com/drive/1EfEXjdu4MYZMmr7X2gymFamxpw_J23me?usp=sharing), with the GPU enabled."
   ]
  },
  {
   "cell_type": "markdown",
   "metadata": {
    "id": "azcX8KW5LBOP"
   },
   "source": [
    "# 0. Import dependencies and inputs"
   ]
  },
  {
   "cell_type": "code",
   "execution_count": 5,
   "metadata": {},
   "outputs": [],
   "source": [
    "%run ../notebook_preamble.ipy\n",
    "\n",
    "skills = pd.read_csv(data_folder + 'processed/ESCO_skills.csv')\n",
    "occupations = pd.read_csv(data_folder + 'processed/ESCO_occupations.csv')"
   ]
  },
  {
   "cell_type": "code",
   "execution_count": 2,
   "metadata": {
    "id": "31zmC-wjJBYF"
   },
   "outputs": [],
   "source": [
    "from sentence_transformers import SentenceTransformer\n",
    "bert_model = 'bert-base-nli-mean-tokens'\n",
    "model = SentenceTransformer(bert_model)"
   ]
  },
  {
   "cell_type": "code",
   "execution_count": 3,
   "metadata": {
    "id": "ebfjibjloXGK"
   },
   "outputs": [],
   "source": [
    "import pandas as pd\n",
    "import numpy as np\n",
    "from time import time"
   ]
  },
  {
   "cell_type": "code",
   "execution_count": 25,
   "metadata": {},
   "outputs": [],
   "source": [
    "def calculate_embeddings(list_of_sentences, save_name=None):\n",
    "\n",
    "    # Calculate the sentence embeddings\n",
    "    t = time()\n",
    "    print(f'Calculating {len(list_of_sentences)} embeddings...', end=' ')\n",
    "    sentence_embeddings = np.array(model.encode(list_of_sentences))\n",
    "    print(f'Done in {time()-t:.2f} seconds')\n",
    "\n",
    "    # Save the embeddings\n",
    "    if save_name is not None:\n",
    "        save_file = f'{data_folder}interim/embeddings/{save_name}.npy'\n",
    "        np.save(save_file, sentence_embeddings)\n",
    "        print(f'Embeddings saved in {save_file}')\n",
    "    \n",
    "    return sentence_embeddings"
   ]
  },
  {
   "cell_type": "markdown",
   "metadata": {
    "id": "QpXQFwbdLHCY"
   },
   "source": [
    "# 1. Calculate embeddings of skills descriptions"
   ]
  },
  {
   "cell_type": "code",
   "execution_count": 26,
   "metadata": {},
   "outputs": [
    {
     "data": {
      "text/html": [
       "<div>\n",
       "<style scoped>\n",
       "    .dataframe tbody tr th:only-of-type {\n",
       "        vertical-align: middle;\n",
       "    }\n",
       "\n",
       "    .dataframe tbody tr th {\n",
       "        vertical-align: top;\n",
       "    }\n",
       "\n",
       "    .dataframe thead th {\n",
       "        text-align: right;\n",
       "    }\n",
       "</style>\n",
       "<table border=\"1\" class=\"dataframe\">\n",
       "  <thead>\n",
       "    <tr style=\"text-align: right;\">\n",
       "      <th></th>\n",
       "      <th>concept_type</th>\n",
       "      <th>concept_uri</th>\n",
       "      <th>skill_type</th>\n",
       "      <th>reuse_level</th>\n",
       "      <th>preferred_label</th>\n",
       "      <th>alt_labels</th>\n",
       "      <th>description</th>\n",
       "      <th>id</th>\n",
       "    </tr>\n",
       "  </thead>\n",
       "  <tbody>\n",
       "    <tr>\n",
       "      <th>0</th>\n",
       "      <td>KnowledgeSkillCompetence</td>\n",
       "      <td>http://data.europa.eu/esco/skill/0005c151-5b5a...</td>\n",
       "      <td>skill/competence</td>\n",
       "      <td>sector-specific</td>\n",
       "      <td>manage musical staff</td>\n",
       "      <td>manage staff of music\\ncoordinate duties of mu...</td>\n",
       "      <td>Assign and manage staff tasks in areas such as...</td>\n",
       "      <td>0</td>\n",
       "    </tr>\n",
       "  </tbody>\n",
       "</table>\n",
       "</div>"
      ],
      "text/plain": [
       "               concept_type  \\\n",
       "0  KnowledgeSkillCompetence   \n",
       "\n",
       "                                         concept_uri        skill_type  \\\n",
       "0  http://data.europa.eu/esco/skill/0005c151-5b5a...  skill/competence   \n",
       "\n",
       "       reuse_level       preferred_label  \\\n",
       "0  sector-specific  manage musical staff   \n",
       "\n",
       "                                          alt_labels  \\\n",
       "0  manage staff of music\\ncoordinate duties of mu...   \n",
       "\n",
       "                                         description  id  \n",
       "0  Assign and manage staff tasks in areas such as...   0  "
      ]
     },
     "execution_count": 26,
     "metadata": {},
     "output_type": "execute_result"
    }
   ],
   "source": [
    "skills.head(1)"
   ]
  },
  {
   "cell_type": "code",
   "execution_count": 27,
   "metadata": {},
   "outputs": [
    {
     "name": "stdout",
     "output_type": "stream",
     "text": [
      "13485\n"
     ]
    }
   ],
   "source": [
    "print(len(skills))"
   ]
  },
  {
   "cell_type": "code",
   "execution_count": 28,
   "metadata": {},
   "outputs": [
    {
     "name": "stdout",
     "output_type": "stream",
     "text": [
      "Calculating 3 embeddings... Done in 0.37 seconds\n",
      "Embeddings saved in /Users/karliskanders/Documents/mapping-career-causeways/codebase/data/interim/embeddings/embeddings_skills_description_SBERT.npy\n"
     ]
    }
   ],
   "source": [
    "# Skills description embeddings\n",
    "sentence_embeddings = calculate_embeddings(skills.description.to_list(),\n",
    "                                           save_name='embeddings_skills_description_SBERT')\n"
   ]
  },
  {
   "cell_type": "code",
   "execution_count": 29,
   "metadata": {},
   "outputs": [
    {
     "name": "stdout",
     "output_type": "stream",
     "text": [
      "(3, 768)\n"
     ]
    }
   ],
   "source": [
    "print(sentence_embeddings.shape)"
   ]
  },
  {
   "cell_type": "markdown",
   "metadata": {
    "id": "6aYoVIEUlThQ"
   },
   "source": [
    "# 2. Calculate embeddings of occupation descriptions "
   ]
  },
  {
   "cell_type": "code",
   "execution_count": 30,
   "metadata": {},
   "outputs": [
    {
     "data": {
      "text/html": [
       "<div>\n",
       "<style scoped>\n",
       "    .dataframe tbody tr th:only-of-type {\n",
       "        vertical-align: middle;\n",
       "    }\n",
       "\n",
       "    .dataframe tbody tr th {\n",
       "        vertical-align: top;\n",
       "    }\n",
       "\n",
       "    .dataframe thead th {\n",
       "        text-align: right;\n",
       "    }\n",
       "</style>\n",
       "<table border=\"1\" class=\"dataframe\">\n",
       "  <thead>\n",
       "    <tr style=\"text-align: right;\">\n",
       "      <th></th>\n",
       "      <th>concept_type</th>\n",
       "      <th>concept_uri</th>\n",
       "      <th>isco_group</th>\n",
       "      <th>preferred_label</th>\n",
       "      <th>alt_labels</th>\n",
       "      <th>description</th>\n",
       "      <th>id</th>\n",
       "    </tr>\n",
       "  </thead>\n",
       "  <tbody>\n",
       "    <tr>\n",
       "      <th>0</th>\n",
       "      <td>Occupation</td>\n",
       "      <td>http://data.europa.eu/esco/occupation/00030d09...</td>\n",
       "      <td>2166</td>\n",
       "      <td>technical director</td>\n",
       "      <td>technical and operations director\\nhead of tec...</td>\n",
       "      <td>Technical directors realise the artistic visio...</td>\n",
       "      <td>0</td>\n",
       "    </tr>\n",
       "  </tbody>\n",
       "</table>\n",
       "</div>"
      ],
      "text/plain": [
       "  concept_type                                        concept_uri  isco_group  \\\n",
       "0   Occupation  http://data.europa.eu/esco/occupation/00030d09...        2166   \n",
       "\n",
       "      preferred_label                                         alt_labels  \\\n",
       "0  technical director  technical and operations director\\nhead of tec...   \n",
       "\n",
       "                                         description  id  \n",
       "0  Technical directors realise the artistic visio...   0  "
      ]
     },
     "execution_count": 30,
     "metadata": {},
     "output_type": "execute_result"
    }
   ],
   "source": [
    "occupations.head(1)"
   ]
  },
  {
   "cell_type": "code",
   "execution_count": 31,
   "metadata": {},
   "outputs": [
    {
     "name": "stdout",
     "output_type": "stream",
     "text": [
      "2942\n"
     ]
    }
   ],
   "source": [
    "print(len(occupations))"
   ]
  },
  {
   "cell_type": "code",
   "execution_count": 34,
   "metadata": {},
   "outputs": [
    {
     "name": "stdout",
     "output_type": "stream",
     "text": [
      "Calculating 3 embeddings... Done in 0.51 seconds\n",
      "Embeddings saved in /Users/karliskanders/Documents/mapping-career-causeways/codebase/data/interim/embeddings/embeddings_occupation_description_SBERT.npy\n"
     ]
    }
   ],
   "source": [
    "# Occupations description embeddings\n",
    "list_of_sentences = occupations.description.to_list()\n",
    "\n",
    "# Remove \\xa0 and \\n\n",
    "list_of_sentences = [s.replace(u'\\n', u' ') for s in list_of_sentences]\n",
    "list_of_sentences = [s.replace(u'\\xa0', u' ') for s in list_of_sentences]\n",
    "\n",
    "sentence_embeddings = calculate_embeddings(list_of_sentences,\n",
    "                                           save_name='embeddings_occupation_description_SBERT')\n"
   ]
  },
  {
   "cell_type": "code",
   "execution_count": 36,
   "metadata": {},
   "outputs": [
    {
     "data": {
      "text/plain": [
       "(3, 768)"
      ]
     },
     "execution_count": 36,
     "metadata": {},
     "output_type": "execute_result"
    }
   ],
   "source": [
    "sentence_embeddings.shape"
   ]
  }
 ],
 "metadata": {
  "accelerator": "GPU",
  "colab": {
   "machine_shape": "hm",
   "name": "Copy of esco_map_skills_embeddings.ipynb",
   "provenance": [],
   "toc_visible": true
  },
  "kernelspec": {
   "display_name": "Python 3",
   "language": "python",
   "name": "python3"
  },
  "language_info": {
   "codemirror_mode": {
    "name": "ipython",
    "version": 3
   },
   "file_extension": ".py",
   "mimetype": "text/x-python",
   "name": "python",
   "nbconvert_exporter": "python",
   "pygments_lexer": "ipython3",
   "version": "3.6.5"
  }
 },
 "nbformat": 4,
 "nbformat_minor": 1
}

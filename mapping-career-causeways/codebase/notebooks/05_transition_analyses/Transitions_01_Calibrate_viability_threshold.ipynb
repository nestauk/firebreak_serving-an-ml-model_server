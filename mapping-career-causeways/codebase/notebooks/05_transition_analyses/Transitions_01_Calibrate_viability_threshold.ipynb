{
 "cells": [
  {
   "cell_type": "markdown",
   "metadata": {},
   "source": [
    "# Data-driven calibration of transition viability thresholds\n",
    "\n",
    "We used the hierarchy of occupations inherent in the ESCO data set to derive a data-driven threshold for viable transitions along with an additional indicator for transitions that are highly viable."
   ]
  },
  {
   "cell_type": "markdown",
   "metadata": {},
   "source": [
    "# 0. Import dependencies and inputs"
   ]
  },
  {
   "cell_type": "code",
   "execution_count": 1,
   "metadata": {},
   "outputs": [],
   "source": [
    "%run ../notebook_preamble_Transitions.ipy\n",
    "import mapping_career_causeways.plotting_utils as plotting_utils\n",
    "from scipy.stats import percentileofscore\n",
    "from itertools import combinations\n",
    "\n",
    "data = load_data.Data()"
   ]
  },
  {
   "cell_type": "code",
   "execution_count": 2,
   "metadata": {},
   "outputs": [],
   "source": [
    "def flatten_without_diagonal(W):\n",
    "    \"\"\"\n",
    "    Return all matrix's W values, except the diagonal, in a flat vector, \n",
    "    \"\"\"\n",
    "    return np.concatenate((\n",
    "        W[np.triu_indices(W.shape[0], k=1)],\n",
    "        W[np.tril_indices(W.shape[0], k=-1)]))    "
   ]
  },
  {
   "cell_type": "code",
   "execution_count": 3,
   "metadata": {},
   "outputs": [],
   "source": [
    "# Import occupation table\n",
    "occupations = data.occupation_hierarchy\n",
    "\n",
    "# Combined similarity measure\n",
    "W = load_data.Similarities().W_combined"
   ]
  },
  {
   "cell_type": "code",
   "execution_count": 4,
   "metadata": {
    "scrolled": false
   },
   "outputs": [
    {
     "data": {
      "text/html": [
       "<div>\n",
       "<style scoped>\n",
       "    .dataframe tbody tr th:only-of-type {\n",
       "        vertical-align: middle;\n",
       "    }\n",
       "\n",
       "    .dataframe tbody tr th {\n",
       "        vertical-align: top;\n",
       "    }\n",
       "\n",
       "    .dataframe thead th {\n",
       "        text-align: right;\n",
       "    }\n",
       "</style>\n",
       "<table border=\"1\" class=\"dataframe\">\n",
       "  <thead>\n",
       "    <tr style=\"text-align: right;\">\n",
       "      <th></th>\n",
       "      <th>id</th>\n",
       "      <th>concept_type</th>\n",
       "      <th>concept_uri</th>\n",
       "      <th>preferred_label</th>\n",
       "      <th>isco_level_1</th>\n",
       "      <th>isco_level_2</th>\n",
       "      <th>isco_level_3</th>\n",
       "      <th>isco_level_4</th>\n",
       "      <th>is_top_level</th>\n",
       "      <th>is_second_level</th>\n",
       "      <th>is_third_level</th>\n",
       "      <th>is_fourth_level</th>\n",
       "      <th>parent_occupation_id</th>\n",
       "      <th>top_level_parent_id</th>\n",
       "    </tr>\n",
       "  </thead>\n",
       "  <tbody>\n",
       "    <tr>\n",
       "      <th>0</th>\n",
       "      <td>0</td>\n",
       "      <td>Occupation</td>\n",
       "      <td>http://data.europa.eu/esco/occupation/00030d09...</td>\n",
       "      <td>technical director</td>\n",
       "      <td>2</td>\n",
       "      <td>21</td>\n",
       "      <td>216</td>\n",
       "      <td>2166</td>\n",
       "      <td>False</td>\n",
       "      <td>True</td>\n",
       "      <td>False</td>\n",
       "      <td>False</td>\n",
       "      <td>2408.0</td>\n",
       "      <td>2408</td>\n",
       "    </tr>\n",
       "  </tbody>\n",
       "</table>\n",
       "</div>"
      ],
      "text/plain": [
       "   id concept_type                                        concept_uri  \\\n",
       "0   0   Occupation  http://data.europa.eu/esco/occupation/00030d09...   \n",
       "\n",
       "      preferred_label  isco_level_1  isco_level_2  isco_level_3  isco_level_4  \\\n",
       "0  technical director             2            21           216          2166   \n",
       "\n",
       "   is_top_level  is_second_level  is_third_level  is_fourth_level  \\\n",
       "0         False             True           False            False   \n",
       "\n",
       "   parent_occupation_id  top_level_parent_id  \n",
       "0                2408.0                 2408  "
      ]
     },
     "execution_count": 4,
     "metadata": {},
     "output_type": "execute_result"
    }
   ],
   "source": [
    "occupations.head(1)"
   ]
  },
  {
   "cell_type": "markdown",
   "metadata": {},
   "source": [
    "# 1. Calibrate viability treshold\n",
    "\n",
    "We set the threshold for viability to correspond to the typical similarity between closely related occupations\n",
    "that belong to the same ISCO unit group. For example, shop assistants and sales processors are both in the ISCO unit group ‘Shop sales assistants’ with the four-digit code 5223, and it is reasonable to assume that the transition between these two occupations should be viable.\n",
    "\n",
    "We calculated the average within-group occupation similarity for each ISCO unit group that had more than one occupation (using the combined similarity measure) and used the distribution of these within-group averages to make a judgement on the viability threshold. In the interest of obtaining more robust estimates of within-group averages, we used all occupations from the ESCO framework."
   ]
  },
  {
   "cell_type": "code",
   "execution_count": 5,
   "metadata": {},
   "outputs": [],
   "source": [
    "# Occupational hierarchy level that we are using (here, ISCO unit groups)\n",
    "group_category = 'isco_level_4'\n",
    "\n",
    "# Get all parent occupations *with at least 1 child*\n",
    "df = occupations.groupby(group_category).count()\n",
    "parents_with_children = df[df.id>1].index.to_list()\n",
    "\n",
    "### Calculate within-group similarity \n",
    "\n",
    "# similarity values\n",
    "w_same_group = [] \n",
    "# compared occupation IDs\n",
    "pairs = []\n",
    "# list of lists for each group of occupations\n",
    "w_within_groups = []\n",
    "\n",
    "for j in range(len(parents_with_children)):\n",
    "    \n",
    "    ids = occupations[occupations[group_category] == parents_with_children[j]].id.to_list()\n",
    "    w_within_group = []\n",
    "    \n",
    "    for pair in list(combinations(ids,2)):\n",
    "        \n",
    "        # Transitions in both directions\n",
    "        w_same_group.append(W[pair])\n",
    "        pairs.append(pair)\n",
    "        \n",
    "        w_same_group.append(W[(pair[1],pair[0])])\n",
    "        pairs.append((pair[1],pair[0]))    \n",
    "        \n",
    "        # List of lists, storing each groups within-group similarities\n",
    "        w_within_group.append(W[pair])\n",
    "        w_within_group.append(W[(pair[1],pair[0])])            \n",
    "        \n",
    "    w_within_groups.append(w_within_group)\n"
   ]
  },
  {
   "cell_type": "code",
   "execution_count": 6,
   "metadata": {},
   "outputs": [],
   "source": [
    "# Calculate the average within-group similarity for each group of occupations\n",
    "mean_within_group_sim = [np.mean(y) for y in w_within_groups]\n"
   ]
  },
  {
   "cell_type": "code",
   "execution_count": 7,
   "metadata": {},
   "outputs": [
    {
     "name": "stdout",
     "output_type": "stream",
     "text": [
      "0.4464874478887421\n",
      "0.4771832452168944\n"
     ]
    }
   ],
   "source": [
    "# Median & mean average-within-group similarities\n",
    "print(np.median(mean_within_group_sim))\n",
    "print(np.mean(mean_within_group_sim))"
   ]
  },
  {
   "cell_type": "code",
   "execution_count": 8,
   "metadata": {},
   "outputs": [
    {
     "name": "stdout",
     "output_type": "stream",
     "text": [
      "-2SD: 0.150\n",
      "-1.5SD: 0.231\n",
      "-1SD: 0.313\n",
      "0SD: 0.48\n",
      "+1SD: 0.641\n",
      "+1.5SD: 0.723\n",
      "+2SD: 0.805\n"
     ]
    }
   ],
   "source": [
    "# Check the spread of the aveage-within-group similarities (in terms of standard deviations)\n",
    "print(f'-2SD: {np.mean(mean_within_group_sim) - 2*np.std(mean_within_group_sim) :.3f}')\n",
    "print(f'-1.5SD: {np.mean(mean_within_group_sim) - 1.5*np.std(mean_within_group_sim) :.3f}')\n",
    "print(f'-1SD: {np.mean(mean_within_group_sim) - 1*np.std(mean_within_group_sim) :.3f}')\n",
    "print(f'0SD: {np.mean(mean_within_group_sim) :.2f}')\n",
    "print(f'+1SD: {np.mean(mean_within_group_sim) + 1*np.std(mean_within_group_sim) :.3f}')\n",
    "print(f'+1.5SD: {np.mean(mean_within_group_sim) + 1.5*np.std(mean_within_group_sim) :.3f}')\n",
    "print(f'+2SD: {np.mean(mean_within_group_sim) + 2*np.std(mean_within_group_sim) :.3f}')"
   ]
  },
  {
   "cell_type": "markdown",
   "metadata": {},
   "source": [
    "Interestingly, there was considerable variation across different ISCO unit groups, and hence we set the viability threshold as the mean minus one standard deviation of these within-group averages (rounded to the first decimal point). This yielded a viability threshold equal to 0.30, with approximately 80 per cent of the within-group transitions above this threshold."
   ]
  },
  {
   "cell_type": "code",
   "execution_count": 9,
   "metadata": {},
   "outputs": [
    {
     "name": "stdout",
     "output_type": "stream",
     "text": [
      "0.3\n"
     ]
    }
   ],
   "source": [
    "VIABILITY_THRESHOLD = np.round(np.mean(mean_within_group_sim) - 1*np.std(mean_within_group_sim), 1)\n",
    "print(VIABILITY_THRESHOLD)"
   ]
  },
  {
   "cell_type": "code",
   "execution_count": 10,
   "metadata": {},
   "outputs": [
    {
     "data": {
      "text/plain": [
       "0.8260183010770102"
      ]
     },
     "execution_count": 10,
     "metadata": {},
     "output_type": "execute_result"
    }
   ],
   "source": [
    "# Fraction of transitions above this threshold\n",
    "all_w = [x for y in w_within_groups for x in y]\n",
    "np.sum(np.array(all_w)>VIABILITY_THRESHOLD)/len(all_w)"
   ]
  },
  {
   "cell_type": "code",
   "execution_count": 11,
   "metadata": {},
   "outputs": [
    {
     "data": {
      "text/plain": [
       "0.88"
      ]
     },
     "execution_count": 11,
     "metadata": {},
     "output_type": "execute_result"
    }
   ],
   "source": [
    "# Fraction of ISCO unit groups above this threshold\n",
    "np.sum(np.array(mean_within_group_sim)>VIABILITY_THRESHOLD)/len(mean_within_group_sim)"
   ]
  },
  {
   "cell_type": "markdown",
   "metadata": {},
   "source": [
    "## 1.1 Visualise the distribution"
   ]
  },
  {
   "cell_type": "code",
   "execution_count": 12,
   "metadata": {},
   "outputs": [
    {
     "data": {
      "image/png": "[encoded data removed]",
      "text/plain": [
       "<Figure size 504x360 with 1 Axes>"
      ]
     },
     "metadata": {},
     "output_type": "display_data"
    }
   ],
   "source": [
    "# Distribution of within-group similarities\n",
    "sns.set_style(\"ticks\")\n",
    "plt.figure(figsize=(7,5))\n",
    "sns.distplot(mean_within_group_sim, kde=False, rug=True, bins=20)\n",
    "# Viability threshold\n",
    "plt.plot([VIABILITY_THRESHOLD, VIABILITY_THRESHOLD], [0, 60], c='r')\n",
    "\n",
    "plt.xlabel('Within-group similarity (ISCO unit groups)', fontsize=16)\n",
    "plt.ylabel('Number of unit groups', fontsize=16)\n",
    "plt.ylim([0, 60])\n",
    "plt.tick_params(axis='both', which='major', labelsize=14)\n",
    "plotting_utils.export_figure('fig_54')\n",
    "\n",
    "plt.show()"
   ]
  },
  {
   "cell_type": "markdown",
   "metadata": {},
   "source": [
    "### Check examples"
   ]
  },
  {
   "cell_type": "code",
   "execution_count": 13,
   "metadata": {},
   "outputs": [
    {
     "data": {
      "text/html": [
       "<div>\n",
       "<style scoped>\n",
       "    .dataframe tbody tr th:only-of-type {\n",
       "        vertical-align: middle;\n",
       "    }\n",
       "\n",
       "    .dataframe tbody tr th {\n",
       "        vertical-align: top;\n",
       "    }\n",
       "\n",
       "    .dataframe thead th {\n",
       "        text-align: right;\n",
       "    }\n",
       "</style>\n",
       "<table border=\"1\" class=\"dataframe\">\n",
       "  <thead>\n",
       "    <tr style=\"text-align: right;\">\n",
       "      <th></th>\n",
       "      <th>sim</th>\n",
       "      <th>isco</th>\n",
       "      <th>isco_title</th>\n",
       "    </tr>\n",
       "  </thead>\n",
       "  <tbody>\n",
       "    <tr>\n",
       "      <th>2</th>\n",
       "      <td>0.146489</td>\n",
       "      <td>310</td>\n",
       "      <td>NaN</td>\n",
       "    </tr>\n",
       "    <tr>\n",
       "      <th>218</th>\n",
       "      <td>0.149848</td>\n",
       "      <td>5169</td>\n",
       "      <td>Personal services workers not elsewhere classi...</td>\n",
       "    </tr>\n",
       "    <tr>\n",
       "      <th>181</th>\n",
       "      <td>0.158713</td>\n",
       "      <td>3433</td>\n",
       "      <td>Gallery, museum and library technicians</td>\n",
       "    </tr>\n",
       "    <tr>\n",
       "      <th>271</th>\n",
       "      <td>0.173569</td>\n",
       "      <td>7319</td>\n",
       "      <td>Handicraft workers not elsewhere classified</td>\n",
       "    </tr>\n",
       "    <tr>\n",
       "      <th>24</th>\n",
       "      <td>0.179447</td>\n",
       "      <td>1349</td>\n",
       "      <td>Professional services managers not elsewhere c...</td>\n",
       "    </tr>\n",
       "    <tr>\n",
       "      <th>...</th>\n",
       "      <td>...</td>\n",
       "      <td>...</td>\n",
       "      <td>...</td>\n",
       "    </tr>\n",
       "    <tr>\n",
       "      <th>304</th>\n",
       "      <td>0.887235</td>\n",
       "      <td>8132</td>\n",
       "      <td>Photographic products machine operators</td>\n",
       "    </tr>\n",
       "    <tr>\n",
       "      <th>66</th>\n",
       "      <td>0.894454</td>\n",
       "      <td>2330</td>\n",
       "      <td>Secondary education teachers</td>\n",
       "    </tr>\n",
       "    <tr>\n",
       "      <th>277</th>\n",
       "      <td>0.945005</td>\n",
       "      <td>7413</td>\n",
       "      <td>Electrical line installers and repairers</td>\n",
       "    </tr>\n",
       "    <tr>\n",
       "      <th>67</th>\n",
       "      <td>0.960500</td>\n",
       "      <td>2341</td>\n",
       "      <td>Primary school teachers</td>\n",
       "    </tr>\n",
       "    <tr>\n",
       "      <th>217</th>\n",
       "      <td>0.967569</td>\n",
       "      <td>5165</td>\n",
       "      <td>Driving instructors</td>\n",
       "    </tr>\n",
       "  </tbody>\n",
       "</table>\n",
       "<p>350 rows × 3 columns</p>\n",
       "</div>"
      ],
      "text/plain": [
       "          sim  isco                                         isco_title\n",
       "2    0.146489   310                                                NaN\n",
       "218  0.149848  5169  Personal services workers not elsewhere classi...\n",
       "181  0.158713  3433            Gallery, museum and library technicians\n",
       "271  0.173569  7319        Handicraft workers not elsewhere classified\n",
       "24   0.179447  1349  Professional services managers not elsewhere c...\n",
       "..        ...   ...                                                ...\n",
       "304  0.887235  8132            Photographic products machine operators\n",
       "66   0.894454  2330                       Secondary education teachers\n",
       "277  0.945005  7413           Electrical line installers and repairers\n",
       "67   0.960500  2341                            Primary school teachers\n",
       "217  0.967569  5165                                Driving instructors\n",
       "\n",
       "[350 rows x 3 columns]"
      ]
     },
     "execution_count": 13,
     "metadata": {},
     "output_type": "execute_result"
    }
   ],
   "source": [
    "df_isco_titles = pd.DataFrame(data={\n",
    "    'sim': mean_within_group_sim,\n",
    "    'isco': parents_with_children}).merge(data.isco_titles[['isco', 'isco_title']], how='left')\n",
    "df_isco_titles.sort_values('sim')"
   ]
  },
  {
   "cell_type": "markdown",
   "metadata": {},
   "source": [
    "# 2. Calibrate highly viable transitions\n",
    "\n",
    "The ESCO framework defines a further hierarchy of broader and narrower ESCO occupations that goes beyond the\n",
    "ISCO unit groups (cf. Figure 47, page 85 in the Mapping Career Causeways report). For example, butcher is related to two other, narrower occupations: halal butcher and kosher butcher. We leveraged this hierarchy to\n",
    "derive an indicator for highly viable transitions by defining ‘broad ESCO groups’ that contain the broad ESCO level\n",
    "5 occupation and all its narrower occupations (Figure 55, page 94 in the report).\n",
    "\n",
    "Analogous to the calibration process of the viability threshold, we set the indicator for highly viable transitions equal to the mean minus one standard deviation of the average within-group similarities of all broad ESCO groups rounded to the nearest decimal point."
   ]
  },
  {
   "cell_type": "code",
   "execution_count": 14,
   "metadata": {},
   "outputs": [],
   "source": [
    "# Occupational hierarchy level that we are using (here, ISCO unit groups)\n",
    "group_category = 'top_level_parent_id'\n",
    "\n",
    "# Get all broader top level parent occupations *with children (narrower occupations)*\n",
    "df = occupations.groupby(group_category).count()\n",
    "parents_with_children = df[df.id>1].index.to_list()\n",
    "\n",
    "## Calculate within-group similarity across all broader top-level occupations\n",
    "\n",
    "# similarity values\n",
    "w_same_group = [] \n",
    "# compared occupation IDs\n",
    "pairs = []\n",
    "# list of lists for each group of occupations\n",
    "w_within_groups = []\n",
    "\n",
    "for j in range(len(parents_with_children)):\n",
    "    \n",
    "    ids = occupations[occupations[group_category] == parents_with_children[j]].id.to_list()\n",
    "    w_within_group = []\n",
    "    \n",
    "    for pair in list(combinations(ids,2)):        \n",
    "        w_same_group.append(W[pair])\n",
    "        pairs.append(pair)\n",
    "        \n",
    "        w_same_group.append(W[(pair[1],pair[0])])\n",
    "        pairs.append((pair[1],pair[0]))    \n",
    "        \n",
    "        w_within_group.append(W[pair])\n",
    "        w_within_group.append(W[(pair[1],pair[0])])            \n",
    "        \n",
    "    w_within_groups.append(w_within_group)\n"
   ]
  },
  {
   "cell_type": "code",
   "execution_count": 15,
   "metadata": {},
   "outputs": [],
   "source": [
    "# Calculate the average within-group similarity for each group of occupations\n",
    "mean_within_group_sim = [np.mean(y) for y in w_within_groups]\n"
   ]
  },
  {
   "cell_type": "code",
   "execution_count": 16,
   "metadata": {},
   "outputs": [
    {
     "name": "stdout",
     "output_type": "stream",
     "text": [
      "0.5856344816634551\n",
      "0.5938798793360194\n"
     ]
    }
   ],
   "source": [
    "# Median & mean average-within-group similarities\n",
    "print(np.median(mean_within_group_sim))\n",
    "print(np.mean(mean_within_group_sim))"
   ]
  },
  {
   "cell_type": "code",
   "execution_count": 17,
   "metadata": {},
   "outputs": [
    {
     "name": "stdout",
     "output_type": "stream",
     "text": [
      "-2SD: 0.24\n",
      "-1.5SD: 0.33\n",
      "-1SD: 0.42\n",
      "0SD: 0.59\n",
      "+1SD: 0.77\n",
      "+1.5SD: 0.86\n",
      "+2SD: 0.95\n"
     ]
    }
   ],
   "source": [
    "# Standard deviations\n",
    "print(f'-2SD: {np.mean(mean_within_group_sim) - 2*np.std(mean_within_group_sim) :.2f}')\n",
    "print(f'-1.5SD: {np.mean(mean_within_group_sim) - 1.5*np.std(mean_within_group_sim) :.2f}')\n",
    "print(f'-1SD: {np.mean(mean_within_group_sim) - 1*np.std(mean_within_group_sim) :.2f}')\n",
    "print(f'0SD: {np.mean(mean_within_group_sim) :.2f}')\n",
    "print(f'+1SD: {np.mean(mean_within_group_sim) + 1*np.std(mean_within_group_sim) :.2f}')\n",
    "print(f'+1.5SD: {np.mean(mean_within_group_sim) + 1.5*np.std(mean_within_group_sim) :.2f}')\n",
    "print(f'+2SD: {np.mean(mean_within_group_sim) + 2*np.std(mean_within_group_sim) :.2f}')"
   ]
  },
  {
   "cell_type": "code",
   "execution_count": 18,
   "metadata": {},
   "outputs": [
    {
     "name": "stdout",
     "output_type": "stream",
     "text": [
      "0.4\n"
     ]
    }
   ],
   "source": [
    "HIGHLY_VIABLE_THRESHOLD = np.round(np.mean(mean_within_group_sim) - 1*np.std(mean_within_group_sim), 1)\n",
    "print(HIGHLY_VIABLE_THRESHOLD)"
   ]
  },
  {
   "cell_type": "markdown",
   "metadata": {},
   "source": [
    "## 2.1 Visualise the distribution"
   ]
  },
  {
   "cell_type": "code",
   "execution_count": 19,
   "metadata": {},
   "outputs": [
    {
     "data": {
      "image/png": "[encoded data removed]",
      "text/plain": [
       "<Figure size 504x360 with 1 Axes>"
      ]
     },
     "metadata": {},
     "output_type": "display_data"
    }
   ],
   "source": [
    "# Distribution of within-group similarities\n",
    "sns.set_style(\"ticks\")\n",
    "plt.figure(figsize=(7,5))\n",
    "sns.distplot(mean_within_group_sim, kde=False, rug=True, bins=15)\n",
    "plt.plot([HIGHLY_VIABLE_THRESHOLD, HIGHLY_VIABLE_THRESHOLD], [0, 60], c='r')\n",
    "\n",
    "plt.xlabel('Within-group similarity (Broad ESCO occupation groups)', fontsize=16)\n",
    "plt.ylabel('Number of broad ESCO groups', fontsize=16)\n",
    "plt.ylim([0, 45])\n",
    "plt.tick_params(axis='both', which='major', labelsize=14)\n",
    "plotting_utils.export_figure('fig_56')\n",
    "plt.show()\n"
   ]
  },
  {
   "cell_type": "markdown",
   "metadata": {},
   "source": [
    "### Check examples"
   ]
  },
  {
   "cell_type": "code",
   "execution_count": 20,
   "metadata": {},
   "outputs": [
    {
     "data": {
      "text/html": [
       "<div>\n",
       "<style scoped>\n",
       "    .dataframe tbody tr th:only-of-type {\n",
       "        vertical-align: middle;\n",
       "    }\n",
       "\n",
       "    .dataframe tbody tr th {\n",
       "        vertical-align: top;\n",
       "    }\n",
       "\n",
       "    .dataframe thead th {\n",
       "        text-align: right;\n",
       "    }\n",
       "</style>\n",
       "<table border=\"1\" class=\"dataframe\">\n",
       "  <thead>\n",
       "    <tr style=\"text-align: right;\">\n",
       "      <th></th>\n",
       "      <th>sim</th>\n",
       "      <th>id</th>\n",
       "      <th>preferred_label</th>\n",
       "    </tr>\n",
       "  </thead>\n",
       "  <tbody>\n",
       "    <tr>\n",
       "      <th>181</th>\n",
       "      <td>0.145179</td>\n",
       "      <td>2230</td>\n",
       "      <td>service manager</td>\n",
       "    </tr>\n",
       "    <tr>\n",
       "      <th>161</th>\n",
       "      <td>0.208920</td>\n",
       "      <td>2005</td>\n",
       "      <td>linguist</td>\n",
       "    </tr>\n",
       "    <tr>\n",
       "      <th>121</th>\n",
       "      <td>0.251967</td>\n",
       "      <td>1452</td>\n",
       "      <td>health and safety officer</td>\n",
       "    </tr>\n",
       "    <tr>\n",
       "      <th>10</th>\n",
       "      <td>0.262696</td>\n",
       "      <td>148</td>\n",
       "      <td>telephone switchboard operator</td>\n",
       "    </tr>\n",
       "    <tr>\n",
       "      <th>195</th>\n",
       "      <td>0.265305</td>\n",
       "      <td>2360</td>\n",
       "      <td>community health worker</td>\n",
       "    </tr>\n",
       "    <tr>\n",
       "      <th>...</th>\n",
       "      <td>...</td>\n",
       "      <td>...</td>\n",
       "      <td>...</td>\n",
       "    </tr>\n",
       "    <tr>\n",
       "      <th>3</th>\n",
       "      <td>0.960500</td>\n",
       "      <td>55</td>\n",
       "      <td>primary school teacher</td>\n",
       "    </tr>\n",
       "    <tr>\n",
       "      <th>180</th>\n",
       "      <td>0.967569</td>\n",
       "      <td>2225</td>\n",
       "      <td>driving instructor</td>\n",
       "    </tr>\n",
       "    <tr>\n",
       "      <th>56</th>\n",
       "      <td>0.973510</td>\n",
       "      <td>710</td>\n",
       "      <td>wholesale merchant</td>\n",
       "    </tr>\n",
       "    <tr>\n",
       "      <th>197</th>\n",
       "      <td>0.980899</td>\n",
       "      <td>2388</td>\n",
       "      <td>technical sales representative</td>\n",
       "    </tr>\n",
       "    <tr>\n",
       "      <th>53</th>\n",
       "      <td>0.983270</td>\n",
       "      <td>688</td>\n",
       "      <td>rental service representative</td>\n",
       "    </tr>\n",
       "  </tbody>\n",
       "</table>\n",
       "<p>230 rows × 3 columns</p>\n",
       "</div>"
      ],
      "text/plain": [
       "          sim    id                 preferred_label\n",
       "181  0.145179  2230                 service manager\n",
       "161  0.208920  2005                        linguist\n",
       "121  0.251967  1452       health and safety officer\n",
       "10   0.262696   148  telephone switchboard operator\n",
       "195  0.265305  2360         community health worker\n",
       "..        ...   ...                             ...\n",
       "3    0.960500    55          primary school teacher\n",
       "180  0.967569  2225              driving instructor\n",
       "56   0.973510   710              wholesale merchant\n",
       "197  0.980899  2388  technical sales representative\n",
       "53   0.983270   688   rental service representative\n",
       "\n",
       "[230 rows x 3 columns]"
      ]
     },
     "execution_count": 20,
     "metadata": {},
     "output_type": "execute_result"
    }
   ],
   "source": [
    "df_occ_titles = pd.DataFrame(data={\n",
    "    'sim':mean_within_group_sim,\n",
    "    'id': parents_with_children}).merge(data.occ[['id','preferred_label']], how='left')\n",
    "df_occ_titles.sort_values('sim')"
   ]
  },
  {
   "cell_type": "markdown",
   "metadata": {},
   "source": [
    "# 3. Summarise the viability thresholds\n",
    "\n",
    "Based on the observations above, we define transition similarities in the following way:\n",
    "- **Viable** transitions have similarity above 0.30. This corresponds to about mean minus one standard deviation of within--group similarity for four-digit ISCO unit groups.\n",
    "- **Highly viable transitions** have similarity above 0.40. This corresponds to mean minus one standard deviation for within-group similarity for broad ESCO occupation groups.\n"
   ]
  },
  {
   "cell_type": "code",
   "execution_count": 21,
   "metadata": {},
   "outputs": [
    {
     "data": {
      "text/plain": [
       "0.3"
      ]
     },
     "execution_count": 21,
     "metadata": {},
     "output_type": "execute_result"
    }
   ],
   "source": [
    "VIABILITY_THRESHOLD"
   ]
  },
  {
   "cell_type": "code",
   "execution_count": 22,
   "metadata": {},
   "outputs": [
    {
     "data": {
      "text/plain": [
       "0.4"
      ]
     },
     "execution_count": 22,
     "metadata": {},
     "output_type": "execute_result"
    }
   ],
   "source": [
    "HIGHLY_VIABLE_THRESHOLD"
   ]
  },
  {
   "cell_type": "markdown",
   "metadata": {},
   "source": [
    "# 4. Visualise the distribution of all similarities"
   ]
  },
  {
   "cell_type": "code",
   "execution_count": 23,
   "metadata": {},
   "outputs": [],
   "source": [
    "# All transition similarities \n",
    "w = flatten_without_diagonal(W)"
   ]
  },
  {
   "cell_type": "code",
   "execution_count": 24,
   "metadata": {},
   "outputs": [
    {
     "name": "stdout",
     "output_type": "stream",
     "text": [
      "Viable transitions are in the 96.0 precentile\n",
      "Highly viable transitions are in the 98.7 precentile\n"
     ]
    }
   ],
   "source": [
    "# Characterise the thresholds with respect to all possible transitions (between all ESCO occupations)\n",
    "print(f'Viable transitions are in the {percentileofscore(w, VIABILITY_THRESHOLD):.1f} precentile')\n",
    "print(f'Highly viable transitions are in the {percentileofscore(w, HIGHLY_VIABLE_THRESHOLD):.1f} precentile')"
   ]
  },
  {
   "cell_type": "code",
   "execution_count": 25,
   "metadata": {},
   "outputs": [
    {
     "data": {
      "image/png": "[encoded data removed]",
      "text/plain": [
       "<Figure size 504x360 with 1 Axes>"
      ]
     },
     "metadata": {},
     "output_type": "display_data"
    }
   ],
   "source": [
    "# Distribution of all similarities\n",
    "sns.set_style(\"ticks\")\n",
    "plt.figure(figsize=(7,5))\n",
    "sns.distplot(w, kde=False)\n",
    "\n",
    "# Viability thresholds\n",
    "plt.plot([VIABILITY_THRESHOLD, VIABILITY_THRESHOLD], [0, 2e+6], c='r')\n",
    "plt.plot([HIGHLY_VIABLE_THRESHOLD, HIGHLY_VIABLE_THRESHOLD], [0, 2e+6], c='b')\n",
    "\n",
    "plt.xlabel('Occupation similarity', fontsize=16)\n",
    "plt.ylabel('Number of comparisons (millions)', fontsize=16)\n",
    "plt.ylim([0, 1.3e+6])\n",
    "plt.tick_params(axis='both', which='major', labelsize=14)\n",
    "plotting_utils.export_figure('fig_57')\n",
    "plt.show()"
   ]
  }
 ],
 "metadata": {
  "kernelspec": {
   "display_name": "Python 3",
   "language": "python",
   "name": "python3"
  },
  "language_info": {
   "codemirror_mode": {
    "name": "ipython",
    "version": 3
   },
   "file_extension": ".py",
   "mimetype": "text/x-python",
   "name": "python",
   "nbconvert_exporter": "python",
   "pygments_lexer": "ipython3",
   "version": "3.6.5"
  }
 },
 "nbformat": 4,
 "nbformat_minor": 4
}

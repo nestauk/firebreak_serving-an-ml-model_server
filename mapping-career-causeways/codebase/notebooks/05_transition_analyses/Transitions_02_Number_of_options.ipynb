{
 "cells": [
  {
   "cell_type": "markdown",
   "metadata": {},
   "source": [
    "# Assessing the number of transition options\n",
    "\n",
    "Here we calculate the number of transition options for the 1627 occupations presented in the Mapping Career Causeways report."
   ]
  },
  {
   "cell_type": "markdown",
   "metadata": {},
   "source": [
    "# 0. Import dependencies and inputs"
   ]
  },
  {
   "cell_type": "code",
   "execution_count": 1,
   "metadata": {},
   "outputs": [],
   "source": [
    "%run ../notebook_preamble_Transitions.ipy\n",
    "import os\n",
    "\n",
    "data = load_data.Data()"
   ]
  },
  {
   "cell_type": "markdown",
   "metadata": {},
   "source": [
    "## 0.1 Generate 'filtering' matrices"
   ]
  },
  {
   "cell_type": "code",
   "execution_count": 2,
   "metadata": {},
   "outputs": [
    {
     "name": "stdout",
     "output_type": "stream",
     "text": [
      "Imported filtering matrices from /Users/karliskanders/Documents/mapping-career-causeways/codebase/data/interim/transitions/filter_matrices_Report_occupations.pickle\n"
     ]
    }
   ],
   "source": [
    "file_name = 'filter_matrices_Report_occupations.pickle'\n",
    "export_path = f'{data_folder}interim/transitions/{file_name}'\n",
    "\n",
    "if os.path.exists(export_path):\n",
    "    filter_matrices = pickle.load(open(export_path,'rb'))\n",
    "    print(f'Imported filtering matrices from {export_path}')\n",
    "else:\n",
    "    # May take about 30 mins\n",
    "    filter_matrices = trans_utils.create_filtering_matrices(\n",
    "        origin_ids='report', \n",
    "        destination_ids= 'report',\n",
    "        export_path = export_path)"
   ]
  },
  {
   "cell_type": "code",
   "execution_count": 3,
   "metadata": {},
   "outputs": [
    {
     "name": "stdout",
     "output_type": "stream",
     "text": [
      "F_viable\n",
      "F_min_viable\n",
      "F_highly_viable\n",
      "F_desirable\n",
      "F_jobzone\n",
      "F_earnings\n",
      "F_not_high_risk\n",
      "F_safer\n",
      "F_strictly_safe\n",
      "F_not_self\n",
      "F_safe_desirable\n",
      "F_strictly_safe_desirable\n",
      "origin_ids\n",
      "destination_ids\n"
     ]
    }
   ],
   "source": [
    "# All the different filtering matrices, and the identities of their rows (rows='origin_ids' & cols='destination_ids')\n",
    "for key in filter_matrices.keys():\n",
    "    print(key)"
   ]
  },
  {
   "cell_type": "markdown",
   "metadata": {},
   "source": [
    "# 1. Calculate the number of transitions for each occupation\n",
    "\n",
    "## 1.1 Number of desirable transitions\n",
    "\n",
    "First, we assess transitions that are desirable, meaning that they are both viable (sufficiently good fit in terms of skills, work activities and work context) and do not incure a major salary loss.\n"
   ]
  },
  {
   "cell_type": "code",
   "execution_count": 4,
   "metadata": {},
   "outputs": [],
   "source": [
    "# Desirable transitions\n",
    "n_desirable = np.sum(filter_matrices['F_desirable'], axis=1)\n",
    "\n",
    "# Highly viable, desirable transitions\n",
    "n_desirable_and_highly_viable = np.sum(\n",
    "    (filter_matrices['F_desirable'] & filter_matrices['F_highly_viable']), axis=1)"
   ]
  },
  {
   "cell_type": "markdown",
   "metadata": {},
   "source": [
    "## 1.2 Number of safe and desirable transitions (default condition)\n",
    "\n",
    "We use the default criteria for safe transitions - that safe destination is defined as not being 'high risk'. We use these results to compare 'high risk' versus 'lower risk' occupations ('lower risk' occupations belonging to the 'other' or 'low risk' categories)."
   ]
  },
  {
   "cell_type": "code",
   "execution_count": 5,
   "metadata": {},
   "outputs": [],
   "source": [
    "# Safe and desirable transitions\n",
    "n_safe_desirable = np.sum(filter_matrices['F_safe_desirable'], axis=1)\n",
    "\n",
    "# Highly viable, safe and desirable transitions\n",
    "n_safe_desirable_and_highly_viable = np.sum(\n",
    "    (filter_matrices['F_safe_desirable'] & filter_matrices['F_highly_viable']), axis=1)\n"
   ]
  },
  {
   "cell_type": "markdown",
   "metadata": {},
   "source": [
    "## 1.3 Number of safe and desirable transitions (strict condition)\n",
    "\n",
    "We use the more stricter criteria for defining safe transitions when making comparisons solely between 'high risk' occupations."
   ]
  },
  {
   "cell_type": "code",
   "execution_count": 6,
   "metadata": {},
   "outputs": [],
   "source": [
    "# Strictly safer and desirable transitions\n",
    "n_safe_desirable_strict = np.sum(filter_matrices['F_strictly_safe_desirable'], axis=1)\n",
    "\n",
    "# Highly viable, strictly safe\n",
    "n_safe_desirable_strict_and_highly_viable = np.sum(\n",
    "    (filter_matrices['F_strictly_safe_desirable'] & filter_matrices['F_highly_viable']), axis=1)\n"
   ]
  },
  {
   "cell_type": "markdown",
   "metadata": {},
   "source": [
    "## 1.4 Export the transition option results"
   ]
  },
  {
   "cell_type": "code",
   "execution_count": 7,
   "metadata": {},
   "outputs": [],
   "source": [
    "occ_transitions = data.occ_report[['id', 'concept_uri', 'preferred_label', 'isco_level_4', 'risk_category']].copy()\n",
    "occ_transitions['n_desirable'] = n_desirable\n",
    "occ_transitions['n_desirable_and_highly_viable'] = n_desirable_and_highly_viable\n",
    "occ_transitions['n_safe_desirable'] = n_safe_desirable\n",
    "occ_transitions['n_safe_desirable_and_highly_viable'] = n_safe_desirable_and_highly_viable\n",
    "occ_transitions['n_safe_desirable_strict'] = n_safe_desirable_strict\n",
    "occ_transitions['n_safe_desirable_strict_and_highly_viable'] = n_safe_desirable_strict_and_highly_viable"
   ]
  },
  {
   "cell_type": "code",
   "execution_count": 8,
   "metadata": {},
   "outputs": [],
   "source": [
    "# Rename the risk categories, as used in the report\n",
    "occ_transitions.loc[occ_transitions.risk_category.isin(['Low risk', 'Other']), 'risk_category'] = 'Lower risk'"
   ]
  },
  {
   "cell_type": "code",
   "execution_count": 9,
   "metadata": {},
   "outputs": [
    {
     "name": "stdout",
     "output_type": "stream",
     "text": [
      "<class 'pandas.core.frame.DataFrame'>\n",
      "RangeIndex: 1627 entries, 0 to 1626\n",
      "Data columns (total 11 columns):\n",
      " #   Column                                     Non-Null Count  Dtype \n",
      "---  ------                                     --------------  ----- \n",
      " 0   id                                         1627 non-null   int64 \n",
      " 1   concept_uri                                1627 non-null   object\n",
      " 2   preferred_label                            1627 non-null   object\n",
      " 3   isco_level_4                               1627 non-null   int64 \n",
      " 4   risk_category                              1627 non-null   object\n",
      " 5   n_desirable                                1627 non-null   int64 \n",
      " 6   n_desirable_and_highly_viable              1627 non-null   int64 \n",
      " 7   n_safe_desirable                           1627 non-null   int64 \n",
      " 8   n_safe_desirable_and_highly_viable         1627 non-null   int64 \n",
      " 9   n_safe_desirable_strict                    1627 non-null   int64 \n",
      " 10  n_safe_desirable_strict_and_highly_viable  1627 non-null   int64 \n",
      "dtypes: int64(8), object(3)\n",
      "memory usage: 139.9+ KB\n"
     ]
    }
   ],
   "source": [
    "occ_transitions.info()"
   ]
  },
  {
   "cell_type": "code",
   "execution_count": 10,
   "metadata": {},
   "outputs": [
    {
     "data": {
      "text/html": [
       "<div>\n",
       "<style scoped>\n",
       "    .dataframe tbody tr th:only-of-type {\n",
       "        vertical-align: middle;\n",
       "    }\n",
       "\n",
       "    .dataframe tbody tr th {\n",
       "        vertical-align: top;\n",
       "    }\n",
       "\n",
       "    .dataframe thead th {\n",
       "        text-align: right;\n",
       "    }\n",
       "</style>\n",
       "<table border=\"1\" class=\"dataframe\">\n",
       "  <thead>\n",
       "    <tr style=\"text-align: right;\">\n",
       "      <th></th>\n",
       "      <th>id</th>\n",
       "    </tr>\n",
       "    <tr>\n",
       "      <th>risk_category</th>\n",
       "      <th></th>\n",
       "    </tr>\n",
       "  </thead>\n",
       "  <tbody>\n",
       "    <tr>\n",
       "      <th>High risk</th>\n",
       "      <td>217</td>\n",
       "    </tr>\n",
       "    <tr>\n",
       "      <th>Lower risk</th>\n",
       "      <td>1410</td>\n",
       "    </tr>\n",
       "  </tbody>\n",
       "</table>\n",
       "</div>"
      ],
      "text/plain": [
       "                 id\n",
       "risk_category      \n",
       "High risk       217\n",
       "Lower risk     1410"
      ]
     },
     "execution_count": 10,
     "metadata": {},
     "output_type": "execute_result"
    }
   ],
   "source": [
    "occ_transitions.groupby('risk_category').agg({'id': 'count'})"
   ]
  },
  {
   "cell_type": "code",
   "execution_count": 11,
   "metadata": {},
   "outputs": [],
   "source": [
    "# Save\n",
    "occ_transitions.to_csv(data_folder + 'processed/transitions/ESCO_number_of_transitions.csv', index=False)\n"
   ]
  }
 ],
 "metadata": {
  "kernelspec": {
   "display_name": "Python 3",
   "language": "python",
   "name": "python3"
  },
  "language_info": {
   "codemirror_mode": {
    "name": "ipython",
    "version": 3
   },
   "file_extension": ".py",
   "mimetype": "text/x-python",
   "name": "python",
   "nbconvert_exporter": "python",
   "pygments_lexer": "ipython3",
   "version": "3.6.5"
  }
 },
 "nbformat": 4,
 "nbformat_minor": 4
}

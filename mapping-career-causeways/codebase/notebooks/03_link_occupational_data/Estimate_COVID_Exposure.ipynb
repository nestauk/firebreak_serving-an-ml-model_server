{
 "cells": [
  {
   "cell_type": "markdown",
   "metadata": {},
   "source": [
    "# Estimate ESCO occupation exposure to impacts from COVID-19\n",
    "\n",
    "We derived a simple estimate for occupational-level exposure to the impact from COVID-19 based on the\n",
    "workers’ physical proximity to other people (determined from information in O\\*NET) and on the extent to which\n",
    "the work has to be performed on-site (measured by del Rio-Chanona et al.'s Remote Labor Index).\n",
    "\n",
    "For example, the COVID-19 exposure score for concierge workers is high (0.75), as they normally have to work close to other people (‘at arm’s length’) and only one out of the seven concierge work activities can be performed remotely. We\n",
    "occasionally used this exposure score to evaluate the origin and destination occupations."
   ]
  },
  {
   "cell_type": "markdown",
   "metadata": {},
   "source": [
    "# 0. Import dependencies and inputs"
   ]
  },
  {
   "cell_type": "code",
   "execution_count": 1,
   "metadata": {},
   "outputs": [],
   "source": [
    "%run ../notebook_preamble.ipy"
   ]
  },
  {
   "cell_type": "code",
   "execution_count": 2,
   "metadata": {},
   "outputs": [
    {
     "name": "stdout",
     "output_type": "stream",
     "text": [
      "(2942, 57)\n"
     ]
    },
    {
     "data": {
      "text/html": [
       "<div>\n",
       "<style scoped>\n",
       "    .dataframe tbody tr th:only-of-type {\n",
       "        vertical-align: middle;\n",
       "    }\n",
       "\n",
       "    .dataframe tbody tr th {\n",
       "        vertical-align: top;\n",
       "    }\n",
       "\n",
       "    .dataframe thead th {\n",
       "        text-align: right;\n",
       "    }\n",
       "</style>\n",
       "<table border=\"1\" class=\"dataframe\">\n",
       "  <thead>\n",
       "    <tr style=\"text-align: right;\">\n",
       "      <th></th>\n",
       "      <th>vector_element</th>\n",
       "      <th>element_name</th>\n",
       "      <th>element_id</th>\n",
       "    </tr>\n",
       "  </thead>\n",
       "  <tbody>\n",
       "    <tr>\n",
       "      <th>8</th>\n",
       "      <td>8</td>\n",
       "      <td>Coordinate or Lead Others</td>\n",
       "      <td>4.C.1.b.1.g</td>\n",
       "    </tr>\n",
       "    <tr>\n",
       "      <th>10</th>\n",
       "      <td>10</td>\n",
       "      <td>Responsibility for Outcomes and Results</td>\n",
       "      <td>4.C.1.c.2</td>\n",
       "    </tr>\n",
       "    <tr>\n",
       "      <th>11</th>\n",
       "      <td>11</td>\n",
       "      <td>Frequency of Conflict Situations</td>\n",
       "      <td>4.C.1.d.1</td>\n",
       "    </tr>\n",
       "  </tbody>\n",
       "</table>\n",
       "</div>"
      ],
      "text/plain": [
       "    vector_element                             element_name   element_id\n",
       "8                8                Coordinate or Lead Others  4.C.1.b.1.g\n",
       "10              10  Responsibility for Outcomes and Results    4.C.1.c.2\n",
       "11              11         Frequency of Conflict Situations    4.C.1.d.1"
      ]
     },
     "execution_count": 2,
     "metadata": {},
     "output_type": "execute_result"
    }
   ],
   "source": [
    "# Import crosswalk between ESCO and ONET\n",
    "esco_onet_xwalk = pd.read_csv(data_folder + 'processed/ESCO_ONET_xwalk_full.csv')\n",
    "\n",
    "# Import the remote labor index\n",
    "occ_remote_labour = pd.read_csv(data_folder + 'processed/linked_data/ESCO_occupations_Remote_Labor_Index.csv')\n",
    "\n",
    "# Import work context vectors\n",
    "work_context_vectors = np.load(data_folder + 'interim/work_context_features/ESCO_work_context_vectors.npy')\n",
    "print(work_context_vectors.shape)\n",
    "\n",
    "# Import work context features\n",
    "work_context_features = pd.read_csv(data_folder + 'processed/work_context_vector_features.csv')\n",
    "work_context_features.sample(3)"
   ]
  },
  {
   "cell_type": "markdown",
   "metadata": {},
   "source": [
    "# 1. Calculate a measure of exposure\n",
    "\n",
    "Here, we follow a slightly modified but largely similar approach to [the ONS](https://www.ons.gov.uk/employmentandlabourmarket/peopleinwork/employmentandemployeetypes/articles/whichoccupationshavethehighestpotentialexposuretothecoronaviruscovid19/2020-05-11) and [NY Times](https://www.nytimes.com/interactive/2020/03/15/business/economy/coronavirus-worker-risk.html).\n",
    "\n",
    "We take a geometric mean between:\n",
    "- the rescaled `physical proximity` variable from O\\*NET Work context features, and\n",
    "- the `remote labor index` subtracted from 1. "
   ]
  },
  {
   "cell_type": "code",
   "execution_count": 3,
   "metadata": {},
   "outputs": [
    {
     "data": {
      "text/html": [
       "<div>\n",
       "<style scoped>\n",
       "    .dataframe tbody tr th:only-of-type {\n",
       "        vertical-align: middle;\n",
       "    }\n",
       "\n",
       "    .dataframe tbody tr th {\n",
       "        vertical-align: top;\n",
       "    }\n",
       "\n",
       "    .dataframe thead th {\n",
       "        text-align: right;\n",
       "    }\n",
       "</style>\n",
       "<table border=\"1\" class=\"dataframe\">\n",
       "  <thead>\n",
       "    <tr style=\"text-align: right;\">\n",
       "      <th></th>\n",
       "      <th>vector_element</th>\n",
       "      <th>element_name</th>\n",
       "      <th>element_id</th>\n",
       "    </tr>\n",
       "  </thead>\n",
       "  <tbody>\n",
       "    <tr>\n",
       "      <th>20</th>\n",
       "      <td>20</td>\n",
       "      <td>Physical Proximity</td>\n",
       "      <td>4.C.2.a.3</td>\n",
       "    </tr>\n",
       "  </tbody>\n",
       "</table>\n",
       "</div>"
      ],
      "text/plain": [
       "    vector_element        element_name element_id\n",
       "20              20  Physical Proximity  4.C.2.a.3"
      ]
     },
     "execution_count": 3,
     "metadata": {},
     "output_type": "execute_result"
    }
   ],
   "source": [
    "# We are interested in \"Physical Proximity\", which is the 20th element\n",
    "work_context_features.loc[[20]]"
   ]
  },
  {
   "cell_type": "code",
   "execution_count": 4,
   "metadata": {},
   "outputs": [],
   "source": [
    "# Relevant features: 20=Physical Proximity;\n",
    "occupations_exposed = esco_onet_xwalk.copy()\n",
    "occupations_exposed['physical_proximity'] = work_context_vectors[:, 20]\n",
    "occupations_exposed = occupations_exposed.merge(occ_remote_labour[['id', 'remote_labor_index']], on='id', how='left')\n"
   ]
  },
  {
   "cell_type": "code",
   "execution_count": 24,
   "metadata": {},
   "outputs": [
    {
     "data": {
      "image/png": "[encoded data removed]",
      "text/plain": [
       "<Figure size 432x288 with 1 Axes>"
      ]
     },
     "metadata": {
      "needs_background": "light"
     },
     "output_type": "display_data"
    }
   ],
   "source": [
    "# Distributions of remote labor index and physical proximity\n",
    "sns.distplot(occupations_exposed['remote_labor_index'], label='RLI', bins=np.linspace(0,1,25))\n",
    "sns.distplot(occupations_exposed['physical_proximity'], label='Physical', bins=np.linspace(0,1,25))\n",
    "plt.xlabel('values')\n",
    "plt.ylabel('density')\n",
    "plt.legend()\n",
    "plt.show()"
   ]
  },
  {
   "cell_type": "code",
   "execution_count": 6,
   "metadata": {},
   "outputs": [
    {
     "data": {
      "text/html": [
       "<div>\n",
       "<style scoped>\n",
       "    .dataframe tbody tr th:only-of-type {\n",
       "        vertical-align: middle;\n",
       "    }\n",
       "\n",
       "    .dataframe tbody tr th {\n",
       "        vertical-align: top;\n",
       "    }\n",
       "\n",
       "    .dataframe thead th {\n",
       "        text-align: right;\n",
       "    }\n",
       "</style>\n",
       "<table border=\"1\" class=\"dataframe\">\n",
       "  <thead>\n",
       "    <tr style=\"text-align: right;\">\n",
       "      <th></th>\n",
       "      <th>id</th>\n",
       "      <th>concept_uri</th>\n",
       "      <th>preferred_label</th>\n",
       "      <th>isco_level_4</th>\n",
       "      <th>onet_code</th>\n",
       "      <th>onet_occupation</th>\n",
       "      <th>physical_proximity</th>\n",
       "      <th>remote_labor_index</th>\n",
       "      <th>exposure_score</th>\n",
       "    </tr>\n",
       "  </thead>\n",
       "  <tbody>\n",
       "    <tr>\n",
       "      <th>169</th>\n",
       "      <td>169</td>\n",
       "      <td>http://data.europa.eu/esco/occupation/0d9eed6b...</td>\n",
       "      <td>ammunition specialised seller</td>\n",
       "      <td>5223</td>\n",
       "      <td>41-2031.00</td>\n",
       "      <td>retail salespersons</td>\n",
       "      <td>0.6850</td>\n",
       "      <td>0.631579</td>\n",
       "      <td>0.502363</td>\n",
       "    </tr>\n",
       "    <tr>\n",
       "      <th>416</th>\n",
       "      <td>416</td>\n",
       "      <td>http://data.europa.eu/esco/occupation/21fe7141...</td>\n",
       "      <td>waterway construction labourer</td>\n",
       "      <td>9312</td>\n",
       "      <td>49-9071.00</td>\n",
       "      <td>maintenance and repair workers, general</td>\n",
       "      <td>0.6925</td>\n",
       "      <td>0.161290</td>\n",
       "      <td>0.762107</td>\n",
       "    </tr>\n",
       "    <tr>\n",
       "      <th>1232</th>\n",
       "      <td>1232</td>\n",
       "      <td>http://data.europa.eu/esco/occupation/6667bf29...</td>\n",
       "      <td>residential home young people care worker</td>\n",
       "      <td>3412</td>\n",
       "      <td>21-1093.00</td>\n",
       "      <td>social and human service assistants</td>\n",
       "      <td>0.7900</td>\n",
       "      <td>0.615385</td>\n",
       "      <td>0.551222</td>\n",
       "    </tr>\n",
       "    <tr>\n",
       "      <th>184</th>\n",
       "      <td>184</td>\n",
       "      <td>http://data.europa.eu/esco/occupation/0ec62c2e...</td>\n",
       "      <td>refurbishing technician</td>\n",
       "      <td>7231</td>\n",
       "      <td>49-3021.00</td>\n",
       "      <td>automotive body and related repairers</td>\n",
       "      <td>0.4600</td>\n",
       "      <td>0.187500</td>\n",
       "      <td>0.611351</td>\n",
       "    </tr>\n",
       "    <tr>\n",
       "      <th>2658</th>\n",
       "      <td>2658</td>\n",
       "      <td>http://data.europa.eu/esco/occupation/e4ad2547...</td>\n",
       "      <td>dean of faculty</td>\n",
       "      <td>1345</td>\n",
       "      <td>11-9032.00</td>\n",
       "      <td>education administrators, elementary and secon...</td>\n",
       "      <td>0.5225</td>\n",
       "      <td>0.714286</td>\n",
       "      <td>0.386375</td>\n",
       "    </tr>\n",
       "  </tbody>\n",
       "</table>\n",
       "</div>"
      ],
      "text/plain": [
       "        id                                        concept_uri  \\\n",
       "169    169  http://data.europa.eu/esco/occupation/0d9eed6b...   \n",
       "416    416  http://data.europa.eu/esco/occupation/21fe7141...   \n",
       "1232  1232  http://data.europa.eu/esco/occupation/6667bf29...   \n",
       "184    184  http://data.europa.eu/esco/occupation/0ec62c2e...   \n",
       "2658  2658  http://data.europa.eu/esco/occupation/e4ad2547...   \n",
       "\n",
       "                                preferred_label  isco_level_4   onet_code  \\\n",
       "169               ammunition specialised seller          5223  41-2031.00   \n",
       "416              waterway construction labourer          9312  49-9071.00   \n",
       "1232  residential home young people care worker          3412  21-1093.00   \n",
       "184                     refurbishing technician          7231  49-3021.00   \n",
       "2658                            dean of faculty          1345  11-9032.00   \n",
       "\n",
       "                                        onet_occupation  physical_proximity  \\\n",
       "169                                 retail salespersons              0.6850   \n",
       "416             maintenance and repair workers, general              0.6925   \n",
       "1232                social and human service assistants              0.7900   \n",
       "184               automotive body and related repairers              0.4600   \n",
       "2658  education administrators, elementary and secon...              0.5225   \n",
       "\n",
       "      remote_labor_index  exposure_score  \n",
       "169             0.631579        0.502363  \n",
       "416             0.161290        0.762107  \n",
       "1232            0.615385        0.551222  \n",
       "184             0.187500        0.611351  \n",
       "2658            0.714286        0.386375  "
      ]
     },
     "execution_count": 6,
     "metadata": {},
     "output_type": "execute_result"
    }
   ],
   "source": [
    "# COVID-19 exposure estimate\n",
    "occupations_exposed['exposure_score'] = np.sqrt(occupations_exposed['physical_proximity'] * (1-occupations_exposed['remote_labor_index']))\n",
    "occupations_exposed.sample(5)"
   ]
  },
  {
   "cell_type": "markdown",
   "metadata": {},
   "source": [
    "# 2. Export"
   ]
  },
  {
   "cell_type": "code",
   "execution_count": 7,
   "metadata": {},
   "outputs": [],
   "source": [
    "# Export the data\n",
    "occupations_exposed.to_csv(data_folder + 'processed/linked_data/ESCO_occupations_COVID_Exposure.csv', index=False)\n"
   ]
  }
 ],
 "metadata": {
  "kernelspec": {
   "display_name": "Python 3",
   "language": "python",
   "name": "python3"
  },
  "language_info": {
   "codemirror_mode": {
    "name": "ipython",
    "version": 3
   },
   "file_extension": ".py",
   "mimetype": "text/x-python",
   "name": "python",
   "nbconvert_exporter": "python",
   "pygments_lexer": "ipython3",
   "version": "3.6.5"
  }
 },
 "nbformat": 4,
 "nbformat_minor": 2
}

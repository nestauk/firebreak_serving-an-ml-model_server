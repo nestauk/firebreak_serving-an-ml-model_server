{
 "cells": [
  {
   "cell_type": "markdown",
   "metadata": {},
   "source": [
    "# Output a set of validated transitions\n",
    "\n",
    "Here, we output a curated table with transitions for all top level ESCO occupations, that are both `safe and desirable` according to the career transitions algorithm, and `feasible` according to the crowdsourced feasibility judgments (or predicted feasibility judgements if crowd data was not available)."
   ]
  },
  {
   "cell_type": "markdown",
   "metadata": {},
   "source": [
    "# 0. Import dependencies and inputs"
   ]
  },
  {
   "cell_type": "code",
   "execution_count": 24,
   "metadata": {},
   "outputs": [],
   "source": [
    "%run ../notebook_preamble_Transitions.ipy\n",
    "import mapping_career_causeways.models.predict_model as model\n",
    "import os \n",
    "\n",
    "data = load_data.Data()\n",
    "sims = load_data.Similarities()"
   ]
  },
  {
   "cell_type": "code",
   "execution_count": 25,
   "metadata": {},
   "outputs": [
    {
     "data": {
      "text/html": [
       "<div>\n",
       "<style scoped>\n",
       "    .dataframe tbody tr th:only-of-type {\n",
       "        vertical-align: middle;\n",
       "    }\n",
       "\n",
       "    .dataframe tbody tr th {\n",
       "        vertical-align: top;\n",
       "    }\n",
       "\n",
       "    .dataframe thead th {\n",
       "        text-align: right;\n",
       "    }\n",
       "</style>\n",
       "<table border=\"1\" class=\"dataframe\">\n",
       "  <thead>\n",
       "    <tr style=\"text-align: right;\">\n",
       "      <th></th>\n",
       "      <th>id</th>\n",
       "      <th>preferred_label</th>\n",
       "      <th>similarity</th>\n",
       "    </tr>\n",
       "  </thead>\n",
       "  <tbody>\n",
       "    <tr>\n",
       "      <th>139</th>\n",
       "      <td>139</td>\n",
       "      <td>shop assistant</td>\n",
       "      <td>0.999625</td>\n",
       "    </tr>\n",
       "    <tr>\n",
       "      <th>1862</th>\n",
       "      <td>1862</td>\n",
       "      <td>sales assistant</td>\n",
       "      <td>0.637140</td>\n",
       "    </tr>\n",
       "    <tr>\n",
       "      <th>1010</th>\n",
       "      <td>1010</td>\n",
       "      <td>specialised seller</td>\n",
       "      <td>0.621985</td>\n",
       "    </tr>\n",
       "    <tr>\n",
       "      <th>1164</th>\n",
       "      <td>1164</td>\n",
       "      <td>ticket issuing clerk</td>\n",
       "      <td>0.480646</td>\n",
       "    </tr>\n",
       "    <tr>\n",
       "      <th>71</th>\n",
       "      <td>71</td>\n",
       "      <td>promotions demonstrator</td>\n",
       "      <td>0.457583</td>\n",
       "    </tr>\n",
       "    <tr>\n",
       "      <th>2367</th>\n",
       "      <td>2367</td>\n",
       "      <td>market vendor</td>\n",
       "      <td>0.455450</td>\n",
       "    </tr>\n",
       "    <tr>\n",
       "      <th>783</th>\n",
       "      <td>783</td>\n",
       "      <td>fuel station specialised seller</td>\n",
       "      <td>0.446016</td>\n",
       "    </tr>\n",
       "    <tr>\n",
       "      <th>2078</th>\n",
       "      <td>2078</td>\n",
       "      <td>hawker</td>\n",
       "      <td>0.439244</td>\n",
       "    </tr>\n",
       "    <tr>\n",
       "      <th>688</th>\n",
       "      <td>688</td>\n",
       "      <td>rental service representative</td>\n",
       "      <td>0.432434</td>\n",
       "    </tr>\n",
       "    <tr>\n",
       "      <th>2059</th>\n",
       "      <td>2059</td>\n",
       "      <td>door to door seller</td>\n",
       "      <td>0.427419</td>\n",
       "    </tr>\n",
       "    <tr>\n",
       "      <th>1824</th>\n",
       "      <td>1824</td>\n",
       "      <td>after-sales service technician</td>\n",
       "      <td>0.419807</td>\n",
       "    </tr>\n",
       "    <tr>\n",
       "      <th>528</th>\n",
       "      <td>528</td>\n",
       "      <td>cashier</td>\n",
       "      <td>0.417238</td>\n",
       "    </tr>\n",
       "    <tr>\n",
       "      <th>2481</th>\n",
       "      <td>2481</td>\n",
       "      <td>shelf filler</td>\n",
       "      <td>0.412046</td>\n",
       "    </tr>\n",
       "    <tr>\n",
       "      <th>1276</th>\n",
       "      <td>1276</td>\n",
       "      <td>post office counter clerk</td>\n",
       "      <td>0.401723</td>\n",
       "    </tr>\n",
       "    <tr>\n",
       "      <th>2862</th>\n",
       "      <td>2862</td>\n",
       "      <td>personal shopper</td>\n",
       "      <td>0.397399</td>\n",
       "    </tr>\n",
       "  </tbody>\n",
       "</table>\n",
       "</div>"
      ],
      "text/plain": [
       "        id                  preferred_label  similarity\n",
       "139    139                   shop assistant    0.999625\n",
       "1862  1862                  sales assistant    0.637140\n",
       "1010  1010               specialised seller    0.621985\n",
       "1164  1164             ticket issuing clerk    0.480646\n",
       "71      71          promotions demonstrator    0.457583\n",
       "2367  2367                    market vendor    0.455450\n",
       "783    783  fuel station specialised seller    0.446016\n",
       "2078  2078                           hawker    0.439244\n",
       "688    688    rental service representative    0.432434\n",
       "2059  2059              door to door seller    0.427419\n",
       "1824  1824   after-sales service technician    0.419807\n",
       "528    528                          cashier    0.417238\n",
       "2481  2481                     shelf filler    0.412046\n",
       "1276  1276        post office counter clerk    0.401723\n",
       "2862  2862                 personal shopper    0.397399"
      ]
     },
     "execution_count": 25,
     "metadata": {},
     "output_type": "execute_result"
    }
   ],
   "source": [
    "trans_utils.find_most_similar(139)"
   ]
  },
  {
   "cell_type": "code",
   "execution_count": 2,
   "metadata": {},
   "outputs": [],
   "source": [
    "# Input data path\n",
    "safe_transition_filepath = f'{data_folder}processed/validation/transitions_Safe_Desirable_Validated.csv'\n",
    "\n",
    "# Output data\n",
    "output_folder = useful_paths.project_dir + '/supplementary_online_data/transitions/transitions_tables/'\n",
    "file_name = 'mcc_transitions_table_Validated.csv'"
   ]
  },
  {
   "cell_type": "markdown",
   "metadata": {},
   "source": [
    "# 1. Get feasibility estimates for all safe and desirable transitions"
   ]
  },
  {
   "cell_type": "code",
   "execution_count": 3,
   "metadata": {},
   "outputs": [
    {
     "name": "stdout",
     "output_type": "stream",
     "text": [
      "Finding all transitions... Done!\n",
      "This took 18.20 seconds.\n"
     ]
    }
   ],
   "source": [
    "# Find all transitions above the minimal similarity threshold\n",
    "transitions_master_table = trans_utils.get_transitions(verbose=True)"
   ]
  },
  {
   "cell_type": "code",
   "execution_count": 4,
   "metadata": {},
   "outputs": [],
   "source": [
    "# Add crowdsourced and predicted feasibility ratings\n",
    "if os.path.exists(safe_transition_filepath):\n",
    "    safe_transitions = pd.read_csv(safe_transition_filepath)\n",
    "else:\n",
    "    # (will take some while for generating all the predictions)\n",
    "    safe_transitions = transitions_master_table[transitions_master_table.is_safe_desirable]\n",
    "    safe_transitions = model.add_feasibility_predictions(safe_transitions, add_crowd_data=True)\n",
    "    safe_transitions.to_csv(safe_transition_filepath, index=False)\n"
   ]
  },
  {
   "cell_type": "code",
   "execution_count": 5,
   "metadata": {},
   "outputs": [
    {
     "data": {
      "text/html": [
       "<div>\n",
       "<style scoped>\n",
       "    .dataframe tbody tr th:only-of-type {\n",
       "        vertical-align: middle;\n",
       "    }\n",
       "\n",
       "    .dataframe tbody tr th {\n",
       "        vertical-align: top;\n",
       "    }\n",
       "\n",
       "    .dataframe thead th {\n",
       "        text-align: right;\n",
       "    }\n",
       "</style>\n",
       "<table border=\"1\" class=\"dataframe\">\n",
       "  <thead>\n",
       "    <tr style=\"text-align: right;\">\n",
       "      <th></th>\n",
       "      <th>origin_id</th>\n",
       "      <th>origin_label</th>\n",
       "      <th>destination_id</th>\n",
       "      <th>destination_label</th>\n",
       "      <th>similarity</th>\n",
       "      <th>is_jobzone_ok</th>\n",
       "      <th>is_earnings_ok</th>\n",
       "      <th>is_not_high_risk</th>\n",
       "      <th>is_safer</th>\n",
       "      <th>is_strictly_safe</th>\n",
       "      <th>...</th>\n",
       "      <th>W_work_context</th>\n",
       "      <th>sim_category</th>\n",
       "      <th>is_viable</th>\n",
       "      <th>is_desirable</th>\n",
       "      <th>is_safe_desirable</th>\n",
       "      <th>is_strictly_safe_desirable</th>\n",
       "      <th>feasibility</th>\n",
       "      <th>is_feasible</th>\n",
       "      <th>feasibility_predicted</th>\n",
       "      <th>is_feasible_predicted</th>\n",
       "    </tr>\n",
       "  </thead>\n",
       "  <tbody>\n",
       "    <tr>\n",
       "      <th>0</th>\n",
       "      <td>1</td>\n",
       "      <td>metal drawing machine operator</td>\n",
       "      <td>1901</td>\n",
       "      <td>extrusion machine operator</td>\n",
       "      <td>0.845804</td>\n",
       "      <td>True</td>\n",
       "      <td>True</td>\n",
       "      <td>True</td>\n",
       "      <td>False</td>\n",
       "      <td>False</td>\n",
       "      <td>...</td>\n",
       "      <td>1.0</td>\n",
       "      <td>highly_viable</td>\n",
       "      <td>True</td>\n",
       "      <td>True</td>\n",
       "      <td>True</td>\n",
       "      <td>False</td>\n",
       "      <td>NaN</td>\n",
       "      <td>NaN</td>\n",
       "      <td>3.051092</td>\n",
       "      <td>True</td>\n",
       "    </tr>\n",
       "  </tbody>\n",
       "</table>\n",
       "<p>1 rows × 29 columns</p>\n",
       "</div>"
      ],
      "text/plain": [
       "   origin_id                    origin_label  destination_id  \\\n",
       "0          1  metal drawing machine operator            1901   \n",
       "\n",
       "            destination_label  similarity  is_jobzone_ok  is_earnings_ok  \\\n",
       "0  extrusion machine operator    0.845804           True            True   \n",
       "\n",
       "   is_not_high_risk  is_safer  is_strictly_safe  ...  W_work_context  \\\n",
       "0              True     False             False  ...             1.0   \n",
       "\n",
       "    sim_category  is_viable  is_desirable  is_safe_desirable  \\\n",
       "0  highly_viable       True          True               True   \n",
       "\n",
       "   is_strictly_safe_desirable  feasibility  is_feasible  \\\n",
       "0                       False          NaN          NaN   \n",
       "\n",
       "   feasibility_predicted  is_feasible_predicted  \n",
       "0               3.051092                   True  \n",
       "\n",
       "[1 rows x 29 columns]"
      ]
     },
     "execution_count": 5,
     "metadata": {},
     "output_type": "execute_result"
    }
   ],
   "source": [
    "safe_transitions.head(1)"
   ]
  },
  {
   "cell_type": "code",
   "execution_count": 6,
   "metadata": {},
   "outputs": [],
   "source": [
    "# Select only transitions that are also predicted to be feasible by the predictive model or the crowd\n",
    "safe_validated_transitions = safe_transitions[\n",
    "    safe_transitions.is_feasible_predicted | (safe_transitions.is_feasible)\n",
    "]"
   ]
  },
  {
   "cell_type": "code",
   "execution_count": 7,
   "metadata": {},
   "outputs": [
    {
     "name": "stdout",
     "output_type": "stream",
     "text": [
      "Total number of safe and desirable transitions: 65126\n",
      "Total number of 'feasible' safe and desirable transitions: 26642\n"
     ]
    }
   ],
   "source": [
    "print(f'Total number of safe and desirable transitions: {len(safe_transitions)}')\n",
    "print(f\"Total number of 'feasible' safe and desirable transitions: {len(safe_validated_transitions)}\")"
   ]
  },
  {
   "cell_type": "code",
   "execution_count": 8,
   "metadata": {},
   "outputs": [
    {
     "name": "stdout",
     "output_type": "stream",
     "text": [
      "<class 'pandas.core.frame.DataFrame'>\n",
      "Int64Index: 26642 entries, 0 to 65107\n",
      "Data columns (total 29 columns):\n",
      " #   Column                      Non-Null Count  Dtype  \n",
      "---  ------                      --------------  -----  \n",
      " 0   origin_id                   26642 non-null  int64  \n",
      " 1   origin_label                26642 non-null  object \n",
      " 2   destination_id              26642 non-null  int64  \n",
      " 3   destination_label           26642 non-null  object \n",
      " 4   similarity                  26642 non-null  float64\n",
      " 5   is_jobzone_ok               26642 non-null  bool   \n",
      " 6   is_earnings_ok              26642 non-null  bool   \n",
      " 7   is_not_high_risk            26642 non-null  bool   \n",
      " 8   is_safer                    26642 non-null  bool   \n",
      " 9   is_strictly_safe            26642 non-null  bool   \n",
      " 10  job_zone_dif                26642 non-null  float64\n",
      " 11  earnings_ratio              26642 non-null  float64\n",
      " 12  risk_dif                    26642 non-null  float64\n",
      " 13  prop_dif                    26642 non-null  float64\n",
      " 14  W_skills                    26642 non-null  float64\n",
      " 15  W_work                      26642 non-null  float64\n",
      " 16  W_essential_skills          26642 non-null  float64\n",
      " 17  W_optional_skills           26642 non-null  float64\n",
      " 18  W_activities                26642 non-null  float64\n",
      " 19  W_work_context              26642 non-null  float64\n",
      " 20  sim_category                26642 non-null  object \n",
      " 21  is_viable                   26642 non-null  bool   \n",
      " 22  is_desirable                26642 non-null  bool   \n",
      " 23  is_safe_desirable           26642 non-null  bool   \n",
      " 24  is_strictly_safe_desirable  26642 non-null  bool   \n",
      " 25  feasibility                 4440 non-null   float64\n",
      " 26  is_feasible                 4440 non-null   object \n",
      " 27  feasibility_predicted       26642 non-null  float64\n",
      " 28  is_feasible_predicted       26642 non-null  bool   \n",
      "dtypes: bool(10), float64(13), int64(2), object(4)\n",
      "memory usage: 4.3+ MB\n"
     ]
    }
   ],
   "source": [
    "safe_validated_transitions.info()"
   ]
  },
  {
   "cell_type": "code",
   "execution_count": 9,
   "metadata": {},
   "outputs": [
    {
     "data": {
      "image/png": "[encoded data removed]",
      "text/plain": [
       "<Figure size 432x288 with 1 Axes>"
      ]
     },
     "metadata": {
      "needs_background": "light"
     },
     "output_type": "display_data"
    }
   ],
   "source": [
    "sns.distplot(safe_validated_transitions.groupby('origin_id').count().destination_id)\n",
    "plt.xlabel('number of transitions per occupation')\n",
    "plt.show()"
   ]
  },
  {
   "cell_type": "code",
   "execution_count": 10,
   "metadata": {},
   "outputs": [
    {
     "name": "stdout",
     "output_type": "stream",
     "text": [
      "0.9293177627535341\n",
      "0.828518746158574\n"
     ]
    }
   ],
   "source": [
    "# Fraction of all top level ESCO occupations featured in the table as origin/destination \n",
    "print(len(safe_validated_transitions.origin_id.unique()) / len(data.report_occ_ids))\n",
    "print(len(safe_validated_transitions.destination_id.unique()) / len(data.report_occ_ids))"
   ]
  },
  {
   "cell_type": "markdown",
   "metadata": {},
   "source": [
    "# 2. Manual curation"
   ]
  },
  {
   "cell_type": "code",
   "execution_count": 11,
   "metadata": {},
   "outputs": [],
   "source": [
    "# It might be confusing to be recommended transitions to these roles;\n",
    "# hence, we take them out\n",
    "filter_out = [\n",
    "    'escort',\n",
    "    'fortune teller', 'psychic', 'medium',\n",
    "]"
   ]
  },
  {
   "cell_type": "code",
   "execution_count": 12,
   "metadata": {},
   "outputs": [
    {
     "name": "stdout",
     "output_type": "stream",
     "text": [
      "Total number of 'feasible', curated safe and desirable transitions: 26642\n"
     ]
    }
   ],
   "source": [
    "curated_transitions = safe_validated_transitions.copy()\n",
    "curated_transitions = curated_transitions[-curated_transitions.origin_label.isin(filter_out)]\n",
    "curated_transitions = curated_transitions[-curated_transitions.destination_label.isin(filter_out)]\n",
    "print(f\"Total number of 'feasible', curated safe and desirable transitions: {len(curated_transitions)}\")"
   ]
  },
  {
   "cell_type": "markdown",
   "metadata": {},
   "source": [
    "# 3. Output a curated table in supplementary online data\n"
   ]
  },
  {
   "cell_type": "code",
   "execution_count": 19,
   "metadata": {},
   "outputs": [],
   "source": [
    "# Add risk category\n",
    "transitions = curated_transitions.copy()\n",
    "transitions=data.add_field_to_occupation(transitions, 'origin_id', 'risk_category', 'origin')\n",
    "transitions=data.add_field_to_occupation(transitions, 'destination_id', 'risk_category', 'destination')\n",
    "\n",
    "for only_high_risk_cols in ['is_safer', 'is_strictly_safe', 'is_strictly_safe_desirable']:\n",
    "    transitions.loc[-(transitions.origin_risk_category=='High risk'), only_high_risk_cols] = np.nan"
   ]
  },
  {
   "cell_type": "code",
   "execution_count": 20,
   "metadata": {},
   "outputs": [],
   "source": [
    "# Reorganise the dataframe\n",
    "transitions = transitions[[\n",
    "    'origin_id', 'origin_label', 'destination_id', 'destination_label',\n",
    "    'similarity', 'sim_category', 'feasibility', 'is_feasible', 'feasibility_predicted', 'is_feasible_predicted',\n",
    "    'W_skills', 'W_work',\n",
    "    'W_essential_skills', 'W_optional_skills', 'W_activities', 'W_work_context',\n",
    "    'job_zone_dif', 'earnings_ratio', 'risk_dif', 'prop_dif',\n",
    "    'origin_risk_category', 'destination_risk_category',\n",
    "    'is_jobzone_ok', 'is_earnings_ok', 'is_not_high_risk', 'is_safer', 'is_strictly_safe',\n",
    "    'is_viable', 'is_desirable', 'is_safe_desirable', 'is_strictly_safe_desirable'\n",
    "]]"
   ]
  },
  {
   "cell_type": "code",
   "execution_count": 21,
   "metadata": {},
   "outputs": [
    {
     "data": {
      "text/html": [
       "<div>\n",
       "<style scoped>\n",
       "    .dataframe tbody tr th:only-of-type {\n",
       "        vertical-align: middle;\n",
       "    }\n",
       "\n",
       "    .dataframe tbody tr th {\n",
       "        vertical-align: top;\n",
       "    }\n",
       "\n",
       "    .dataframe thead th {\n",
       "        text-align: right;\n",
       "    }\n",
       "</style>\n",
       "<table border=\"1\" class=\"dataframe\">\n",
       "  <thead>\n",
       "    <tr style=\"text-align: right;\">\n",
       "      <th></th>\n",
       "      <th>origin_id</th>\n",
       "      <th>origin_label</th>\n",
       "      <th>destination_id</th>\n",
       "      <th>destination_label</th>\n",
       "      <th>similarity</th>\n",
       "      <th>sim_category</th>\n",
       "      <th>feasibility</th>\n",
       "      <th>is_feasible</th>\n",
       "      <th>feasibility_predicted</th>\n",
       "      <th>is_feasible_predicted</th>\n",
       "      <th>...</th>\n",
       "      <th>destination_risk_category</th>\n",
       "      <th>is_jobzone_ok</th>\n",
       "      <th>is_earnings_ok</th>\n",
       "      <th>is_not_high_risk</th>\n",
       "      <th>is_safer</th>\n",
       "      <th>is_strictly_safe</th>\n",
       "      <th>is_viable</th>\n",
       "      <th>is_desirable</th>\n",
       "      <th>is_safe_desirable</th>\n",
       "      <th>is_strictly_safe_desirable</th>\n",
       "    </tr>\n",
       "  </thead>\n",
       "  <tbody>\n",
       "    <tr>\n",
       "      <th>25895</th>\n",
       "      <td>2842</td>\n",
       "      <td>kitchen porter</td>\n",
       "      <td>1895</td>\n",
       "      <td>pizzaiolo</td>\n",
       "      <td>0.386029</td>\n",
       "      <td>min_viable</td>\n",
       "      <td>NaN</td>\n",
       "      <td>NaN</td>\n",
       "      <td>2.929573</td>\n",
       "      <td>True</td>\n",
       "      <td>...</td>\n",
       "      <td>Other</td>\n",
       "      <td>True</td>\n",
       "      <td>True</td>\n",
       "      <td>True</td>\n",
       "      <td>NaN</td>\n",
       "      <td>NaN</td>\n",
       "      <td>True</td>\n",
       "      <td>True</td>\n",
       "      <td>True</td>\n",
       "      <td>NaN</td>\n",
       "    </tr>\n",
       "    <tr>\n",
       "      <th>22024</th>\n",
       "      <td>2329</td>\n",
       "      <td>stone polisher</td>\n",
       "      <td>271</td>\n",
       "      <td>plasma cutting machine operator</td>\n",
       "      <td>0.501852</td>\n",
       "      <td>highly_viable</td>\n",
       "      <td>NaN</td>\n",
       "      <td>NaN</td>\n",
       "      <td>3.277616</td>\n",
       "      <td>True</td>\n",
       "      <td>...</td>\n",
       "      <td>Other</td>\n",
       "      <td>True</td>\n",
       "      <td>True</td>\n",
       "      <td>True</td>\n",
       "      <td>NaN</td>\n",
       "      <td>NaN</td>\n",
       "      <td>True</td>\n",
       "      <td>True</td>\n",
       "      <td>True</td>\n",
       "      <td>NaN</td>\n",
       "    </tr>\n",
       "    <tr>\n",
       "      <th>16922</th>\n",
       "      <td>1803</td>\n",
       "      <td>special educational needs teacher</td>\n",
       "      <td>2030</td>\n",
       "      <td>academic advisor</td>\n",
       "      <td>0.465689</td>\n",
       "      <td>highly_viable</td>\n",
       "      <td>NaN</td>\n",
       "      <td>NaN</td>\n",
       "      <td>2.964605</td>\n",
       "      <td>True</td>\n",
       "      <td>...</td>\n",
       "      <td>Other</td>\n",
       "      <td>True</td>\n",
       "      <td>True</td>\n",
       "      <td>True</td>\n",
       "      <td>NaN</td>\n",
       "      <td>NaN</td>\n",
       "      <td>True</td>\n",
       "      <td>True</td>\n",
       "      <td>True</td>\n",
       "      <td>NaN</td>\n",
       "    </tr>\n",
       "  </tbody>\n",
       "</table>\n",
       "<p>3 rows × 31 columns</p>\n",
       "</div>"
      ],
      "text/plain": [
       "       origin_id                       origin_label  destination_id  \\\n",
       "25895       2842                     kitchen porter            1895   \n",
       "22024       2329                     stone polisher             271   \n",
       "16922       1803  special educational needs teacher            2030   \n",
       "\n",
       "                     destination_label  similarity   sim_category  \\\n",
       "25895                        pizzaiolo    0.386029     min_viable   \n",
       "22024  plasma cutting machine operator    0.501852  highly_viable   \n",
       "16922                 academic advisor    0.465689  highly_viable   \n",
       "\n",
       "       feasibility is_feasible  feasibility_predicted  is_feasible_predicted  \\\n",
       "25895          NaN         NaN               2.929573                   True   \n",
       "22024          NaN         NaN               3.277616                   True   \n",
       "16922          NaN         NaN               2.964605                   True   \n",
       "\n",
       "       ...  destination_risk_category  is_jobzone_ok  is_earnings_ok  \\\n",
       "25895  ...                      Other           True            True   \n",
       "22024  ...                      Other           True            True   \n",
       "16922  ...                      Other           True            True   \n",
       "\n",
       "       is_not_high_risk  is_safer  is_strictly_safe  is_viable  is_desirable  \\\n",
       "25895              True       NaN               NaN       True          True   \n",
       "22024              True       NaN               NaN       True          True   \n",
       "16922              True       NaN               NaN       True          True   \n",
       "\n",
       "       is_safe_desirable  is_strictly_safe_desirable  \n",
       "25895               True                         NaN  \n",
       "22024               True                         NaN  \n",
       "16922               True                         NaN  \n",
       "\n",
       "[3 rows x 31 columns]"
      ]
     },
     "execution_count": 21,
     "metadata": {},
     "output_type": "execute_result"
    }
   ],
   "source": [
    "transitions.sample(3)"
   ]
  },
  {
   "cell_type": "code",
   "execution_count": 22,
   "metadata": {},
   "outputs": [
    {
     "name": "stdout",
     "output_type": "stream",
     "text": [
      "<class 'pandas.core.frame.DataFrame'>\n",
      "Int64Index: 26642 entries, 0 to 26641\n",
      "Data columns (total 31 columns):\n",
      " #   Column                      Non-Null Count  Dtype  \n",
      "---  ------                      --------------  -----  \n",
      " 0   origin_id                   26642 non-null  int64  \n",
      " 1   origin_label                26642 non-null  object \n",
      " 2   destination_id              26642 non-null  int64  \n",
      " 3   destination_label           26642 non-null  object \n",
      " 4   similarity                  26642 non-null  float64\n",
      " 5   sim_category                26642 non-null  object \n",
      " 6   feasibility                 4440 non-null   float64\n",
      " 7   is_feasible                 4440 non-null   object \n",
      " 8   feasibility_predicted       26642 non-null  float64\n",
      " 9   is_feasible_predicted       26642 non-null  bool   \n",
      " 10  W_skills                    26642 non-null  float64\n",
      " 11  W_work                      26642 non-null  float64\n",
      " 12  W_essential_skills          26642 non-null  float64\n",
      " 13  W_optional_skills           26642 non-null  float64\n",
      " 14  W_activities                26642 non-null  float64\n",
      " 15  W_work_context              26642 non-null  float64\n",
      " 16  job_zone_dif                26642 non-null  float64\n",
      " 17  earnings_ratio              26642 non-null  float64\n",
      " 18  risk_dif                    26642 non-null  float64\n",
      " 19  prop_dif                    26642 non-null  float64\n",
      " 20  origin_risk_category        26642 non-null  object \n",
      " 21  destination_risk_category   26642 non-null  object \n",
      " 22  is_jobzone_ok               26642 non-null  bool   \n",
      " 23  is_earnings_ok              26642 non-null  bool   \n",
      " 24  is_not_high_risk            26642 non-null  bool   \n",
      " 25  is_safer                    2196 non-null   float64\n",
      " 26  is_strictly_safe            2196 non-null   float64\n",
      " 27  is_viable                   26642 non-null  bool   \n",
      " 28  is_desirable                26642 non-null  bool   \n",
      " 29  is_safe_desirable           26642 non-null  bool   \n",
      " 30  is_strictly_safe_desirable  2196 non-null   float64\n",
      "dtypes: bool(7), float64(16), int64(2), object(6)\n",
      "memory usage: 5.3+ MB\n"
     ]
    }
   ],
   "source": [
    "transitions.info()"
   ]
  },
  {
   "cell_type": "code",
   "execution_count": 23,
   "metadata": {},
   "outputs": [],
   "source": [
    "transitions.to_csv(output_folder + file_name, index=False)\n"
   ]
  },
  {
   "cell_type": "code",
   "execution_count": null,
   "metadata": {},
   "outputs": [],
   "source": []
  }
 ],
 "metadata": {
  "kernelspec": {
   "display_name": "Python 3",
   "language": "python",
   "name": "python3"
  },
  "language_info": {
   "codemirror_mode": {
    "name": "ipython",
    "version": 3
   },
   "file_extension": ".py",
   "mimetype": "text/x-python",
   "name": "python",
   "nbconvert_exporter": "python",
   "pygments_lexer": "ipython3",
   "version": "3.6.5"
  }
 },
 "nbformat": 4,
 "nbformat_minor": 4
}

{
 "cells": [
  {
   "cell_type": "markdown",
   "metadata": {},
   "source": [
    "# Reconstruction of the ESCO occupational hierarchy\n",
    "\n",
    "This notebook uses the [ESCO API](https://ec.europa.eu/esco/api/doc/esco_api_doc.html) to reconstruct the 'broader' (parent) and 'narrower' (children) occupational relationships. The final output table `ESCO_occupational_hierarchy.csv` is saved in the `data/processed/ESCO_occupational_hierarchy` folder.\n",
    "\n",
    "Note that this ESCO occupational hierarchy is explicitly specified by ESCO and it is different from the skills-based sectors and sub-sectors that we derived by using graph-based clustering and described in the the Mapping Career Causeways [report](https://media.nesta.org.uk/documents/Mapping_Career_Causeways.pdf).\n",
    "\n",
    "**Warning**: With updates to the ESCO API, this hierarchy or the API are not guaranteed to stay the same. Therefore, we have stored backup results from the API calls (as they were in Summer 2020, when this analysis was carried out) in `data/interim/ESCO_API_occupations`."
   ]
  },
  {
   "cell_type": "markdown",
   "metadata": {},
   "source": [
    "# 0. Import dependencies and inputs"
   ]
  },
  {
   "cell_type": "code",
   "execution_count": 1,
   "metadata": {},
   "outputs": [],
   "source": [
    "%run ../notebook_preamble.ipy\n",
    "import requests"
   ]
  },
  {
   "cell_type": "code",
   "execution_count": 2,
   "metadata": {},
   "outputs": [],
   "source": [
    "# Specify the path where results from API calls are stored/saved\n",
    "api_folder = f'{data_folder}interim/ESCO_API_occupations/'\n",
    "\n",
    "# Specify the folder for saving the final output table\n",
    "outputs_folder = f'{data_folder}processed/ESCO_occupational_hierarchy/'"
   ]
  },
  {
   "cell_type": "code",
   "execution_count": 3,
   "metadata": {},
   "outputs": [
    {
     "name": "stdout",
     "output_type": "stream",
     "text": [
      "Imported 2942 occupations\n"
     ]
    },
    {
     "data": {
      "text/html": [
       "<div>\n",
       "<style scoped>\n",
       "    .dataframe tbody tr th:only-of-type {\n",
       "        vertical-align: middle;\n",
       "    }\n",
       "\n",
       "    .dataframe tbody tr th {\n",
       "        vertical-align: top;\n",
       "    }\n",
       "\n",
       "    .dataframe thead th {\n",
       "        text-align: right;\n",
       "    }\n",
       "</style>\n",
       "<table border=\"1\" class=\"dataframe\">\n",
       "  <thead>\n",
       "    <tr style=\"text-align: right;\">\n",
       "      <th></th>\n",
       "      <th>concept_type</th>\n",
       "      <th>concept_uri</th>\n",
       "      <th>isco_group</th>\n",
       "      <th>preferred_label</th>\n",
       "      <th>alt_labels</th>\n",
       "      <th>description</th>\n",
       "      <th>id</th>\n",
       "    </tr>\n",
       "  </thead>\n",
       "  <tbody>\n",
       "    <tr>\n",
       "      <th>0</th>\n",
       "      <td>Occupation</td>\n",
       "      <td>http://data.europa.eu/esco/occupation/00030d09...</td>\n",
       "      <td>2166</td>\n",
       "      <td>technical director</td>\n",
       "      <td>technical and operations director\\nhead of tec...</td>\n",
       "      <td>Technical directors realise the artistic visio...</td>\n",
       "      <td>0</td>\n",
       "    </tr>\n",
       "    <tr>\n",
       "      <th>1</th>\n",
       "      <td>Occupation</td>\n",
       "      <td>http://data.europa.eu/esco/occupation/000e93a3...</td>\n",
       "      <td>8121</td>\n",
       "      <td>metal drawing machine operator</td>\n",
       "      <td>metal drawing machine technician\\nmetal drawin...</td>\n",
       "      <td>Metal drawing machine operators set up and ope...</td>\n",
       "      <td>1</td>\n",
       "    </tr>\n",
       "  </tbody>\n",
       "</table>\n",
       "</div>"
      ],
      "text/plain": [
       "  concept_type                                        concept_uri  isco_group  \\\n",
       "0   Occupation  http://data.europa.eu/esco/occupation/00030d09...        2166   \n",
       "1   Occupation  http://data.europa.eu/esco/occupation/000e93a3...        8121   \n",
       "\n",
       "                  preferred_label  \\\n",
       "0              technical director   \n",
       "1  metal drawing machine operator   \n",
       "\n",
       "                                          alt_labels  \\\n",
       "0  technical and operations director\\nhead of tec...   \n",
       "1  metal drawing machine technician\\nmetal drawin...   \n",
       "\n",
       "                                         description  id  \n",
       "0  Technical directors realise the artistic visio...   0  \n",
       "1  Metal drawing machine operators set up and ope...   1  "
      ]
     },
     "execution_count": 3,
     "metadata": {},
     "output_type": "execute_result"
    }
   ],
   "source": [
    "# Import ESCO occupations\n",
    "occupations = pd.read_csv(f'{data_folder}processed/ESCO_occupations.csv')\n",
    "\n",
    "print(f'Imported {len(occupations)} occupations')\n",
    "occupations.head(2)"
   ]
  },
  {
   "cell_type": "markdown",
   "metadata": {},
   "source": [
    "# 1. ESCO API calls\n",
    "\n",
    "Here, we make API calls to find each occupation's narrower occupations. We do it in several steps, each subsequent step corresponding to a deeper level of the ESCO occupational hierarchy."
   ]
  },
  {
   "cell_type": "code",
   "execution_count": 4,
   "metadata": {},
   "outputs": [
    {
     "name": "stdout",
     "output_type": "stream",
     "text": [
      "Broader occupation: chemical engineering technician\n",
      "----\n",
      "Narrower occupations:\n",
      "asphalt laboratory technician\n",
      "hazardous waste technician\n",
      "chemical manufacturing quality technician\n",
      "colour sampling technician\n"
     ]
    }
   ],
   "source": [
    "# Example of a broader occupation's narrower occupations\n",
    "link = 'https://ec.europa.eu/esco/api/resource/occupation?uri=http://data.europa.eu/esco/occupation/35bc3847-58ad-46f5-8921-e58acc2762a6'\n",
    "req_occupation = requests.get(link)\n",
    "print(f\"Broader occupation: {req_occupation.json()['title']}\")\n",
    "print('----')\n",
    "print('Narrower occupations:')\n",
    "link_dict = req_occupation.json()['_links']\n",
    "for occ in link_dict['narrowerOccupation']:\n",
    "    print(occ['title'])\n"
   ]
  },
  {
   "cell_type": "markdown",
   "metadata": {},
   "source": [
    "## 1.1 Top-level ESCO occupations (ISCO Level 5)\n",
    "\n",
    "We refer to these as \"top-level\" ESCO occupations, but note that they constitute the next level of granularity after the four-digit ISCO-08 codes. Thus, with respect to the ISCO classification, we also refer to them as \"Level 5 occupations\"."
   ]
  },
  {
   "cell_type": "code",
   "execution_count": 5,
   "metadata": {},
   "outputs": [
    {
     "data": {
      "text/html": [
       "<div>\n",
       "<style scoped>\n",
       "    .dataframe tbody tr th:only-of-type {\n",
       "        vertical-align: middle;\n",
       "    }\n",
       "\n",
       "    .dataframe tbody tr th {\n",
       "        vertical-align: top;\n",
       "    }\n",
       "\n",
       "    .dataframe thead th {\n",
       "        text-align: right;\n",
       "    }\n",
       "</style>\n",
       "<table border=\"1\" class=\"dataframe\">\n",
       "  <thead>\n",
       "    <tr style=\"text-align: right;\">\n",
       "      <th></th>\n",
       "      <th>concept_type</th>\n",
       "      <th>concept_uri</th>\n",
       "      <th>isco_group</th>\n",
       "      <th>preferred_label</th>\n",
       "      <th>alt_labels</th>\n",
       "      <th>description</th>\n",
       "      <th>id</th>\n",
       "      <th>is_top_level</th>\n",
       "      <th>is_second_level</th>\n",
       "      <th>parent_occupation_id</th>\n",
       "    </tr>\n",
       "  </thead>\n",
       "  <tbody>\n",
       "    <tr>\n",
       "      <th>0</th>\n",
       "      <td>Occupation</td>\n",
       "      <td>http://data.europa.eu/esco/occupation/00030d09...</td>\n",
       "      <td>2166</td>\n",
       "      <td>technical director</td>\n",
       "      <td>technical and operations director\\nhead of tec...</td>\n",
       "      <td>Technical directors realise the artistic visio...</td>\n",
       "      <td>0</td>\n",
       "      <td>False</td>\n",
       "      <td>False</td>\n",
       "      <td>False</td>\n",
       "    </tr>\n",
       "  </tbody>\n",
       "</table>\n",
       "</div>"
      ],
      "text/plain": [
       "  concept_type                                        concept_uri  isco_group  \\\n",
       "0   Occupation  http://data.europa.eu/esco/occupation/00030d09...        2166   \n",
       "\n",
       "      preferred_label                                         alt_labels  \\\n",
       "0  technical director  technical and operations director\\nhead of tec...   \n",
       "\n",
       "                                         description  id  is_top_level  \\\n",
       "0  Technical directors realise the artistic visio...   0         False   \n",
       "\n",
       "   is_second_level  parent_occupation_id  \n",
       "0            False                 False  "
      ]
     },
     "execution_count": 5,
     "metadata": {},
     "output_type": "execute_result"
    }
   ],
   "source": [
    "# Set up a dataframe to store the hierarchy, with columns pertaining to hierarchy levels and parent occupation's ID\n",
    "occupation_hierarchy = occupations.copy()\n",
    "occupation_hierarchy['is_top_level'] = False\n",
    "occupation_hierarchy['is_second_level'] = False\n",
    "occupation_hierarchy['parent_occupation_id'] = False\n",
    "\n",
    "occupation_hierarchy.head(1)"
   ]
  },
  {
   "cell_type": "code",
   "execution_count": 27,
   "metadata": {},
   "outputs": [
    {
     "name": "stdout",
     "output_type": "stream",
     "text": [
      "1701 top-level occupations\n"
     ]
    }
   ],
   "source": [
    "# Use the API to get all top-level ESCO occupations\n",
    "# (alternatively, use the next cell to import the preloaded data)\n",
    "head_link = 'https://ec.europa.eu/esco/api'\n",
    "link = '/resource/taxonomy?uris=http://data.europa.eu/esco/concept-scheme/isco&uris=http://data.europa.eu/esco/concept-scheme/member-occupations&language=en'\n",
    "req = requests.get(head_link+link)\n",
    "\n",
    "# ESCO occupations \n",
    "occupations_from_API = req.json()['_embedded']['http://data.europa.eu/esco/concept-scheme/member-occupations']['_links']['hasTopConcept']\n",
    "print(f'{len(occupations_from_API)} top-level occupations')\n",
    "\n",
    "# Create a dataframe with the top level ESCO occupations\n",
    "top_uri = []\n",
    "top_titles = []\n",
    "\n",
    "for occupation in occupations_from_API:\n",
    "    top_uri.append(occupation['uri'])\n",
    "    top_titles.append(occupation['title'])\n",
    "    \n",
    "top_occupations = pd.DataFrame(data={\n",
    "    'concept_uri':top_uri,\n",
    "    'title': top_titles,\n",
    "    'is_top': [1]*len(top_uri)})\n",
    "\n",
    "## Save a backup of the API response\n",
    "pickle.dump(top_occupations, open(api_folder + 'ESCO_top_occupations_dataframe.pickle', 'wb'))\n"
   ]
  },
  {
   "cell_type": "code",
   "execution_count": 6,
   "metadata": {},
   "outputs": [],
   "source": [
    "## Load the dataframe with all top occupations\n",
    "top_occupations = pickle.load(open(api_folder + 'ESCO_top_occupations_dataframe.pickle', 'rb'))\n"
   ]
  },
  {
   "cell_type": "code",
   "execution_count": 7,
   "metadata": {},
   "outputs": [
    {
     "data": {
      "text/html": [
       "<div>\n",
       "<style scoped>\n",
       "    .dataframe tbody tr th:only-of-type {\n",
       "        vertical-align: middle;\n",
       "    }\n",
       "\n",
       "    .dataframe tbody tr th {\n",
       "        vertical-align: top;\n",
       "    }\n",
       "\n",
       "    .dataframe thead th {\n",
       "        text-align: right;\n",
       "    }\n",
       "</style>\n",
       "<table border=\"1\" class=\"dataframe\">\n",
       "  <thead>\n",
       "    <tr style=\"text-align: right;\">\n",
       "      <th></th>\n",
       "      <th>concept_type</th>\n",
       "      <th>concept_uri</th>\n",
       "      <th>isco_group</th>\n",
       "      <th>preferred_label</th>\n",
       "      <th>alt_labels</th>\n",
       "      <th>description</th>\n",
       "      <th>id</th>\n",
       "      <th>is_top_level</th>\n",
       "      <th>is_second_level</th>\n",
       "      <th>parent_occupation_id</th>\n",
       "    </tr>\n",
       "  </thead>\n",
       "  <tbody>\n",
       "    <tr>\n",
       "      <th>0</th>\n",
       "      <td>Occupation</td>\n",
       "      <td>http://data.europa.eu/esco/occupation/00030d09...</td>\n",
       "      <td>2166</td>\n",
       "      <td>technical director</td>\n",
       "      <td>technical and operations director\\nhead of tec...</td>\n",
       "      <td>Technical directors realise the artistic visio...</td>\n",
       "      <td>0</td>\n",
       "      <td>False</td>\n",
       "      <td>False</td>\n",
       "      <td>False</td>\n",
       "    </tr>\n",
       "    <tr>\n",
       "      <th>1</th>\n",
       "      <td>Occupation</td>\n",
       "      <td>http://data.europa.eu/esco/occupation/000e93a3...</td>\n",
       "      <td>8121</td>\n",
       "      <td>metal drawing machine operator</td>\n",
       "      <td>metal drawing machine technician\\nmetal drawin...</td>\n",
       "      <td>Metal drawing machine operators set up and ope...</td>\n",
       "      <td>1</td>\n",
       "      <td>True</td>\n",
       "      <td>False</td>\n",
       "      <td>False</td>\n",
       "    </tr>\n",
       "  </tbody>\n",
       "</table>\n",
       "</div>"
      ],
      "text/plain": [
       "  concept_type                                        concept_uri  isco_group  \\\n",
       "0   Occupation  http://data.europa.eu/esco/occupation/00030d09...        2166   \n",
       "1   Occupation  http://data.europa.eu/esco/occupation/000e93a3...        8121   \n",
       "\n",
       "                  preferred_label  \\\n",
       "0              technical director   \n",
       "1  metal drawing machine operator   \n",
       "\n",
       "                                          alt_labels  \\\n",
       "0  technical and operations director\\nhead of tec...   \n",
       "1  metal drawing machine technician\\nmetal drawin...   \n",
       "\n",
       "                                         description  id  is_top_level  \\\n",
       "0  Technical directors realise the artistic visio...   0         False   \n",
       "1  Metal drawing machine operators set up and ope...   1          True   \n",
       "\n",
       "   is_second_level  parent_occupation_id  \n",
       "0            False                 False  \n",
       "1            False                 False  "
      ]
     },
     "execution_count": 7,
     "metadata": {},
     "output_type": "execute_result"
    }
   ],
   "source": [
    "# Update occupation hierarchy dataframe\n",
    "occupation_hierarchy_ = occupation_hierarchy.merge(top_occupations, on='concept_uri', how='left')\n",
    "occupation_hierarchy_.loc[occupation_hierarchy_.is_top==1, 'is_top_level'] = True\n",
    "occupation_hierarchy_.drop(['is_top', 'title'], axis=1, inplace=True)\n",
    "occupation_hierarchy_.head(2)\n"
   ]
  },
  {
   "cell_type": "markdown",
   "metadata": {},
   "source": [
    "## 1.2 Second level ESCO occupations (ISCO Level 6)"
   ]
  },
  {
   "cell_type": "code",
   "execution_count": 15,
   "metadata": {},
   "outputs": [],
   "source": [
    "# Check which Level 5 occupations have \"narrower occupations\";\n",
    "# Note that making all the API calls can take about 20 minutes\n",
    "# (alternatively, use the next cell to import the preloaded data)\n",
    "has_narrower_occupations = []\n",
    "has_broader_occupations = []\n",
    "narrow_occupations = []\n",
    "\n",
    "for j in tqdm(range(len(top_titles)), total=len(top_titles)):\n",
    "    \n",
    "    # Get top occupation's data\n",
    "    link = occupations_from_API[j]['href']\n",
    "    req_occupation = requests.get(link)\n",
    "\n",
    "    link_dict = req_occupation.json()['_links']\n",
    "    k = list(link_dict.keys())\n",
    "\n",
    "    # Get broader and narrower occupations\n",
    "    if 'broaderOccupation' in k:\n",
    "        has_broader_occupations.append(j)\n",
    "        # should remain empty if data is ok\n",
    "    if 'narrowerOccupation' in k:    \n",
    "        has_narrower_occupations.append(j)\n",
    "        narrow_occupations.append(link_dict['narrowerOccupation'])\n",
    "        \n",
    "pickle.dump(has_narrower_occupations, open(api_folder + 'ESCO_has_narrower_occupations.pickle','wb'))\n",
    "pickle.dump(narrow_occupations, open(api_folder + 'ESCO_narrower_occupations.pickle','wb'))\n"
   ]
  },
  {
   "cell_type": "code",
   "execution_count": 8,
   "metadata": {},
   "outputs": [],
   "source": [
    "# Import the preloaded lists of narrower occupations\n",
    "has_narrower_occupations = pickle.load(open(api_folder + 'ESCO_has_narrower_occupations.pickle','rb'))\n",
    "narrow_occupations = pickle.load(open(api_folder + 'ESCO_narrower_occupations.pickle','rb'))\n"
   ]
  },
  {
   "cell_type": "code",
   "execution_count": 9,
   "metadata": {},
   "outputs": [],
   "source": [
    "# Get IDs for the broader (parent) and narrower (children) ESCO occupations\n",
    "top_occupations_id = top_occupations.merge(occupations[['id','concept_uri']], on='concept_uri')\n",
    "\n",
    "# List of lists of narrow occupation IDs\n",
    "narrow_occupations_ids = []\n",
    "\n",
    "# Broad (parent) occupation IDs\n",
    "broad_occupation_ids = []\n",
    "\n",
    "# Get IDs of the narrower occupations\n",
    "for j in range(len(has_narrower_occupations)):\n",
    "    \n",
    "    # Get the ID of the parent occupation \n",
    "    top_id = top_occupations_id.iloc[has_narrower_occupations[j]]['id']\n",
    "    broad_occupation_ids.append(top_id)\n",
    "    \n",
    "    # Get the IDs of the children occupations\n",
    "    n_narrow = len(narrow_occupations[j])\n",
    "    narrow_id = []\n",
    "    for i in range(n_narrow):\n",
    "        narrow_id.append(occupations[occupations.concept_uri==narrow_occupations[j][i]['uri']]['id'].values[0])\n",
    "    \n",
    "    narrow_occupations_ids.append(narrow_id)\n",
    "    "
   ]
  },
  {
   "cell_type": "code",
   "execution_count": 10,
   "metadata": {},
   "outputs": [],
   "source": [
    "# Update occupation hierarchy dataframe\n",
    "for j in range(len(broad_occupation_ids)):\n",
    "    parent_id = occupations.loc[broad_occupation_ids[j]]['id']\n",
    "    occupation_hierarchy_.loc[narrow_occupations_ids[j], 'is_second_level'] = True\n",
    "    occupation_hierarchy_.loc[narrow_occupations_ids[j], 'parent_occupation_id'] = parent_id"
   ]
  },
  {
   "cell_type": "code",
   "execution_count": 11,
   "metadata": {},
   "outputs": [
    {
     "name": "stdout",
     "output_type": "stream",
     "text": [
      "230 second level occupations have 1064 children\n"
     ]
    }
   ],
   "source": [
    "# Get second level URIs for the next API calls\n",
    "second_level_occupations = occupation_hierarchy_[occupation_hierarchy_.is_second_level==True].copy()\n",
    "second_level_occupations_uris = second_level_occupations.concept_uri.to_list()\n",
    "print(f\"{len(broad_occupation_ids)} second level occupations have {len(second_level_occupations)} children\")"
   ]
  },
  {
   "cell_type": "markdown",
   "metadata": {},
   "source": [
    "## 1.3 Third level ESCO occupations (ISCO Level 7)"
   ]
  },
  {
   "cell_type": "code",
   "execution_count": 24,
   "metadata": {},
   "outputs": [],
   "source": [
    "# Check which Level 6 occupations have \"narrower occupations\";\n",
    "# Note that making all the API calls will take some time\n",
    "# (alternatively, use the next cell to import the preloaded data)\n",
    "has_narrower_occupations_level_2 = []\n",
    "narrow_occupations_level_2 = []\n",
    "\n",
    "has_broader_occupations_level_2 = []\n",
    "broader_occupations_level_2 = []\n",
    "\n",
    "for j in tqdm(range(len(second_level_occupations)), total=len(second_level_occupations)):\n",
    "\n",
    "    uri = second_level_occupations_uris[j]\n",
    "    link = head_link + '/resource/occupation?uris=' + uri + '&language=en'\n",
    "    req_occupation = requests.get(link)\n",
    "\n",
    "    keys = list(req_occupation.json()['_embedded'].keys())\n",
    "    key = keys[0]\n",
    "\n",
    "    link_dict = req_occupation.json()['_embedded'][key]['_links']\n",
    "    k = list(link_dict.keys())\n",
    "\n",
    "    if 'broaderOccupation' in k:\n",
    "        has_broader_occupations_level_2.append(j)\n",
    "        broader_occupations_level_2.append(link_dict['broaderOccupation'])\n",
    "        \n",
    "    if 'narrowerOccupation' in k:    \n",
    "        has_narrower_occupations_level_2.append(j)\n",
    "        narrow_occupations_level_2.append(link_dict['narrowerOccupation'])\n",
    "        \n",
    "pickle.dump(has_narrower_occupations_level_2, open(api_folder + 'ESCO_has_narrower_occupations_level_2.pickle','wb'))\n",
    "pickle.dump(narrow_occupations_level_2, open(api_folder + 'ESCO_narrower_occupations_level_2.pickle','wb'))\n",
    "\n",
    "pickle.dump(has_broader_occupations_level_2, open(api_folder + 'ESCO_has_broader_occupations_level_2.pickle','wb'))\n",
    "pickle.dump(broader_occupations_level_2, open(api_folder + 'ESCO_broader_occupations_level_2.pickle','wb'))\n"
   ]
  },
  {
   "cell_type": "code",
   "execution_count": 12,
   "metadata": {},
   "outputs": [],
   "source": [
    "# Import the preloaded lists of narrower & broader occupations\n",
    "has_narrower_occupations_level_2 = pickle.load(open(api_folder + 'ESCO_has_narrower_occupations_level_2.pickle','rb'))\n",
    "narrow_occupations_level_2 = pickle.load(open(api_folder + 'ESCO_narrower_occupations_level_2.pickle','rb'))\n",
    "\n",
    "has_broader_occupations_level_2 =  pickle.load(open(api_folder + 'ESCO_has_broader_occupations_level_2.pickle','rb'))\n",
    "broader_occupations_level_2 = pickle.load(open(api_folder + 'ESCO_broader_occupations_level_2.pickle','rb'))\n"
   ]
  },
  {
   "cell_type": "code",
   "execution_count": 13,
   "metadata": {},
   "outputs": [],
   "source": [
    "# Get IDs for the broader (parent) and narrower (children) ESCO occupations\n",
    "top_occupations = pd.DataFrame(data={'concept_uri':second_level_occupations_uris})\n",
    "top_occupations_id = top_occupations.merge(occupations[['id','concept_uri']], on='concept_uri')\n",
    "\n",
    "narrow_occupations_ids_level_2 = []\n",
    "broad_occupation_ids_level_2 = []\n",
    "\n",
    "for j in range(len(has_narrower_occupations_level_2)):\n",
    "    top_id = top_occupations_id.iloc[has_narrower_occupations_level_2[j]]['id']\n",
    "    broad_occupation_ids_level_2.append(top_id)\n",
    "    \n",
    "    n_narrow = len(narrow_occupations_level_2[j])\n",
    "    narrow_id = []\n",
    "    for i in range(n_narrow):\n",
    "        narrow_id.append(occupations[occupations.concept_uri==narrow_occupations_level_2[j][i]['uri']]['id'].values[0])\n",
    "    \n",
    "    narrow_occupations_ids_level_2.append(narrow_id)\n",
    "    "
   ]
  },
  {
   "cell_type": "code",
   "execution_count": 14,
   "metadata": {},
   "outputs": [
    {
     "name": "stdout",
     "output_type": "stream",
     "text": [
      "Third level occupations with children\n",
      "----\n",
      "13 rental service representative in machinery, equipment and tangible goods\n",
      "179 musical conductor\n",
      "254 product development manager\n",
      "532 rental service representative in personal and household goods\n",
      "572 warehouse manager\n",
      "593 quality engineer\n",
      "619 building electrician\n",
      "866 sommelier\n",
      "923 agricultural engineer\n",
      "982 commercial pilot\n",
      "1025 botanist\n",
      "1172 import export specialist\n",
      "1191 lathe and turning machine operator\n",
      "1194 distribution manager\n",
      "1246 outdoor animator\n",
      "1335 marketing manager\n",
      "1442 fashion designer\n",
      "1682 microelectronics engineer\n",
      "1703 specialist pharmacist\n",
      "1710 V-belt builder\n",
      "1711 pastry chef\n",
      "2016 supply chain manager\n",
      "2180 import export manager\n",
      "2277 research manager\n",
      "2279 securities broker\n",
      "2364 energy assessor\n",
      "2525 production engineer\n",
      "2531 aerospace engineer\n",
      "2728 industrial production manager\n",
      "2898 animal trainer\n",
      "2919 industrial quality manager\n"
     ]
    }
   ],
   "source": [
    "# Update occupation hierarchy dataframe\n",
    "occupation_hierarchy__ = occupation_hierarchy_.copy()\n",
    "occupation_hierarchy__['is_third_level'] = False\n",
    "\n",
    "print('Third level occupations with children')\n",
    "print('----')\n",
    "\n",
    "for j in range(len(broad_occupation_ids_level_2)):\n",
    "    parent_id = occupations.loc[broad_occupation_ids_level_2[j]]['id']\n",
    "    print(parent_id, occupations.loc[parent_id].preferred_label)\n",
    "    occupation_hierarchy__.loc[narrow_occupations_ids_level_2[j], 'is_third_level'] = True\n",
    "    occupation_hierarchy__.loc[narrow_occupations_ids_level_2[j], 'parent_occupation_id'] = parent_id"
   ]
  },
  {
   "cell_type": "code",
   "execution_count": 15,
   "metadata": {},
   "outputs": [
    {
     "name": "stdout",
     "output_type": "stream",
     "text": [
      "31 third level occupations have 136 children\n"
     ]
    }
   ],
   "source": [
    "# Get third level URIs for the next API calls\n",
    "third_level_occupations = occupation_hierarchy__[occupation_hierarchy__.is_third_level==True].copy()\n",
    "third_level_occupations_uris = third_level_occupations.concept_uri.to_list()\n",
    "print(f\"{len(broad_occupation_ids_level_2)} third level occupations have {len(third_level_occupations)} children\")\n"
   ]
  },
  {
   "cell_type": "markdown",
   "metadata": {},
   "source": [
    "## 1.4 Fourth level occupations (Level 8)"
   ]
  },
  {
   "cell_type": "code",
   "execution_count": 29,
   "metadata": {},
   "outputs": [],
   "source": [
    "# Check which Level 7 occupations have \"narrower occupations\";\n",
    "# Note that making all the API calls will take some time\n",
    "# (alternatively, use the next cell to import the preloaded data)\n",
    "has_narrower_occupations_level_3 = []\n",
    "narrow_occupations_level_3 = []\n",
    "\n",
    "has_broader_occupations_level_3 = []\n",
    "broader_occupations_level_3 = []\n",
    "\n",
    "for j in tqdm(range(len(third_level_occupations_uris)), total=len(third_level_occupations_uris)):\n",
    "\n",
    "    uri = third_level_occupations_uris[j]\n",
    "    link = head_link + '/resource/occupation?uris=' + uri + '&language=en'\n",
    "    req_occupation = requests.get(link)\n",
    "\n",
    "    keys = list(req_occupation.json()['_embedded'].keys())\n",
    "    key = keys[0]\n",
    "\n",
    "    link_dict = req_occupation.json()['_embedded'][key]['_links']\n",
    "    k = list(link_dict.keys())\n",
    "\n",
    "    if 'broaderOccupation' in k:\n",
    "        has_broader_occupations_level_3.append(j)\n",
    "        broader_occupations_level_3.append(link_dict['broaderOccupation'])\n",
    "        \n",
    "    if 'narrowerOccupation' in k:    \n",
    "        has_narrower_occupations_level_3.append(j)\n",
    "        narrow_occupations_level_3.append(link_dict['narrowerOccupation'])\n",
    "        \n",
    "pickle.dump(has_narrower_occupations_level_3, open(api_folder + 'ESCO_has_narrower_occupations_level_3.pickle','wb'))\n",
    "pickle.dump(narrow_occupations_level_3, open(api_folder + 'ESCO_narrower_occupations_level_3.pickle','wb'))\n",
    "\n",
    "pickle.dump(has_broader_occupations_level_3, open(api_folder + 'ESCO_has_broader_occupations_level_3.pickle','wb'))\n",
    "pickle.dump(broader_occupations_level_3, open(api_folder + 'ESCO_broader_occupations_level_3.pickle','wb'))\n",
    "        "
   ]
  },
  {
   "cell_type": "code",
   "execution_count": 16,
   "metadata": {},
   "outputs": [],
   "source": [
    "# Import the preloaded lists of narrower & broader occupations\n",
    "has_narrower_occupations_level_3 = pickle.load(open(api_folder + 'ESCO_has_narrower_occupations_level_3.pickle','rb'))\n",
    "narrow_occupations_level_3 = pickle.load(open(api_folder + 'ESCO_narrower_occupations_level_3.pickle','rb'))\n",
    "\n",
    "has_broader_occupations_level_3 = pickle.load(open(api_folder + 'ESCO_has_broader_occupations_level_3.pickle','rb'))\n",
    "broader_occupations_level_3 = pickle.load(open(api_folder + 'ESCO_broader_occupations_level_3.pickle','rb'))\n"
   ]
  },
  {
   "cell_type": "code",
   "execution_count": 17,
   "metadata": {},
   "outputs": [],
   "source": [
    "# Get IDs for the broader (parent) and narrower (children) ESCO occupations\n",
    "top_occupations = pd.DataFrame(data={'concept_uri': third_level_occupations_uris})\n",
    "top_occupations_id = top_occupations.merge(occupations[['id','concept_uri']], on='concept_uri')\n",
    "\n",
    "narrow_occupations_ids_level_3 = []\n",
    "broad_occupation_ids_level_3 = []\n",
    "\n",
    "for j in range(len(has_narrower_occupations_level_3)):\n",
    "    top_id = top_occupations_id.iloc[has_narrower_occupations_level_3[j]]['id']\n",
    "    broad_occupation_ids_level_3.append(top_id)\n",
    "    \n",
    "    n_narrow = len(narrow_occupations_level_3[j])\n",
    "    narrow_id = []\n",
    "    for i in range(n_narrow):\n",
    "        narrow_id.append(occupations[occupations.concept_uri==narrow_occupations_level_3[j][i]['uri']]['id'].values[0])\n",
    "    \n",
    "    narrow_occupations_ids_level_3.append(narrow_id)\n",
    "    "
   ]
  },
  {
   "cell_type": "code",
   "execution_count": 18,
   "metadata": {},
   "outputs": [
    {
     "name": "stdout",
     "output_type": "stream",
     "text": [
      "Fourth level occupations with children\n",
      "----\n",
      "471 dog trainer\n",
      "599 leather production manager\n",
      "671 purchasing manager\n",
      "1021 outdoor activities instructor\n",
      "1372 specialised goods distribution manager\n",
      "1978 sales manager\n"
     ]
    }
   ],
   "source": [
    "occupation_hierarchy__['is_fourth_level'] = False\n",
    "\n",
    "print('Fourth level occupations with children')\n",
    "print('----')\n",
    "\n",
    "for j in range(len(broad_occupation_ids_level_3)):\n",
    "    parent_id = occupations.loc[broad_occupation_ids_level_3[j]]['id']\n",
    "    print(parent_id, occupations.loc[parent_id].preferred_label)\n",
    "    occupation_hierarchy__.loc[narrow_occupations_ids_level_3[j], 'is_fourth_level'] = True\n",
    "    occupation_hierarchy__.loc[narrow_occupations_ids_level_3[j], 'parent_occupation_id'] = parent_id\n",
    "    "
   ]
  },
  {
   "cell_type": "code",
   "execution_count": 19,
   "metadata": {},
   "outputs": [
    {
     "data": {
      "text/html": [
       "<div>\n",
       "<style scoped>\n",
       "    .dataframe tbody tr th:only-of-type {\n",
       "        vertical-align: middle;\n",
       "    }\n",
       "\n",
       "    .dataframe tbody tr th {\n",
       "        vertical-align: top;\n",
       "    }\n",
       "\n",
       "    .dataframe thead th {\n",
       "        text-align: right;\n",
       "    }\n",
       "</style>\n",
       "<table border=\"1\" class=\"dataframe\">\n",
       "  <thead>\n",
       "    <tr style=\"text-align: right;\">\n",
       "      <th></th>\n",
       "      <th>concept_type</th>\n",
       "      <th>concept_uri</th>\n",
       "      <th>isco_group</th>\n",
       "      <th>preferred_label</th>\n",
       "      <th>alt_labels</th>\n",
       "      <th>description</th>\n",
       "      <th>id</th>\n",
       "      <th>is_top_level</th>\n",
       "      <th>is_second_level</th>\n",
       "      <th>parent_occupation_id</th>\n",
       "      <th>is_third_level</th>\n",
       "      <th>is_fourth_level</th>\n",
       "    </tr>\n",
       "  </thead>\n",
       "  <tbody>\n",
       "    <tr>\n",
       "      <th>1018</th>\n",
       "      <td>Occupation</td>\n",
       "      <td>http://data.europa.eu/esco/occupation/555ad9ba...</td>\n",
       "      <td>4323</td>\n",
       "      <td>gas transmission system operator</td>\n",
       "      <td>gas transmission system operative\\nnatural gas...</td>\n",
       "      <td>Gas transmission system operators transport en...</td>\n",
       "      <td>1018</td>\n",
       "      <td>True</td>\n",
       "      <td>False</td>\n",
       "      <td>False</td>\n",
       "      <td>False</td>\n",
       "      <td>False</td>\n",
       "    </tr>\n",
       "    <tr>\n",
       "      <th>1552</th>\n",
       "      <td>Occupation</td>\n",
       "      <td>http://data.europa.eu/esco/occupation/81309031...</td>\n",
       "      <td>3412</td>\n",
       "      <td>residential care home worker</td>\n",
       "      <td>care home manager\\nsleep in support care worke...</td>\n",
       "      <td>Residential care home workers follow a specifi...</td>\n",
       "      <td>1552</td>\n",
       "      <td>False</td>\n",
       "      <td>True</td>\n",
       "      <td>1700</td>\n",
       "      <td>False</td>\n",
       "      <td>False</td>\n",
       "    </tr>\n",
       "  </tbody>\n",
       "</table>\n",
       "</div>"
      ],
      "text/plain": [
       "     concept_type                                        concept_uri  \\\n",
       "1018   Occupation  http://data.europa.eu/esco/occupation/555ad9ba...   \n",
       "1552   Occupation  http://data.europa.eu/esco/occupation/81309031...   \n",
       "\n",
       "      isco_group                   preferred_label  \\\n",
       "1018        4323  gas transmission system operator   \n",
       "1552        3412      residential care home worker   \n",
       "\n",
       "                                             alt_labels  \\\n",
       "1018  gas transmission system operative\\nnatural gas...   \n",
       "1552  care home manager\\nsleep in support care worke...   \n",
       "\n",
       "                                            description    id  is_top_level  \\\n",
       "1018  Gas transmission system operators transport en...  1018          True   \n",
       "1552  Residential care home workers follow a specifi...  1552         False   \n",
       "\n",
       "      is_second_level parent_occupation_id  is_third_level  is_fourth_level  \n",
       "1018            False                False           False            False  \n",
       "1552             True                 1700           False            False  "
      ]
     },
     "execution_count": 19,
     "metadata": {},
     "output_type": "execute_result"
    }
   ],
   "source": [
    "occupation_hierarchy_final = occupation_hierarchy__.copy()\n",
    "occupation_hierarchy_final.sample(2)"
   ]
  },
  {
   "cell_type": "markdown",
   "metadata": {},
   "source": [
    "# 2. Reconstruct the full ESCO occupational hierarchy\n",
    "\n",
    "The final table contains information that allows one to reconstruct the full occupational hierarchy of the 2942 ESCO occupations.\n",
    "\n",
    "The columns `isco_level_{x}` with `x` between 1..4 indicate the ESCO occupation's membership to ISCO major, sub-major, minor and unit occupational groups, respectively.\n",
    "\n",
    "The columns `is_{top|second|third|fourth}_level` indicate whether the occupation is, what we call, a top-level ESCO occupation (i.e. ISCO Level 5) or a lower level ESCO occupation (with `is_second_level` corresponding to ISCO Level 6 and so forth).\n",
    "\n",
    "Finally, column `parent_occupation_id` indicates the direct parent ESCO occupation (for top-level ESCO occupations there is no parent), and `top_level_parent_id` indicates the ESCO occupation's corresponding top-level occupation. "
   ]
  },
  {
   "cell_type": "code",
   "execution_count": 20,
   "metadata": {},
   "outputs": [],
   "source": [
    "# Import a dataframe explicitly specifying different ISCO levels\n",
    "occupations_isco = pd.read_csv(f'{outputs_folder}ESCO_to_ISCO.csv')\n",
    "\n",
    "# Create a dataframe with the full hierarchy (ISCO + ESCO levels)\n",
    "full_hierarchy = occupation_hierarchy_final.merge(occupations_isco[[\n",
    "    'concept_uri','isco_level_1','isco_level_2','isco_level_3','isco_level_4']], on='concept_uri')\n",
    "\n",
    "# Add a column which explicates the top level parent (Level 5 occupation)\n",
    "top_level_parent_id = []\n",
    "for i, row in full_hierarchy.iterrows():\n",
    "    parent_id = row.parent_occupation_id\n",
    "    while parent_id != False:\n",
    "        row = full_hierarchy.loc[parent_id]\n",
    "        parent_id = row.parent_occupation_id\n",
    "    top_level_parent_id.append(row.id)\n",
    "full_hierarchy['top_level_parent_id'] = top_level_parent_id\n",
    "\n",
    "# Reorganise the columns\n",
    "full_hierarchy = full_hierarchy[[\n",
    "    'id','concept_type','concept_uri','preferred_label',\n",
    "    'isco_level_1', 'isco_level_2', 'isco_level_3', 'isco_level_4',\n",
    "    'is_top_level', # True if the occupation is top ESCO level (i.e., Level 5 including the four-digit ISCO levels)\n",
    "    'is_second_level','is_third_level','is_fourth_level', \n",
    "    'parent_occupation_id', # ID of the parent occupation that is one level higher in the hierarchy\n",
    "    'top_level_parent_id' # ID of the ESCO top level (Level 5) parent\n",
    "]]\n",
    "\n",
    "full_hierarchy.loc[full_hierarchy.parent_occupation_id==False, 'parent_occupation_id'] = np.nan\n"
   ]
  },
  {
   "cell_type": "code",
   "execution_count": 21,
   "metadata": {},
   "outputs": [
    {
     "data": {
      "text/plain": [
       "2942"
      ]
     },
     "execution_count": 21,
     "metadata": {},
     "output_type": "execute_result"
    }
   ],
   "source": [
    "len(full_hierarchy)"
   ]
  },
  {
   "cell_type": "code",
   "execution_count": 22,
   "metadata": {},
   "outputs": [
    {
     "data": {
      "text/html": [
       "<div>\n",
       "<style scoped>\n",
       "    .dataframe tbody tr th:only-of-type {\n",
       "        vertical-align: middle;\n",
       "    }\n",
       "\n",
       "    .dataframe tbody tr th {\n",
       "        vertical-align: top;\n",
       "    }\n",
       "\n",
       "    .dataframe thead th {\n",
       "        text-align: right;\n",
       "    }\n",
       "</style>\n",
       "<table border=\"1\" class=\"dataframe\">\n",
       "  <thead>\n",
       "    <tr style=\"text-align: right;\">\n",
       "      <th></th>\n",
       "      <th>id</th>\n",
       "      <th>concept_type</th>\n",
       "      <th>concept_uri</th>\n",
       "      <th>preferred_label</th>\n",
       "      <th>isco_level_1</th>\n",
       "      <th>isco_level_2</th>\n",
       "      <th>isco_level_3</th>\n",
       "      <th>isco_level_4</th>\n",
       "      <th>is_top_level</th>\n",
       "      <th>is_second_level</th>\n",
       "      <th>is_third_level</th>\n",
       "      <th>is_fourth_level</th>\n",
       "      <th>parent_occupation_id</th>\n",
       "      <th>top_level_parent_id</th>\n",
       "    </tr>\n",
       "  </thead>\n",
       "  <tbody>\n",
       "    <tr>\n",
       "      <th>408</th>\n",
       "      <td>408</td>\n",
       "      <td>Occupation</td>\n",
       "      <td>http://data.europa.eu/esco/occupation/219e7fdd...</td>\n",
       "      <td>train preparer</td>\n",
       "      <td>8</td>\n",
       "      <td>83</td>\n",
       "      <td>831</td>\n",
       "      <td>8312</td>\n",
       "      <td>True</td>\n",
       "      <td>False</td>\n",
       "      <td>False</td>\n",
       "      <td>False</td>\n",
       "      <td>NaN</td>\n",
       "      <td>408</td>\n",
       "    </tr>\n",
       "    <tr>\n",
       "      <th>119</th>\n",
       "      <td>119</td>\n",
       "      <td>Occupation</td>\n",
       "      <td>http://data.europa.eu/esco/occupation/099a901f...</td>\n",
       "      <td>motor vehicles parts advisor</td>\n",
       "      <td>5</td>\n",
       "      <td>52</td>\n",
       "      <td>522</td>\n",
       "      <td>5223</td>\n",
       "      <td>True</td>\n",
       "      <td>False</td>\n",
       "      <td>False</td>\n",
       "      <td>False</td>\n",
       "      <td>NaN</td>\n",
       "      <td>119</td>\n",
       "    </tr>\n",
       "    <tr>\n",
       "      <th>2276</th>\n",
       "      <td>2276</td>\n",
       "      <td>Occupation</td>\n",
       "      <td>http://data.europa.eu/esco/occupation/c01cdf85...</td>\n",
       "      <td>financial broker</td>\n",
       "      <td>3</td>\n",
       "      <td>33</td>\n",
       "      <td>331</td>\n",
       "      <td>3311</td>\n",
       "      <td>True</td>\n",
       "      <td>False</td>\n",
       "      <td>False</td>\n",
       "      <td>False</td>\n",
       "      <td>NaN</td>\n",
       "      <td>2276</td>\n",
       "    </tr>\n",
       "  </tbody>\n",
       "</table>\n",
       "</div>"
      ],
      "text/plain": [
       "        id concept_type                                        concept_uri  \\\n",
       "408    408   Occupation  http://data.europa.eu/esco/occupation/219e7fdd...   \n",
       "119    119   Occupation  http://data.europa.eu/esco/occupation/099a901f...   \n",
       "2276  2276   Occupation  http://data.europa.eu/esco/occupation/c01cdf85...   \n",
       "\n",
       "                   preferred_label  isco_level_1  isco_level_2  isco_level_3  \\\n",
       "408                 train preparer             8            83           831   \n",
       "119   motor vehicles parts advisor             5            52           522   \n",
       "2276              financial broker             3            33           331   \n",
       "\n",
       "      isco_level_4  is_top_level  is_second_level  is_third_level  \\\n",
       "408           8312          True            False           False   \n",
       "119           5223          True            False           False   \n",
       "2276          3311          True            False           False   \n",
       "\n",
       "      is_fourth_level parent_occupation_id  top_level_parent_id  \n",
       "408             False                  NaN                  408  \n",
       "119             False                  NaN                  119  \n",
       "2276            False                  NaN                 2276  "
      ]
     },
     "execution_count": 22,
     "metadata": {},
     "output_type": "execute_result"
    }
   ],
   "source": [
    "full_hierarchy.sample(3)"
   ]
  },
  {
   "cell_type": "markdown",
   "metadata": {},
   "source": [
    "## 2.1 Examples\n",
    "\n",
    "We first check that `international student exchange coordinator` is a narrower occupation of the top-level occupation `administrative assistant`."
   ]
  },
  {
   "cell_type": "code",
   "execution_count": 23,
   "metadata": {},
   "outputs": [
    {
     "name": "stdout",
     "output_type": "stream",
     "text": [
      "id                                                           2903\n",
      "preferred_label        international student exchange coordinator\n",
      "is_top_level                                                False\n",
      "top_level_parent_id                                            59\n",
      "Name: 2903, dtype: object\n",
      "---\n",
      "id                                           59\n",
      "preferred_label        administrative assistant\n",
      "is_top_level                               True\n",
      "top_level_parent_id                          59\n",
      "Name: 59, dtype: object\n"
     ]
    }
   ],
   "source": [
    "print(full_hierarchy.loc[2903][['id', 'preferred_label', 'is_top_level', 'top_level_parent_id']])\n",
    "print('---')\n",
    "print(full_hierarchy.loc[59][['id', 'preferred_label',  'is_top_level', 'top_level_parent_id']])"
   ]
  },
  {
   "cell_type": "markdown",
   "metadata": {},
   "source": [
    "Check that `logistics and distribution manager` is a top-level occupation (without a parent id) and it is the top-level parent to a Level 8 occupation `electronic and telecommunications equipment and parts distribution manager`."
   ]
  },
  {
   "cell_type": "code",
   "execution_count": 24,
   "metadata": {},
   "outputs": [
    {
     "name": "stdout",
     "output_type": "stream",
     "text": [
      "id                                                                     47\n",
      "preferred_label         electronic and telecommunications equipment an...\n",
      "is_top_level                                                        False\n",
      "parent_occupation_id                                                 1372\n",
      "top_level_parent_id                                                  1563\n",
      "Name: 47, dtype: object\n",
      "---\n",
      "id                                                    1563\n",
      "preferred_label         logistics and distribution manager\n",
      "is_top_level                                          True\n",
      "parent_occupation_id                                   NaN\n",
      "top_level_parent_id                                   1563\n",
      "Name: 1563, dtype: object\n"
     ]
    }
   ],
   "source": [
    "print(full_hierarchy.loc[47][['id', 'preferred_label', 'is_top_level', 'parent_occupation_id', 'top_level_parent_id']])\n",
    "print('---')\n",
    "print(full_hierarchy.loc[1563][['id', 'preferred_label',  'is_top_level', 'parent_occupation_id', 'top_level_parent_id']])"
   ]
  },
  {
   "cell_type": "markdown",
   "metadata": {},
   "source": [
    "# 3. Export the table"
   ]
  },
  {
   "cell_type": "code",
   "execution_count": 25,
   "metadata": {},
   "outputs": [],
   "source": [
    "# Export the ESCO occupation hierarchy\n",
    "full_hierarchy.to_csv(f'{outputs_folder}ESCO_occupational_hierarchy.csv', index=False)\n"
   ]
  },
  {
   "cell_type": "code",
   "execution_count": null,
   "metadata": {},
   "outputs": [],
   "source": []
  }
 ],
 "metadata": {
  "kernelspec": {
   "display_name": "Python 3",
   "language": "python",
   "name": "python3"
  },
  "language_info": {
   "codemirror_mode": {
    "name": "ipython",
    "version": 3
   },
   "file_extension": ".py",
   "mimetype": "text/x-python",
   "name": "python",
   "nbconvert_exporter": "python",
   "pygments_lexer": "ipython3",
   "version": "3.6.5"
  }
 },
 "nbformat": 4,
 "nbformat_minor": 2
}

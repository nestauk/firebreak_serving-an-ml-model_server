{
 "cells": [
  {
   "cell_type": "markdown",
   "metadata": {},
   "source": [
    "# Exploration of the first batch of validation results"
   ]
  },
  {
   "cell_type": "markdown",
   "metadata": {},
   "source": [
    "# 0. Import dependencies and inputs"
   ]
  },
  {
   "cell_type": "code",
   "execution_count": 2,
   "metadata": {
    "ExecuteTime": {
     "end_time": "2021-01-14T19:06:06.894480Z",
     "start_time": "2021-01-14T19:06:05.215218Z"
    }
   },
   "outputs": [],
   "source": [
    "%run ../notebook_preamble_Transitions.ipy\n",
    "from scipy.stats import pearsonr, spearmanr\n",
    "\n",
    "# Validations results of the first batch\n",
    "batch_1 = pd.read_csv(data_folder + 'processed/validation/Transitions_to_validate_BATCH_1.csv')\n",
    "batch_2 = pd.read_csv(data_folder + 'processed/validation/Transitions_to_validate_BATCH_2.csv')\n",
    "batch = pd.concat([batch_1, batch_2], axis=0)\n",
    "\n",
    "# First batch of transitions\n",
    "path_to_val_data_1 = data_folder + 'raw/validation/nesta_output_16Dec.csv'\n",
    "path_to_val_data_2 = data_folder + 'raw/validation/nesta_output_4_Jan_2021.csv'\n",
    "batch_results = pd.concat([pd.read_csv(path_to_val_data_1), pd.read_csv(path_to_val_data_2)], axis=0)\n",
    "\n",
    "# Occupation similarity matrices\n",
    "sims = load_data.Similarities()"
   ]
  },
  {
   "cell_type": "code",
   "execution_count": 3,
   "metadata": {
    "ExecuteTime": {
     "end_time": "2021-01-12T10:24:17.192017Z",
     "start_time": "2021-01-12T10:24:16.954134Z"
    }
   },
   "outputs": [
    {
     "data": {
      "text/html": [
       "<div>\n",
       "<style scoped>\n",
       "    .dataframe tbody tr th:only-of-type {\n",
       "        vertical-align: middle;\n",
       "    }\n",
       "\n",
       "    .dataframe tbody tr th {\n",
       "        vertical-align: top;\n",
       "    }\n",
       "\n",
       "    .dataframe thead th {\n",
       "        text-align: right;\n",
       "    }\n",
       "</style>\n",
       "<table border=\"1\" class=\"dataframe\">\n",
       "  <thead>\n",
       "    <tr style=\"text-align: right;\">\n",
       "      <th></th>\n",
       "      <th>subject_ids</th>\n",
       "      <th>feasibility_1-5</th>\n",
       "      <th>origin_id</th>\n",
       "      <th>destination_id</th>\n",
       "      <th>origin_label</th>\n",
       "      <th>destination_label</th>\n",
       "    </tr>\n",
       "  </thead>\n",
       "  <tbody>\n",
       "    <tr>\n",
       "      <th>3894</th>\n",
       "      <td>53136856</td>\n",
       "      <td>2.333333</td>\n",
       "      <td>1401</td>\n",
       "      <td>66</td>\n",
       "      <td>bank manager</td>\n",
       "      <td>auction house manager</td>\n",
       "    </tr>\n",
       "    <tr>\n",
       "      <th>9072</th>\n",
       "      <td>53142662</td>\n",
       "      <td>3.833333</td>\n",
       "      <td>2142</td>\n",
       "      <td>2869</td>\n",
       "      <td>membranophone musical instruments maker</td>\n",
       "      <td>wind musical instrument maker</td>\n",
       "    </tr>\n",
       "    <tr>\n",
       "      <th>7584</th>\n",
       "      <td>53141091</td>\n",
       "      <td>3.250000</td>\n",
       "      <td>951</td>\n",
       "      <td>1607</td>\n",
       "      <td>filing machine operator</td>\n",
       "      <td>sawmill operator</td>\n",
       "    </tr>\n",
       "    <tr>\n",
       "      <th>4224</th>\n",
       "      <td>53137186</td>\n",
       "      <td>2.625000</td>\n",
       "      <td>1881</td>\n",
       "      <td>825</td>\n",
       "      <td>ICT system administrator</td>\n",
       "      <td>ICT application configurator</td>\n",
       "    </tr>\n",
       "    <tr>\n",
       "      <th>3052</th>\n",
       "      <td>53136014</td>\n",
       "      <td>3.000000</td>\n",
       "      <td>160</td>\n",
       "      <td>1419</td>\n",
       "      <td>ICT security consultant</td>\n",
       "      <td>ICT auditor manager</td>\n",
       "    </tr>\n",
       "  </tbody>\n",
       "</table>\n",
       "</div>"
      ],
      "text/plain": [
       "      subject_ids  feasibility_1-5  origin_id  destination_id  \\\n",
       "3894     53136856         2.333333       1401              66   \n",
       "9072     53142662         3.833333       2142            2869   \n",
       "7584     53141091         3.250000        951            1607   \n",
       "4224     53137186         2.625000       1881             825   \n",
       "3052     53136014         3.000000        160            1419   \n",
       "\n",
       "                                 origin_label              destination_label  \n",
       "3894                             bank manager          auction house manager  \n",
       "9072  membranophone musical instruments maker  wind musical instrument maker  \n",
       "7584                  filing machine operator               sawmill operator  \n",
       "4224                 ICT system administrator   ICT application configurator  \n",
       "3052                  ICT security consultant            ICT auditor manager  "
      ]
     },
     "execution_count": 3,
     "metadata": {},
     "output_type": "execute_result"
    }
   ],
   "source": [
    "# Check the mean feasibility for each transition\n",
    "batch_results_agg = (batch_results\n",
    "                     .groupby('subject_ids')\n",
    "                     .agg({'feasibility_1-5': 'mean'})\n",
    "                     .reset_index())\n",
    "\n",
    "# Add occupation IDs \n",
    "batch_results_agg = batch_results_agg.merge(batch_results.drop_duplicates('subject_ids')[[\n",
    "    'origin_id', 'destination_id',\n",
    "    'origin_label', 'destination_label',\n",
    "    'subject_ids']], on=['subject_ids'], how='left')\n",
    "\n",
    "batch_results_agg.sample(5)"
   ]
  },
  {
   "cell_type": "code",
   "execution_count": 4,
   "metadata": {
    "ExecuteTime": {
     "end_time": "2021-01-12T10:24:17.286692Z",
     "start_time": "2021-01-12T10:24:17.278410Z"
    }
   },
   "outputs": [],
   "source": [
    "batch_results_agg = batch_results_agg.rename(columns={'feasibility_1-5': 'feasibility_mean'})"
   ]
  },
  {
   "cell_type": "markdown",
   "metadata": {},
   "source": [
    "# 1. Create features"
   ]
  },
  {
   "cell_type": "markdown",
   "metadata": {},
   "source": [
    "### 1.1 Transitions"
   ]
  },
  {
   "cell_type": "markdown",
   "metadata": {},
   "source": [
    "Here we obtain the work similarity and skill similarity scores."
   ]
  },
  {
   "cell_type": "code",
   "execution_count": 5,
   "metadata": {
    "ExecuteTime": {
     "end_time": "2021-01-12T10:25:37.515124Z",
     "start_time": "2021-01-12T10:24:17.293467Z"
    }
   },
   "outputs": [],
   "source": [
    "transition_pairs = zip(batch_results_agg['origin_id'], batch_results_agg['destination_id'])\n",
    "transitions_df = trans_utils.get_transition_data(transition_pairs)"
   ]
  },
  {
   "cell_type": "code",
   "execution_count": 6,
   "metadata": {
    "ExecuteTime": {
     "end_time": "2021-01-12T10:25:37.537646Z",
     "start_time": "2021-01-12T10:25:37.518773Z"
    }
   },
   "outputs": [],
   "source": [
    "transition_feature_cols = ['origin_id', 'destination_id', 'W_work', 'W_skills']\n",
    "transitions_df = transitions_df[transition_feature_cols]"
   ]
  },
  {
   "cell_type": "code",
   "execution_count": 7,
   "metadata": {
    "ExecuteTime": {
     "end_time": "2021-01-12T10:25:37.562276Z",
     "start_time": "2021-01-12T10:25:37.543403Z"
    }
   },
   "outputs": [],
   "source": [
    "transitions_df = transitions_df.merge(\n",
    "    batch_results_agg[['subject_ids', 'feasibility_mean', 'origin_id', 'destination_id']],\n",
    "    left_on=['origin_id', 'destination_id'],\n",
    "    right_on=['origin_id', 'destination_id'],\n",
    "                                     )"
   ]
  },
  {
   "cell_type": "code",
   "execution_count": 8,
   "metadata": {
    "ExecuteTime": {
     "end_time": "2021-01-12T10:25:37.577334Z",
     "start_time": "2021-01-12T10:25:37.567748Z"
    }
   },
   "outputs": [],
   "source": [
    "transitions_df = transitions_df.set_index('subject_ids')"
   ]
  },
  {
   "cell_type": "code",
   "execution_count": 9,
   "metadata": {
    "ExecuteTime": {
     "end_time": "2021-01-14T19:24:19.621171Z",
     "start_time": "2021-01-14T19:24:19.457412Z"
    }
   },
   "outputs": [
    {
     "data": {
      "text/html": [
       "<div>\n",
       "<style scoped>\n",
       "    .dataframe tbody tr th:only-of-type {\n",
       "        vertical-align: middle;\n",
       "    }\n",
       "\n",
       "    .dataframe tbody tr th {\n",
       "        vertical-align: top;\n",
       "    }\n",
       "\n",
       "    .dataframe thead th {\n",
       "        text-align: right;\n",
       "    }\n",
       "</style>\n",
       "<table border=\"1\" class=\"dataframe\">\n",
       "  <thead>\n",
       "    <tr style=\"text-align: right;\">\n",
       "      <th></th>\n",
       "      <th>origin_id</th>\n",
       "      <th>destination_id</th>\n",
       "      <th>W_work</th>\n",
       "      <th>W_skills</th>\n",
       "      <th>feasibility_mean</th>\n",
       "    </tr>\n",
       "    <tr>\n",
       "      <th>subject_ids</th>\n",
       "      <th></th>\n",
       "      <th></th>\n",
       "      <th></th>\n",
       "      <th></th>\n",
       "      <th></th>\n",
       "    </tr>\n",
       "  </thead>\n",
       "  <tbody>\n",
       "    <tr>\n",
       "      <th>52451278</th>\n",
       "      <td>29</td>\n",
       "      <td>2654</td>\n",
       "      <td>0.549595</td>\n",
       "      <td>0.118355</td>\n",
       "      <td>2.000000</td>\n",
       "    </tr>\n",
       "    <tr>\n",
       "      <th>52451279</th>\n",
       "      <td>29</td>\n",
       "      <td>1803</td>\n",
       "      <td>0.506951</td>\n",
       "      <td>0.132669</td>\n",
       "      <td>2.888889</td>\n",
       "    </tr>\n",
       "    <tr>\n",
       "      <th>52451280</th>\n",
       "      <td>29</td>\n",
       "      <td>1036</td>\n",
       "      <td>0.654659</td>\n",
       "      <td>0.073554</td>\n",
       "      <td>2.875000</td>\n",
       "    </tr>\n",
       "    <tr>\n",
       "      <th>52451281</th>\n",
       "      <td>29</td>\n",
       "      <td>2877</td>\n",
       "      <td>0.579094</td>\n",
       "      <td>0.125653</td>\n",
       "      <td>3.857143</td>\n",
       "    </tr>\n",
       "    <tr>\n",
       "      <th>52451282</th>\n",
       "      <td>29</td>\n",
       "      <td>2292</td>\n",
       "      <td>0.564219</td>\n",
       "      <td>0.069026</td>\n",
       "      <td>2.222222</td>\n",
       "    </tr>\n",
       "  </tbody>\n",
       "</table>\n",
       "</div>"
      ],
      "text/plain": [
       "             origin_id  destination_id    W_work  W_skills  feasibility_mean\n",
       "subject_ids                                                                 \n",
       "52451278            29            2654  0.549595  0.118355          2.000000\n",
       "52451279            29            1803  0.506951  0.132669          2.888889\n",
       "52451280            29            1036  0.654659  0.073554          2.875000\n",
       "52451281            29            2877  0.579094  0.125653          3.857143\n",
       "52451282            29            2292  0.564219  0.069026          2.222222"
      ]
     },
     "execution_count": 9,
     "metadata": {},
     "output_type": "execute_result"
    }
   ],
   "source": [
    "transitions_df.head()"
   ]
  },
  {
   "cell_type": "markdown",
   "metadata": {
    "ExecuteTime": {
     "end_time": "2021-01-07T18:44:51.389436Z",
     "start_time": "2021-01-07T18:44:51.382890Z"
    }
   },
   "source": [
    "### 1.2 Skills match distributions"
   ]
  },
  {
   "cell_type": "markdown",
   "metadata": {},
   "source": [
    "Here we calculate statistics about the distribution of best matched skill similarities for each transition."
   ]
  },
  {
   "cell_type": "code",
   "execution_count": null,
   "metadata": {
    "ExecuteTime": {
     "end_time": "2021-01-12T10:31:03.564993Z",
     "start_time": "2021-01-12T10:25:37.809303Z"
    }
   },
   "outputs": [],
   "source": [
    "transition_pairs = zip(batch_results_agg['subject_ids'], \n",
    "                       batch_results_agg['origin_id'], \n",
    "                       batch_results_agg['destination_id'])\n",
    "\n",
    "skills_matches = []\n",
    "\n",
    "for transition_id, origin_id, destination_id in transition_pairs:\n",
    "    try:\n",
    "        skills_matching = trans_utils.show_skills_overlap(origin_id, destination_id, \n",
    "                                                          skills_match='optional', verbose=False)\n",
    "        skills_matching['transition_id'] = transition_id\n",
    "        skills_matches.append(skills_matching)\n",
    "    except:\n",
    "        continue\n",
    "    \n",
    "skills_matches = pd.concat(skills_matches, axis=0)"
   ]
  },
  {
   "cell_type": "code",
   "execution_count": null,
   "metadata": {
    "ExecuteTime": {
     "end_time": "2021-01-12T17:49:18.099164Z",
     "start_time": "2021-01-12T17:49:17.946061Z"
    }
   },
   "outputs": [],
   "source": [
    "transitions_df['skill_similarity_10pc'] = (skills_matches\n",
    "                                           .set_index('transition_id')\n",
    "                                     .groupby('transition_id')['similarity']\n",
    "                                     .apply(lambda x: np.percentile(x, 10)))\n",
    "transitions_df['skill_similarity_mean'] = (skills_matches\n",
    "                                           .set_index('transition_id')\n",
    "                                     .groupby('transition_id')['similarity']\n",
    "                                     .mean())\n",
    "transitions_df['skill_similarity_90pc'] = (skills_matches\n",
    "                                           .set_index('transition_id')\n",
    "                                     .groupby('transition_id')['similarity']\n",
    "                                     .apply(lambda x: np.percentile(x, 90)))"
   ]
  },
  {
   "cell_type": "code",
   "execution_count": null,
   "metadata": {
    "ExecuteTime": {
     "end_time": "2021-01-12T11:35:32.878041Z",
     "start_time": "2021-01-12T11:35:32.805907Z"
    }
   },
   "outputs": [],
   "source": [
    "transitions_df['skill_similarity_90pc'] = (transitions_df['skill_similarity_90pc']\n",
    "                                           .fillna(transitions_df['skill_similarity_90pc'].mean()))\n",
    "transitions_df['skill_similarity_10pc'] = (transitions_df['skill_similarity_10pc']\n",
    "                                           .fillna(transitions_df['skill_similarity_10pc'].mean()))"
   ]
  },
  {
   "cell_type": "markdown",
   "metadata": {},
   "source": [
    "### 1.3 Job Similarities"
   ]
  },
  {
   "cell_type": "markdown",
   "metadata": {},
   "source": [
    "Here we calculate the cosine similarity between embeddings of the two job descriptions for each transitions."
   ]
  },
  {
   "cell_type": "code",
   "execution_count": null,
   "metadata": {
    "ExecuteTime": {
     "end_time": "2021-01-12T11:35:32.936531Z",
     "start_time": "2021-01-12T11:35:32.905150Z"
    }
   },
   "outputs": [],
   "source": [
    "from scipy.spatial.distance import cosine"
   ]
  },
  {
   "cell_type": "code",
   "execution_count": null,
   "metadata": {
    "ExecuteTime": {
     "end_time": "2021-01-12T11:35:32.992166Z",
     "start_time": "2021-01-12T11:35:32.943065Z"
    }
   },
   "outputs": [],
   "source": [
    "s = np.load(data_folder + 'interim/embeddings/embeddings_occupation_description_SBERT_bert-base-nli-mean-tokens.npy')\n",
    "ids = set(transitions_df['origin_id']).union(set(transitions_df['destination_id']))\n",
    "occ_embeddings = pd.DataFrame(s, index=ids)"
   ]
  },
  {
   "cell_type": "code",
   "execution_count": null,
   "metadata": {
    "ExecuteTime": {
     "end_time": "2021-01-12T11:35:36.519455Z",
     "start_time": "2021-01-12T11:35:32.994964Z"
    }
   },
   "outputs": [],
   "source": [
    "description_sims = []\n",
    "\n",
    "for o, d in zip(transitions_df['origin_id'], transitions_df['destination_id']):\n",
    "    v_o = occ_embeddings.loc[o].values\n",
    "    v_d = occ_embeddings.loc[d].values\n",
    "    description_sims.append(cosine(v_o, v_d))"
   ]
  },
  {
   "cell_type": "code",
   "execution_count": null,
   "metadata": {
    "ExecuteTime": {
     "end_time": "2021-01-12T11:35:36.552107Z",
     "start_time": "2021-01-12T11:35:36.528297Z"
    }
   },
   "outputs": [],
   "source": [
    "transitions_df['description_similarity'] = description_sims\n",
    "transitions_df['description_similarity'] = 1 - transitions_df['description_similarity']"
   ]
  },
  {
   "cell_type": "markdown",
   "metadata": {},
   "source": [
    "## 2. Analysis"
   ]
  },
  {
   "cell_type": "code",
   "execution_count": null,
   "metadata": {
    "ExecuteTime": {
     "end_time": "2021-01-14T19:26:57.261532Z",
     "start_time": "2021-01-14T19:26:57.250113Z"
    }
   },
   "outputs": [],
   "source": [
    "feature_cols = [ \n",
    "    'W_work',\n",
    "    'description_similarity',\n",
    "    'W_skills',\n",
    "    'skill_similarity_mean',\n",
    "    'skill_similarity_10pc',\n",
    "    'skill_similarity_90pc', \n",
    "                ]\n",
    "target_col = 'feasibility_mean'"
   ]
  },
  {
   "cell_type": "code",
   "execution_count": null,
   "metadata": {
    "ExecuteTime": {
     "end_time": "2021-01-14T19:26:59.738736Z",
     "start_time": "2021-01-14T19:26:57.723302Z"
    },
    "scrolled": false
   },
   "outputs": [],
   "source": [
    "fig, axs = plt.subplots(ncols=len(feature_cols), figsize=(2.5*len(feature_cols), 3))\n",
    "\n",
    "for ax, col in zip(axs, feature_cols):\n",
    "    ax.scatter(transitions_df[col], transitions_df[target_col], alpha=0.05)\n",
    "    ax.set_title(col)\n",
    "    ax.set_ylabel('mean_feasibility')\n",
    "    \n",
    "plt.tight_layout();"
   ]
  },
  {
   "cell_type": "code",
   "execution_count": null,
   "metadata": {
    "ExecuteTime": {
     "end_time": "2021-01-14T19:27:03.845609Z",
     "start_time": "2021-01-14T19:27:03.320194Z"
    }
   },
   "outputs": [],
   "source": [
    "fig, ax = plt.subplots(figsize=(6, 6))\n",
    "sns.heatmap(transitions_df[feature_cols].corr().abs(), annot=True, ax=ax, square=True);"
   ]
  },
  {
   "cell_type": "code",
   "execution_count": null,
   "metadata": {
    "ExecuteTime": {
     "end_time": "2021-01-14T19:27:05.493563Z",
     "start_time": "2021-01-14T19:27:05.258224Z"
    }
   },
   "outputs": [],
   "source": [
    "transitions_df[feature_cols + [target_col]].corr()[target_col].drop(target_col).abs().plot.barh();"
   ]
  },
  {
   "cell_type": "code",
   "execution_count": null,
   "metadata": {
    "ExecuteTime": {
     "end_time": "2021-01-14T19:27:32.926788Z",
     "start_time": "2021-01-14T19:27:23.393018Z"
    }
   },
   "outputs": [],
   "source": [
    "pd.plotting.scatter_matrix(transitions_df[feature_cols + [target_col]], figsize=(15, 15), alpha=0.15);"
   ]
  },
  {
   "cell_type": "markdown",
   "metadata": {},
   "source": [
    "## 3. Model"
   ]
  },
  {
   "cell_type": "markdown",
   "metadata": {},
   "source": [
    "Model to predict transition feasibility:\n",
    "\n",
    "- Create a binary vector of skill pairs to represent each job and train a regression model to predict feasibility\n",
    "- Create a model of averaged origin and destination skill embeddings and train a regression model to predict feasibility\n",
    "- Combination of similarity measures that we already have\n",
    "\n",
    "New features\n",
    "\n",
    "- Specialisation of skills (overall and adjusted overlap)"
   ]
  },
  {
   "cell_type": "code",
   "execution_count": null,
   "metadata": {
    "ExecuteTime": {
     "end_time": "2021-01-12T17:57:35.410202Z",
     "start_time": "2021-01-12T17:57:35.406127Z"
    }
   },
   "outputs": [],
   "source": [
    "from sklearn.linear_model import LinearRegression\n",
    "from sklearn.preprocessing import PolynomialFeatures\n",
    "from sklearn.pipeline import Pipeline\n",
    "from sklearn.model_selection import train_test_split\n",
    "from sklearn.metrics import r2_score, mean_squared_error\n",
    "from yellowbrick.regressor import ResidualsPlot"
   ]
  },
  {
   "cell_type": "code",
   "execution_count": null,
   "metadata": {
    "ExecuteTime": {
     "end_time": "2021-01-12T17:57:35.422350Z",
     "start_time": "2021-01-12T17:57:35.412507Z"
    }
   },
   "outputs": [],
   "source": [
    "for col in feature_cols:\n",
    "    transitions_df[col] = transitions_df[col].fillna(transitions_df[col].mean())"
   ]
  },
  {
   "cell_type": "code",
   "execution_count": null,
   "metadata": {
    "ExecuteTime": {
     "end_time": "2021-01-12T17:57:35.443274Z",
     "start_time": "2021-01-12T17:57:35.426730Z"
    }
   },
   "outputs": [],
   "source": [
    "X_train, X_test, y_train, y_test = train_test_split(transitions_df[feature_cols], \n",
    "                                                    transitions_df[target_col], \n",
    "                                                    random_state=0, test_size=0.2, train_size=0.8)"
   ]
  },
  {
   "cell_type": "markdown",
   "metadata": {},
   "source": [
    "### 3.1 Support Vector Regression"
   ]
  },
  {
   "cell_type": "code",
   "execution_count": null,
   "metadata": {
    "ExecuteTime": {
     "end_time": "2021-01-12T17:57:49.410466Z",
     "start_time": "2021-01-12T17:57:49.402592Z"
    }
   },
   "outputs": [],
   "source": [
    "from sklearn.svm import SVR\n",
    "from sklearn.model_selection import RandomizedSearchCV\n",
    "from scipy.stats import expon, loguniform, uniform\n",
    "from sklearn.metrics import mean_squared_error, SCORERS"
   ]
  },
  {
   "cell_type": "code",
   "execution_count": null,
   "metadata": {
    "ExecuteTime": {
     "end_time": "2021-01-12T18:04:53.924638Z",
     "start_time": "2021-01-12T18:04:53.903782Z"
    }
   },
   "outputs": [],
   "source": [
    "params = {\n",
    "    'C': loguniform(1e-1, 1e3),\n",
    "    'gamma': loguniform(1e-2, 1),\n",
    "    'epsilon': uniform(0, 1),\n",
    "    'kernel': ['rbf']\n",
    "         }\n",
    "\n",
    "svr = SVR()\n",
    "regressor = RandomizedSearchCV(\n",
    "    svr, n_iter=100, param_distributions=params, \n",
    "    scoring='neg_mean_squared_error', n_jobs=-2, \n",
    "    random_state=0, verbose=3)"
   ]
  },
  {
   "cell_type": "code",
   "execution_count": null,
   "metadata": {
    "ExecuteTime": {
     "end_time": "2021-01-12T18:08:18.996097Z",
     "start_time": "2021-01-12T18:04:55.059727Z"
    }
   },
   "outputs": [],
   "source": [
    "regressor.fit(X_train, y_train)"
   ]
  },
  {
   "cell_type": "code",
   "execution_count": null,
   "metadata": {
    "ExecuteTime": {
     "end_time": "2021-01-12T18:08:58.080584Z",
     "start_time": "2021-01-12T18:08:58.065230Z"
    }
   },
   "outputs": [],
   "source": [
    "best = regressor.best_estimator_"
   ]
  },
  {
   "cell_type": "markdown",
   "metadata": {},
   "source": [
    "### 3.2 Assess Model"
   ]
  },
  {
   "cell_type": "code",
   "execution_count": null,
   "metadata": {
    "ExecuteTime": {
     "end_time": "2021-01-12T18:09:00.429711Z",
     "start_time": "2021-01-12T18:08:58.704632Z"
    }
   },
   "outputs": [],
   "source": [
    "visualizer = ResidualsPlot(best)\n",
    "\n",
    "visualizer.fit(X_train, y_train)  # Fit the training data to the visualizer\n",
    "visualizer.score(X_test, y_test)  # Evaluate the model on the test data\n",
    "visualizer.show() "
   ]
  },
  {
   "cell_type": "code",
   "execution_count": null,
   "metadata": {
    "ExecuteTime": {
     "end_time": "2021-01-12T18:15:36.431622Z",
     "start_time": "2021-01-12T18:15:36.298133Z"
    }
   },
   "outputs": [],
   "source": [
    "y_pred = best.predict(X_test)\n",
    "\n",
    "print('Mean squared error: %.2f'\n",
    "      % mean_squared_error(y_test, y_pred))\n",
    "# The coefficient of determination: 1 is perfect prediction\n",
    "print('Coefficient of determination: %.2f'\n",
    "      % r2_score(y_test, y_pred))"
   ]
  },
  {
   "cell_type": "code",
   "execution_count": null,
   "metadata": {
    "ExecuteTime": {
     "end_time": "2021-01-12T18:15:39.486365Z",
     "start_time": "2021-01-12T18:15:39.477224Z"
    }
   },
   "outputs": [],
   "source": [
    "best.get_params()"
   ]
  },
  {
   "cell_type": "code",
   "execution_count": null,
   "metadata": {
    "ExecuteTime": {
     "end_time": "2021-01-12T18:21:21.377559Z",
     "start_time": "2021-01-12T18:21:21.360550Z"
    }
   },
   "outputs": [],
   "source": [
    "print(classification_report(y_test >= 2.5, y_pred >= 2.5))"
   ]
  },
  {
   "cell_type": "markdown",
   "metadata": {},
   "source": [
    "### Final Fit"
   ]
  },
  {
   "cell_type": "code",
   "execution_count": null,
   "metadata": {
    "ExecuteTime": {
     "end_time": "2021-01-13T12:52:24.102737Z",
     "start_time": "2021-01-13T12:52:21.253658Z"
    }
   },
   "outputs": [],
   "source": [
    "best.fit(transitions_df[feature_cols], transitions_df[target_col])"
   ]
  },
  {
   "cell_type": "markdown",
   "metadata": {},
   "source": [
    "## 4. Feasibility Threshold"
   ]
  },
  {
   "cell_type": "code",
   "execution_count": null,
   "metadata": {
    "ExecuteTime": {
     "end_time": "2021-01-13T17:58:46.842027Z",
     "start_time": "2021-01-13T17:58:46.340969Z"
    }
   },
   "outputs": [],
   "source": [
    "checked_df = pd.read_csv(data_folder + 'restricted/validation/test_transitions_checked.csv')"
   ]
  },
  {
   "cell_type": "code",
   "execution_count": null,
   "metadata": {
    "ExecuteTime": {
     "end_time": "2021-01-13T17:59:20.611981Z",
     "start_time": "2021-01-13T17:59:20.598534Z"
    }
   },
   "outputs": [],
   "source": [
    "checked_df = checked_df.dropna(subset=['feasible? y/n'])\n",
    "\n",
    "checked_df = checked_df.merge(test_df, left_on=['origin_id', 'destination_id'],\n",
    "              right_on=['origin_id', 'destination_id'],\n",
    "              how='left')"
   ]
  },
  {
   "cell_type": "code",
   "execution_count": null,
   "metadata": {
    "ExecuteTime": {
     "end_time": "2021-01-14T19:30:29.550121Z",
     "start_time": "2021-01-14T19:30:29.150260Z"
    },
    "scrolled": false
   },
   "outputs": [],
   "source": [
    "fig, ax = plt.subplots()\n",
    "sns.histplot(checked_df, x='feasibility_pred', hue='feasible? y/n', ax=ax)\n",
    "\n",
    "ax.set_xlabel('Predicted Feasibility Score (model)');"
   ]
  },
  {
   "cell_type": "code",
   "execution_count": null,
   "metadata": {
    "ExecuteTime": {
     "end_time": "2021-01-14T19:30:39.928537Z",
     "start_time": "2021-01-14T19:30:39.676416Z"
    }
   },
   "outputs": [],
   "source": [
    "checked_df['bin'] = pd.cut(checked_df['feasibility_pred'], bins=np.arange(1.25, 3.25, 0.125))\n",
    "checked_df['is_feasible'] = checked_df['feasible? y/n'].map({'y':1, 'n': 0})\n",
    "\n",
    "checked_df.groupby('bin')['is_feasible'].mean().plot.bar();"
   ]
  },
  {
   "cell_type": "code",
   "execution_count": null,
   "metadata": {
    "ExecuteTime": {
     "end_time": "2021-01-14T17:31:31.069100Z",
     "start_time": "2021-01-14T17:31:31.031128Z"
    }
   },
   "outputs": [],
   "source": [
    "transitions_df[(transitions_df['feasibility_pc_gt_2'] == 0.5)]['feasibility_mean'].mean()"
   ]
  },
  {
   "cell_type": "code",
   "execution_count": null,
   "metadata": {
    "ExecuteTime": {
     "end_time": "2021-01-14T19:32:41.835186Z",
     "start_time": "2021-01-14T19:32:41.509835Z"
    }
   },
   "outputs": [],
   "source": [
    "bins = pd.cut(transitions_df['feasibility_mean'], bins=np.arange(1.25, 3.25, 0.125))\n",
    "\n",
    "transitions_df.groupby(bins)['feasibility_pc_gt_2'].mean().plot.bar();"
   ]
  },
  {
   "cell_type": "code",
   "execution_count": null,
   "metadata": {},
   "outputs": [],
   "source": []
  }
 ],
 "metadata": {
  "kernelspec": {
   "display_name": "Python 3",
   "language": "python",
   "name": "python3"
  },
  "language_info": {
   "codemirror_mode": {
    "name": "ipython",
    "version": 3
   },
   "file_extension": ".py",
   "mimetype": "text/x-python",
   "name": "python",
   "nbconvert_exporter": "python",
   "pygments_lexer": "ipython3",
   "version": "3.6.5"
  }
 },
 "nbformat": 4,
 "nbformat_minor": 4
}

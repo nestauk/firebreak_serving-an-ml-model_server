{
 "cells": [
  {
   "cell_type": "markdown",
   "metadata": {},
   "source": [
    "# Linking UK SOC and ISCO-08 frameworks\n",
    "\n",
    "In the following, we derive two options for crosswalking labour market data associated with UK SOC codes to the ESCO occupations, and we check which option covers better the full set of ESCO occupations and their four-digit ISCO occupational codes. \n"
   ]
  },
  {
   "cell_type": "markdown",
   "metadata": {},
   "source": [
    "# 0. Import dependencies and inputs"
   ]
  },
  {
   "cell_type": "code",
   "execution_count": 7,
   "metadata": {},
   "outputs": [],
   "source": [
    "%run ../notebook_preamble.ipy"
   ]
  },
  {
   "cell_type": "code",
   "execution_count": 22,
   "metadata": {},
   "outputs": [],
   "source": [
    "# Import all ESCO occupations\n",
    "occupations = pd.read_csv(data_folder + 'processed/ESCO_occupational_hierarchy/ESCO_occupational_hierarchy.csv')\n",
    "\n",
    "# Import the subset of ESCO occupations analysed in the project report\n",
    "occupations_risk = pd.read_csv(data_folder + 'processed/ESCO_automation_risk.csv')\n",
    "\n",
    "# Import ONS crosswalk between SOC2010 to ISCO-08\n",
    "soc_to_isco_v1 = pd.read_excel(\n",
    "    data_folder + 'raw/ons/soc2010_to_isco08.xlsx',\n",
    "    sheet_name='SOC2010')\n",
    "\n",
    "# Import the latest UK SOC coding index (at the time of doing the analysis)\n",
    "soc_to_isco_v2 = pd.read_excel(\n",
    "    data_folder + 'raw/ons/soc2020volume2thecodingindex140220.xlsx',\n",
    "    sheet_name = 'SOC2020 coding index')\n",
    "\n",
    "# Import ISCO occupational category titles\n",
    "isco_titles = pd.read_csv(f'{data_folder}processed/ISCO_occupation_titles.csv')"
   ]
  },
  {
   "cell_type": "markdown",
   "metadata": {},
   "source": [
    "# 1. Inspect options for crosswalking data linked to UK SOC to ESCO"
   ]
  },
  {
   "cell_type": "markdown",
   "metadata": {},
   "source": [
    "## 1.1 ONS official crosswalk between UK SOC 2010 and ISCO-08\n",
    "\n",
    "The first option uses the official crosswalk between UK SOC 2010 and ISCO-08 classifications, obtained from [here](https://www.ons.gov.uk/methodology/classificationsandstandards/standardoccupationalclassificationsoc/soc2010). \n"
   ]
  },
  {
   "cell_type": "code",
   "execution_count": 9,
   "metadata": {},
   "outputs": [
    {
     "data": {
      "text/html": [
       "<div>\n",
       "<style scoped>\n",
       "    .dataframe tbody tr th:only-of-type {\n",
       "        vertical-align: middle;\n",
       "    }\n",
       "\n",
       "    .dataframe tbody tr th {\n",
       "        vertical-align: top;\n",
       "    }\n",
       "\n",
       "    .dataframe thead th {\n",
       "        text-align: right;\n",
       "    }\n",
       "</style>\n",
       "<table border=\"1\" class=\"dataframe\">\n",
       "  <thead>\n",
       "    <tr style=\"text-align: right;\">\n",
       "      <th></th>\n",
       "      <th>soc10</th>\n",
       "      <th>isco</th>\n",
       "      <th>prop</th>\n",
       "    </tr>\n",
       "  </thead>\n",
       "  <tbody>\n",
       "    <tr>\n",
       "      <th>0</th>\n",
       "      <td>1115</td>\n",
       "      <td>1120</td>\n",
       "      <td>1.0</td>\n",
       "    </tr>\n",
       "    <tr>\n",
       "      <th>1</th>\n",
       "      <td>1116</td>\n",
       "      <td>1111</td>\n",
       "      <td>1.0</td>\n",
       "    </tr>\n",
       "    <tr>\n",
       "      <th>2</th>\n",
       "      <td>1121</td>\n",
       "      <td>1321</td>\n",
       "      <td>1.0</td>\n",
       "    </tr>\n",
       "  </tbody>\n",
       "</table>\n",
       "</div>"
      ],
      "text/plain": [
       "   soc10  isco  prop\n",
       "0   1115  1120   1.0\n",
       "1   1116  1111   1.0\n",
       "2   1121  1321   1.0"
      ]
     },
     "execution_count": 9,
     "metadata": {},
     "output_type": "execute_result"
    }
   ],
   "source": [
    "# Organise the crosswalk table\n",
    "soc_to_isco_v1_concat = pd.concat([\n",
    "    soc_to_isco_v1[['SOC2010','ISCO08_A', '% A']].rename(columns={'SOC2010': 'soc10', 'ISCO08_A': 'isco', '% A': 'prop'}),\n",
    "    soc_to_isco_v1[['SOC2010','ISCO08_B', '% B']].rename(columns={'SOC2010': 'soc10', 'ISCO08_B': 'isco', '% B': 'prop'}),\n",
    "], axis=0)\n",
    "soc_to_isco_v1_concat = soc_to_isco_v1_concat[-soc_to_isco_v1_concat.isco.isnull()]\n",
    "soc_to_isco_v1_concat.isco = soc_to_isco_v1_concat.isco.astype(int)\n",
    "\n",
    "# Crosswalk dataframe\n",
    "soc_to_isco_v1_concat.head(3)\n"
   ]
  },
  {
   "cell_type": "code",
   "execution_count": 36,
   "metadata": {},
   "outputs": [],
   "source": [
    "soc_to_isco_v1_concat.to_csv(data_folder + 'processed/linked_data/uksoc2010_to_isco08_official.csv', index=False)"
   ]
  },
  {
   "cell_type": "markdown",
   "metadata": {},
   "source": [
    "Note: The `prop` column indicates the proportion of workers with the ISCO code that have been mapped to the UK SOC code (vast majority of the mappings are one to one).\n",
    "\n",
    "### Check the coverage of the first crosswalk"
   ]
  },
  {
   "cell_type": "code",
   "execution_count": 10,
   "metadata": {},
   "outputs": [],
   "source": [
    "# Unique four-digit ISCO codes in the crosswalk\n",
    "set_of_isco_codes_v1 = set(soc_to_isco_v1_concat.isco.unique())"
   ]
  },
  {
   "cell_type": "code",
   "execution_count": 11,
   "metadata": {},
   "outputs": [],
   "source": [
    "def check_coverage(set_of_isco_codes):\n",
    "    \n",
    "    \"\"\" Helper function to check coverage of the ISCO and ESCO occupations by the provided set of ISCO codes \"\"\"\n",
    "    \n",
    "    # Fraction of all four-digit ESCO ISCO codes that are covered by the ONS crosswalk\n",
    "    esco_set_all = set(occupations.isco_level_4.unique());\n",
    "    print(f\"Fraction of all ESCO occupations' ISCO codes: {np.round(len(esco_set_all.intersection(set_of_isco_codes))/len(esco_set_all),2)}\")\n",
    "\n",
    "    # Fraction of all four-digit ISCO codes for 'top level' ESCO occupations that were analysed in the report\n",
    "    esco_set_top = set(occupations_risk.isco_code.unique());\n",
    "    print(f\"Fraction of top level occupations' ISCO codes: {np.round(len(esco_set_top.intersection(set_of_isco_codes))/len(esco_set_top),2)}\")\n",
    "\n",
    "    print('----')\n",
    "\n",
    "    # Fraction of all ESCO occupations that are covered\n",
    "    print(f'Fraction of all ESCO occupations: {np.round(np.sum(occupations.isco_level_4.isin(list(set_of_isco_codes))) / len(occupations),2)}')\n",
    "\n",
    "    # Fraction of all four-digit ISCO codes for 'top level' ESCO occupations that were analysed in the report\n",
    "    print(f'Fraction of top level ESCO occupations: {np.round(np.sum(occupations_risk.isco_code.isin(list(set_of_isco_codes))) / len(occupations_risk),2)}')\n"
   ]
  },
  {
   "cell_type": "code",
   "execution_count": 12,
   "metadata": {},
   "outputs": [
    {
     "name": "stdout",
     "output_type": "stream",
     "text": [
      "Fraction of all ESCO occupations' ISCO codes: 0.68\n",
      "Fraction of top level occupations' ISCO codes: 0.68\n",
      "----\n",
      "Fraction of all ESCO occupations: 0.8\n",
      "Fraction of top level ESCO occupations: 0.75\n"
     ]
    }
   ],
   "source": [
    "check_coverage(set_of_isco_codes_v1)"
   ]
  },
  {
   "cell_type": "markdown",
   "metadata": {},
   "source": [
    "Note: this crosswalk covers about two-thirds of the ISCO four-digit occupations in the ESCO dataset. As a result, we would miss labour market data on around 400 'top level' ESCO occupations. Hence, we explore below an alternative approach using the coding index."
   ]
  },
  {
   "cell_type": "markdown",
   "metadata": {},
   "source": [
    "## 1.2 UK SOC2010 coding index\n",
    "\n",
    "The second crosswalking option leverages the correspondence between various UK SOC and ISCO-08 codes found in the UK SOC coding index, obtained from [here](https://www.ons.gov.uk/methodology/classificationsandstandards/standardoccupationalclassificationsoc/soc2010/soc2010volume2thestructureandcodingindex)."
   ]
  },
  {
   "cell_type": "code",
   "execution_count": 13,
   "metadata": {},
   "outputs": [
    {
     "name": "stdout",
     "output_type": "stream",
     "text": [
      "27248\n"
     ]
    }
   ],
   "source": [
    "# Select relevant columns and rename\n",
    "soc_to_isco = soc_to_isco_v2[['SOC\\n2010', 'INDEXOCC', 'ISCO-08 code based on SOC2020']].copy()\n",
    "soc_to_isco.rename(columns={\n",
    "    'SOC\\n2010': 'soc10',\n",
    "    'ISCO-08 code based on SOC2020': 'isco',\n",
    "    'INDEXOCC': 'title'}, inplace=True)\n",
    "\n",
    "# Remove empty columns\n",
    "soc_to_isco = soc_to_isco[-soc_to_isco.isco.isnull()]\n",
    "soc_to_isco = soc_to_isco[soc_to_isco.soc10!='}}}}']\n",
    "\n",
    "# Convert codes to integers\n",
    "soc_to_isco.isco = soc_to_isco.isco.apply(lambda x: int(x))\n",
    "soc_to_isco.soc10 = soc_to_isco.soc10.apply(lambda x: int(x))\n",
    "\n",
    "# Remove duplicates\n",
    "soc_to_isco.drop_duplicates(inplace=True)\n",
    "print(len(soc_to_isco))"
   ]
  },
  {
   "cell_type": "code",
   "execution_count": 23,
   "metadata": {},
   "outputs": [
    {
     "data": {
      "text/html": [
       "<div>\n",
       "<style scoped>\n",
       "    .dataframe tbody tr th:only-of-type {\n",
       "        vertical-align: middle;\n",
       "    }\n",
       "\n",
       "    .dataframe tbody tr th {\n",
       "        vertical-align: top;\n",
       "    }\n",
       "\n",
       "    .dataframe thead th {\n",
       "        text-align: right;\n",
       "    }\n",
       "</style>\n",
       "<table border=\"1\" class=\"dataframe\">\n",
       "  <thead>\n",
       "    <tr style=\"text-align: right;\">\n",
       "      <th></th>\n",
       "      <th>isco</th>\n",
       "      <th>isco_title</th>\n",
       "      <th>level</th>\n",
       "    </tr>\n",
       "  </thead>\n",
       "  <tbody>\n",
       "    <tr>\n",
       "      <th>198</th>\n",
       "      <td>1344</td>\n",
       "      <td>Social welfare managers</td>\n",
       "      <td>4</td>\n",
       "    </tr>\n",
       "  </tbody>\n",
       "</table>\n",
       "</div>"
      ],
      "text/plain": [
       "     isco               isco_title  level\n",
       "198  1344  Social welfare managers      4"
      ]
     },
     "execution_count": 23,
     "metadata": {},
     "output_type": "execute_result"
    }
   ],
   "source": [
    "isco_titles.sample()"
   ]
  },
  {
   "cell_type": "code",
   "execution_count": 28,
   "metadata": {},
   "outputs": [],
   "source": [
    "# Add ISCO occupational category titles to the crosswalk table\n",
    "soc_to_isco_title = soc_to_isco.merge(isco_titles[['isco', 'isco_title']], on='isco', how='left')"
   ]
  },
  {
   "cell_type": "code",
   "execution_count": 29,
   "metadata": {},
   "outputs": [
    {
     "data": {
      "text/html": [
       "<div>\n",
       "<style scoped>\n",
       "    .dataframe tbody tr th:only-of-type {\n",
       "        vertical-align: middle;\n",
       "    }\n",
       "\n",
       "    .dataframe tbody tr th {\n",
       "        vertical-align: top;\n",
       "    }\n",
       "\n",
       "    .dataframe thead th {\n",
       "        text-align: right;\n",
       "    }\n",
       "</style>\n",
       "<table border=\"1\" class=\"dataframe\">\n",
       "  <thead>\n",
       "    <tr style=\"text-align: right;\">\n",
       "      <th></th>\n",
       "      <th>soc10</th>\n",
       "      <th>title</th>\n",
       "      <th>isco</th>\n",
       "      <th>isco_title</th>\n",
       "    </tr>\n",
       "  </thead>\n",
       "  <tbody>\n",
       "    <tr>\n",
       "      <th>23827</th>\n",
       "      <td>6219</td>\n",
       "      <td>Steward, chief</td>\n",
       "      <td>5111</td>\n",
       "      <td>Travel attendants and travel stewards</td>\n",
       "    </tr>\n",
       "    <tr>\n",
       "      <th>19972</th>\n",
       "      <td>9272</td>\n",
       "      <td>Orderly, kitchen</td>\n",
       "      <td>9412</td>\n",
       "      <td>Kitchen helpers</td>\n",
       "    </tr>\n",
       "    <tr>\n",
       "      <th>20913</th>\n",
       "      <td>9260</td>\n",
       "      <td>Porter, food</td>\n",
       "      <td>9333</td>\n",
       "      <td>Freight handlers</td>\n",
       "    </tr>\n",
       "    <tr>\n",
       "      <th>22710</th>\n",
       "      <td>4114</td>\n",
       "      <td>Secretary, financial</td>\n",
       "      <td>4120</td>\n",
       "      <td>Secretaries (general)</td>\n",
       "    </tr>\n",
       "    <tr>\n",
       "      <th>26243</th>\n",
       "      <td>9260</td>\n",
       "      <td>Waterman, dock</td>\n",
       "      <td>9333</td>\n",
       "      <td>Freight handlers</td>\n",
       "    </tr>\n",
       "    <tr>\n",
       "      <th>11984</th>\n",
       "      <td>5330</td>\n",
       "      <td>Inspector, line, pipe</td>\n",
       "      <td>3123</td>\n",
       "      <td>Construction supervisors</td>\n",
       "    </tr>\n",
       "    <tr>\n",
       "      <th>10867</th>\n",
       "      <td>5221</td>\n",
       "      <td>Grinder, tool and cutter</td>\n",
       "      <td>7224</td>\n",
       "      <td>Metal polishers, wheel grinders and tool sharp...</td>\n",
       "    </tr>\n",
       "    <tr>\n",
       "      <th>11595</th>\n",
       "      <td>8127</td>\n",
       "      <td>Helper, printer's</td>\n",
       "      <td>7322</td>\n",
       "      <td>Printers</td>\n",
       "    </tr>\n",
       "    <tr>\n",
       "      <th>24462</th>\n",
       "      <td>6211</td>\n",
       "      <td>Supervisor, services, visitor</td>\n",
       "      <td>5113</td>\n",
       "      <td>Travel guides</td>\n",
       "    </tr>\n",
       "    <tr>\n",
       "      <th>25775</th>\n",
       "      <td>5223</td>\n",
       "      <td>Tuner, loom</td>\n",
       "      <td>8152</td>\n",
       "      <td>Weaving and knitting machine operators</td>\n",
       "    </tr>\n",
       "  </tbody>\n",
       "</table>\n",
       "</div>"
      ],
      "text/plain": [
       "       soc10                          title  isco  \\\n",
       "23827   6219                 Steward, chief  5111   \n",
       "19972   9272               Orderly, kitchen  9412   \n",
       "20913   9260                   Porter, food  9333   \n",
       "22710   4114           Secretary, financial  4120   \n",
       "26243   9260                 Waterman, dock  9333   \n",
       "11984   5330          Inspector, line, pipe  3123   \n",
       "10867   5221       Grinder, tool and cutter  7224   \n",
       "11595   8127              Helper, printer's  7322   \n",
       "24462   6211  Supervisor, services, visitor  5113   \n",
       "25775   5223                    Tuner, loom  8152   \n",
       "\n",
       "                                              isco_title  \n",
       "23827              Travel attendants and travel stewards  \n",
       "19972                                    Kitchen helpers  \n",
       "20913                                   Freight handlers  \n",
       "22710                              Secretaries (general)  \n",
       "26243                                   Freight handlers  \n",
       "11984                           Construction supervisors  \n",
       "10867  Metal polishers, wheel grinders and tool sharp...  \n",
       "11595                                           Printers  \n",
       "24462                                      Travel guides  \n",
       "25775             Weaving and knitting machine operators  "
      ]
     },
     "execution_count": 29,
     "metadata": {},
     "output_type": "execute_result"
    }
   ],
   "source": [
    "soc_to_isco_title.sample(10)"
   ]
  },
  {
   "cell_type": "markdown",
   "metadata": {},
   "source": [
    "### Check the coverage of the second \"crosswalk\" (inferred from the coding index)"
   ]
  },
  {
   "cell_type": "code",
   "execution_count": 30,
   "metadata": {},
   "outputs": [],
   "source": [
    "set_of_isco_codes_v2 = set(soc_to_isco.isco.unique())"
   ]
  },
  {
   "cell_type": "code",
   "execution_count": 31,
   "metadata": {},
   "outputs": [
    {
     "name": "stdout",
     "output_type": "stream",
     "text": [
      "Fraction of all ESCO occupations' ISCO codes: 0.99\n",
      "Fraction of top level occupations' ISCO codes: 0.99\n",
      "----\n",
      "Fraction of all ESCO occupations: 1.0\n",
      "Fraction of top level ESCO occupations: 1.0\n"
     ]
    }
   ],
   "source": [
    "check_coverage(set_of_isco_codes_v2)"
   ]
  },
  {
   "cell_type": "markdown",
   "metadata": {},
   "source": [
    "Note: This exercise shows that the approach using the coding index provides practically full coverage of the ESCO occupations and their ISCO codes. Hence, in the following we used this approach.\n",
    "\n",
    "That said, this approach has a limited precision, as many SOC codes can be mapped to the same ISCO codes and vice versa (see below). This crosswalk does not account for the relative contribution of each particular UK SOC code to the make-up of the ISCO occupations. With that in mind, the derived earnings and hours estimates of ESCO occupations should be seen as indicative approximations. \n",
    "\n",
    "Further work could combine both crosswalking approaches, with the coding index approach filling the gaps left by the official crosswalk. Alternatively, in the longer term, real time estimates of salaries could be derived from online job posting data, by linking job postings to ESCO occupations."
   ]
  },
  {
   "cell_type": "code",
   "execution_count": 33,
   "metadata": {},
   "outputs": [
    {
     "data": {
      "text/html": [
       "<div>\n",
       "<style scoped>\n",
       "    .dataframe tbody tr th:only-of-type {\n",
       "        vertical-align: middle;\n",
       "    }\n",
       "\n",
       "    .dataframe tbody tr th {\n",
       "        vertical-align: top;\n",
       "    }\n",
       "\n",
       "    .dataframe thead th {\n",
       "        text-align: right;\n",
       "    }\n",
       "</style>\n",
       "<table border=\"1\" class=\"dataframe\">\n",
       "  <thead>\n",
       "    <tr style=\"text-align: right;\">\n",
       "      <th></th>\n",
       "      <th>soc10</th>\n",
       "      <th>title</th>\n",
       "      <th>isco</th>\n",
       "      <th>isco_title</th>\n",
       "    </tr>\n",
       "  </thead>\n",
       "  <tbody>\n",
       "    <tr>\n",
       "      <th>326</th>\n",
       "      <td>2113</td>\n",
       "      <td>Adviser, geological</td>\n",
       "      <td>2114</td>\n",
       "      <td>Geologists and geophysicists</td>\n",
       "    </tr>\n",
       "    <tr>\n",
       "      <th>384</th>\n",
       "      <td>2113</td>\n",
       "      <td>Adviser, protection, radiation</td>\n",
       "      <td>2263</td>\n",
       "      <td>Environmental and occupational health and hygi...</td>\n",
       "    </tr>\n",
       "    <tr>\n",
       "      <th>473</th>\n",
       "      <td>2113</td>\n",
       "      <td>Aerodynamicist</td>\n",
       "      <td>2111</td>\n",
       "      <td>Physicists and astronomers</td>\n",
       "    </tr>\n",
       "    <tr>\n",
       "      <th>1736</th>\n",
       "      <td>2113</td>\n",
       "      <td>Assistant, meteorological</td>\n",
       "      <td>2112</td>\n",
       "      <td>Meteorologists</td>\n",
       "    </tr>\n",
       "    <tr>\n",
       "      <th>3188</th>\n",
       "      <td>2113</td>\n",
       "      <td>Biophysicist</td>\n",
       "      <td>2131</td>\n",
       "      <td>Biologists, botanists, zoologists and related ...</td>\n",
       "    </tr>\n",
       "    <tr>\n",
       "      <th>6103</th>\n",
       "      <td>2113</td>\n",
       "      <td>Crystallographer</td>\n",
       "      <td>2113</td>\n",
       "      <td>Chemists</td>\n",
       "    </tr>\n",
       "    <tr>\n",
       "      <th>16440</th>\n",
       "      <td>2113</td>\n",
       "      <td>Manager, research</td>\n",
       "      <td>1223</td>\n",
       "      <td>Research and development managers</td>\n",
       "    </tr>\n",
       "    <tr>\n",
       "      <th>20491</th>\n",
       "      <td>2113</td>\n",
       "      <td>Physicist, medical</td>\n",
       "      <td>2269</td>\n",
       "      <td>Health professionals not elsewhere classified</td>\n",
       "    </tr>\n",
       "  </tbody>\n",
       "</table>\n",
       "</div>"
      ],
      "text/plain": [
       "       soc10                           title  isco  \\\n",
       "326     2113             Adviser, geological  2114   \n",
       "384     2113  Adviser, protection, radiation  2263   \n",
       "473     2113                  Aerodynamicist  2111   \n",
       "1736    2113       Assistant, meteorological  2112   \n",
       "3188    2113                    Biophysicist  2131   \n",
       "6103    2113                Crystallographer  2113   \n",
       "16440   2113               Manager, research  1223   \n",
       "20491   2113              Physicist, medical  2269   \n",
       "\n",
       "                                              isco_title  \n",
       "326                         Geologists and geophysicists  \n",
       "384    Environmental and occupational health and hygi...  \n",
       "473                           Physicists and astronomers  \n",
       "1736                                      Meteorologists  \n",
       "3188   Biologists, botanists, zoologists and related ...  \n",
       "6103                                            Chemists  \n",
       "16440                  Research and development managers  \n",
       "20491      Health professionals not elsewhere classified  "
      ]
     },
     "execution_count": 33,
     "metadata": {},
     "output_type": "execute_result"
    }
   ],
   "source": [
    "# Note that the same SOC10 can be mapped to different ISCO codes, and vice-versa;\n",
    "soc_to_isco_title[soc_to_isco_title.soc10==2113].drop_duplicates('isco')"
   ]
  },
  {
   "cell_type": "code",
   "execution_count": 34,
   "metadata": {},
   "outputs": [
    {
     "data": {
      "text/html": [
       "<div>\n",
       "<style scoped>\n",
       "    .dataframe tbody tr th:only-of-type {\n",
       "        vertical-align: middle;\n",
       "    }\n",
       "\n",
       "    .dataframe tbody tr th {\n",
       "        vertical-align: top;\n",
       "    }\n",
       "\n",
       "    .dataframe thead th {\n",
       "        text-align: right;\n",
       "    }\n",
       "</style>\n",
       "<table border=\"1\" class=\"dataframe\">\n",
       "  <thead>\n",
       "    <tr style=\"text-align: right;\">\n",
       "      <th></th>\n",
       "      <th>soc10</th>\n",
       "      <th>title</th>\n",
       "      <th>isco</th>\n",
       "      <th>isco_title</th>\n",
       "    </tr>\n",
       "  </thead>\n",
       "  <tbody>\n",
       "    <tr>\n",
       "      <th>313</th>\n",
       "      <td>3567</td>\n",
       "      <td>Adviser, EHS</td>\n",
       "      <td>2263</td>\n",
       "      <td>Environmental and occupational health and hygi...</td>\n",
       "    </tr>\n",
       "    <tr>\n",
       "      <th>328</th>\n",
       "      <td>2219</td>\n",
       "      <td>Adviser, health, occupational</td>\n",
       "      <td>2263</td>\n",
       "      <td>Environmental and occupational health and hygi...</td>\n",
       "    </tr>\n",
       "    <tr>\n",
       "      <th>384</th>\n",
       "      <td>2113</td>\n",
       "      <td>Adviser, protection, radiation</td>\n",
       "      <td>2263</td>\n",
       "      <td>Environmental and occupational health and hygi...</td>\n",
       "    </tr>\n",
       "    <tr>\n",
       "      <th>16056</th>\n",
       "      <td>2463</td>\n",
       "      <td>Manager, health, environmental</td>\n",
       "      <td>2263</td>\n",
       "      <td>Environmental and occupational health and hygi...</td>\n",
       "    </tr>\n",
       "    <tr>\n",
       "      <th>16483</th>\n",
       "      <td>1259</td>\n",
       "      <td>Manager, safety, crowd</td>\n",
       "      <td>2263</td>\n",
       "      <td>Environmental and occupational health and hygi...</td>\n",
       "    </tr>\n",
       "    <tr>\n",
       "      <th>18910</th>\n",
       "      <td>3563</td>\n",
       "      <td>Officer, safety and training</td>\n",
       "      <td>2263</td>\n",
       "      <td>Environmental and occupational health and hygi...</td>\n",
       "    </tr>\n",
       "  </tbody>\n",
       "</table>\n",
       "</div>"
      ],
      "text/plain": [
       "       soc10                           title  isco  \\\n",
       "313     3567                    Adviser, EHS  2263   \n",
       "328     2219   Adviser, health, occupational  2263   \n",
       "384     2113  Adviser, protection, radiation  2263   \n",
       "16056   2463  Manager, health, environmental  2263   \n",
       "16483   1259          Manager, safety, crowd  2263   \n",
       "18910   3563    Officer, safety and training  2263   \n",
       "\n",
       "                                              isco_title  \n",
       "313    Environmental and occupational health and hygi...  \n",
       "328    Environmental and occupational health and hygi...  \n",
       "384    Environmental and occupational health and hygi...  \n",
       "16056  Environmental and occupational health and hygi...  \n",
       "16483  Environmental and occupational health and hygi...  \n",
       "18910  Environmental and occupational health and hygi...  "
      ]
     },
     "execution_count": 34,
     "metadata": {},
     "output_type": "execute_result"
    }
   ],
   "source": [
    "soc_to_isco_title[soc_to_isco_title.isco==2263].drop_duplicates('soc10')"
   ]
  },
  {
   "cell_type": "markdown",
   "metadata": {},
   "source": [
    "## 1.3 Export the UK SOC to ISCO correspondence table"
   ]
  },
  {
   "cell_type": "code",
   "execution_count": 37,
   "metadata": {},
   "outputs": [],
   "source": [
    "# Export the full coding-index based crosswalk\n",
    "soc_to_isco_title.to_csv(data_folder + 'processed/linked_data/UKSOC2010_to_ISCO08_coding_index.csv', index=False)"
   ]
  },
  {
   "cell_type": "code",
   "execution_count": null,
   "metadata": {},
   "outputs": [],
   "source": []
  }
 ],
 "metadata": {
  "kernelspec": {
   "display_name": "Python 3",
   "language": "python",
   "name": "python3"
  },
  "language_info": {
   "codemirror_mode": {
    "name": "ipython",
    "version": 3
   },
   "file_extension": ".py",
   "mimetype": "text/x-python",
   "name": "python",
   "nbconvert_exporter": "python",
   "pygments_lexer": "ipython3",
   "version": "3.6.5"
  }
 },
 "nbformat": 4,
 "nbformat_minor": 2
}
